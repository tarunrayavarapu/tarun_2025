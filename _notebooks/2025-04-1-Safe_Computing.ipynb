{
 "cells": [
  {
   "cell_type": "raw",
   "metadata": {
    "vscode": {
     "languageId": "raw"
    }
   },
   "source": [
    "---\n",
    "layout: post\n",
    "title: Safe Computi g\n",
    "description:  Reflection\n",
    "type: issues \n",
    "comments: true\n",
    "---"
   ]
  },
  {
   "cell_type": "markdown",
   "metadata": {},
   "source": [
    "# Popcorn Hack #1\n",
    "\n",
    "## Website/App: Google  \n",
    "\n",
    "### What Data They Store  \n",
    "- **Name & Email** (Gmail account)  \n",
    "- **Phone Number** (for security)  \n",
    "- **Location History** (Google Maps)  \n",
    "- **Search History** (Google & YouTube)  \n",
    "- **Payment Info** (Google Pay, Play Store)  \n",
    "\n",
    "### What Happens If It Gets Stolen?  \n",
    "- **Identity Theft** – Someone could pretend to be me.  \n",
    "- **Financial Fraud** – Hackers might make purchases with my info.  \n",
    "- **Phishing Scams** – Fake emails could trick me into giving more info.  \n",
    "- **Other Accounts Hacked** – If I use Google to sign into other sites, those could be at risk too.  \n",
    "\n",
    "### How to Stay Safe  \n",
    "- Use **strong passwords** & **2FA** (two-factor authentication).  \n",
    "- Watch for **phishing emails**.  \n",
    "- Check account activity & remove unnecessary saved data.  \n",
    "\n",
    "---\n"
   ]
  },
  {
   "cell_type": "markdown",
   "metadata": {},
   "source": [
    "# Popcorn Hack #2\n",
    "\n",
    "### What to Do Before Clicking Anything  \n",
    "1. **Check the Sender** – Is the email from an official bank address? Look for misspellings or strange domains.  \n",
    "2. **Look for Red Flags** – Does the email create urgency or threaten account closure? Scammers use fear to trick people.  \n",
    "3. **Hover Over Links** – Without clicking, hover over the link to see where it actually leads. Fake sites often look real.  \n",
    "4. **Check for Typos & Weird Formatting** – Official emails are usually well-written. Strange grammar or fonts can be a warning sign.  \n",
    "5. **Contact Your Bank Directly** – Instead of clicking, go to your bank’s official website or call them using a number from their site (not from the email).  \n",
    "\n",
    "### What If It’s a Scam?  \n",
    "- **Don’t Click Any Links** – They could steal your login info.  \n",
    "- **Report the Email** – Mark it as phishing in your email service.  \n",
    "- **Change Your Password** – If you already clicked the link, change your bank password immediately.  \n",
    "\n",
    "---"
   ]
  },
  {
   "cell_type": "markdown",
   "metadata": {},
   "source": [
    "# Popcorn Hack #3\n",
    "\n",
    "### How Hackers Exploit Public Wi-Fi  \n",
    "- **Man-in-the-Middle Attacks** – Hackers can intercept data between you and the network.  \n",
    "- **Fake Hotspots** – A hacker might set up a Wi-Fi network with a name like \"Free Airport Wi-Fi\" to steal your info.  \n",
    "- **Data Sniffing** – Unencrypted data (like passwords or messages) can be captured by hackers.  \n",
    "\n",
    "### How to Stay Safe  \n",
    "✅ **Avoid accessing sensitive accounts** (like banking) on public Wi-Fi.  \n",
    "✅ **Use a VPN** to encrypt your connection.  \n",
    "✅ **Turn off auto-connect** so your device doesn’t join networks automatically.  \n",
    "✅ **Stick to HTTPS sites** for secure browsing.  \n",
    "✅ **Forget the network** after using it to prevent automatic reconnection.  \n",
    "\n",
    "---"
   ]
  }
 ],
 "metadata": {
  "language_info": {
   "name": "python"
  }
 },
 "nbformat": 4,
 "nbformat_minor": 2
}
