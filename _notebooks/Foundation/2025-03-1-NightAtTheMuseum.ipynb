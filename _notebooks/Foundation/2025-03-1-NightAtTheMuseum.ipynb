{
 "cells": [
  {
   "cell_type": "raw",
   "metadata": {
    "vscode": {
     "languageId": "raw"
    }
   },
   "source": [
    "---\n",
    "layout: post\n",
    "title: Night at the Museum\n",
    "description:  Reflection\n",
    "type: issues \n",
    "comments: true\n",
    "---"
   ]
  },
  {
   "cell_type": "markdown",
   "metadata": {},
   "source": [
    "#### Our group, intertravel, presented at Night of the Museum at 6:00. We set up a google form to recieve feedback on our presentation. Here is the overview. \n",
    "\n",
    " <a href=\"https://docs.google.com/forms/d/e/1FAIpQLScBubtMypsqaPb-trrnWun2eFHsxnSF_mAsOrJprvgVZY7X2w/viewform?usp=preview\" target=\"_blank\">Link to Google Form</a>\n"
   ]
  },
  {
   "cell_type": "markdown",
   "metadata": {},
   "source": [
    "## Uniqueness"
   ]
  },
  {
   "cell_type": "markdown",
   "metadata": {},
   "source": [
    "<img src=\"https://i.imgur.com/E4ibuU6.png\" alt=\"Styling Similarities\" width=\"600\">\n"
   ]
  },
  {
   "cell_type": "markdown",
   "metadata": {},
   "source": [
    "## Attractiveness"
   ]
  },
  {
   "cell_type": "markdown",
   "metadata": {},
   "source": [
    "<img src=\"https://i.imgur.com/jU6jxeN.png\" alt=\"Styling Similarities\" width=\"600\">\n"
   ]
  },
  {
   "cell_type": "markdown",
   "metadata": {},
   "source": [
    "## User-Friendly"
   ]
  },
  {
   "cell_type": "markdown",
   "metadata": {},
   "source": [
    "<img src=\"https://i.imgur.com/VUH4v9x.png\" alt=\"Styling Similarities\" width=\"600\">\n"
   ]
  },
  {
   "cell_type": "markdown",
   "metadata": {},
   "source": [
    "## Purpose"
   ]
  },
  {
   "cell_type": "markdown",
   "metadata": {},
   "source": [
    "<img src=\"https://i.imgur.com/dZhxbow.png\" alt=\"Average Rating Display\" width=\"600\">\n"
   ]
  },
  {
   "cell_type": "markdown",
   "metadata": {},
   "source": [
    "Overall, I think most people liked our presentation, however there were still areas to improve on. People rated the attractiveness of our website lower, which means our styling might not have been the best. Since this is my job as a UX engineer, I could have defitenely improved on this to make the website look nicer. Our user-friendliness and uniquess were also a little lower than purpose, which could be due to our simple idea. Although we had great reviews, there were still areas to improve on.\n",
    "\n",
    "---"
   ]
  },
  {
   "cell_type": "markdown",
   "metadata": {},
   "source": [
    "## Reviewing Others"
   ]
  },
  {
   "cell_type": "markdown",
   "metadata": {},
   "source": [
    "### Crypto (CSA)\n",
    " \n",
    " - This group shows the top cryptos and a graph of the prices going up and down. On the homepage you can invest how much ever money you want to buy which ever crypto. Then there is a crypto mining page. Overall this group had a gread project.\n",
    "\n",
    "<img src=\"https://i.imgur.com/jMU46j8.jpeg\" alt=\"Image\" width=\"600\">\n"
   ]
  },
  {
   "cell_type": "markdown",
   "metadata": {},
   "source": [
    "### Restaurant (CSP)\n",
    "\n",
    "- This group shows the top restaurants all over the world from North America, South America, Europe, and Asia. You can also explore different recipes to further your knowledge about food. I also thought this group had a great project, and you can see me leaving feedback."
   ]
  },
  {
   "cell_type": "markdown",
   "metadata": {},
   "source": [
    "<img src=\"https://i.imgur.com/XoZStBp.jpeg\" alt=\"Image\" width=\"600\">\n"
   ]
  },
  {
   "cell_type": "markdown",
   "metadata": {},
   "source": [
    "### LitConnect (CSP)\n",
    "\n",
    "- Litconnect is a social connectivity website made to foster engagement between readers. Users can customize their experience by clicking on the spines of books displayed on the homepage. Overall, this was also a great project. One improvement I had for them was to match their UI design all throughout their whole page so it was eye grabbing for users. \n",
    "\n"
   ]
  },
  {
   "cell_type": "markdown",
   "metadata": {},
   "source": [
    "<img src=\"https://i.imgur.com/SgjQ0nd.jpeg\" alt=\"Image\" width=\"600\">\n"
   ]
  }
 ],
 "metadata": {
  "language_info": {
   "name": "python"
  }
 },
 "nbformat": 4,
 "nbformat_minor": 2
}
