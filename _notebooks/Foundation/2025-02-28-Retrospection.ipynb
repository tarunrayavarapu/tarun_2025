{
 "cells": [
  {
   "cell_type": "raw",
   "metadata": {
    "vscode": {
     "languageId": "raw"
    }
   },
   "source": [
    "---\n",
    "layout: post\n",
    "title: Retrospection\n",
    "description:  Reflection\n",
    "type: issues \n",
    "comments: true\n",
    "---"
   ]
  },
  {
   "cell_type": "markdown",
   "metadata": {},
   "source": [
    "## Planning\n",
    "\n",
    "Planning helps me stay organized and make sure I complete tasks on time. It also lets me find problems early and make better decisions for a smooth project."
   ]
  },
  {
   "cell_type": "markdown",
   "metadata": {},
   "source": [
    "- **Sprint 4 Plan**: In this plan, I layout everything I wanted to do and my ideas. This helps me stay focused on my specific task."
   ]
  },
  {
   "cell_type": "markdown",
   "metadata": {},
   "source": [
    "<img src=\"https://i.imgur.com/moEzDq4.png\" alt=\"Project Screenshot\" width=\"600\">\n",
    "\n",
    "Link to issue: <a href=\"https://github.com/tarunrayavarapu/tarun_2025/issues/10\" target=\"_blank\">Sprint 4</a>\n"
   ]
  },
  {
   "cell_type": "markdown",
   "metadata": {},
   "source": [
    "- **Figma**: Creating a figma was helpful for me because it layed out the design of what I wanted my feature to look like, and also gave me a functionality idea of what I wanted my feature to be exactly."
   ]
  },
  {
   "cell_type": "markdown",
   "metadata": {},
   "source": [
    "<img src=\"https://i.imgur.com/Oe8Vtal.png\" alt=\"Project Screenshot\" width=\"600\">\n",
    "\n",
    "Link to Figma: <a href=\"https://www.figma.com/design/RuSyBpijlRXUBccE5ye1SF/Travel-Social-Media?node-id=0-1&p=f&t=qh7mTYJsBl2d8xGg-0\" target=\"_blank\">Figma</a>\n",
    "\n",
    "---\n"
   ]
  },
  {
   "cell_type": "markdown",
   "metadata": {},
   "source": [
    "## Kanban Board/Burndown List\n",
    "\n",
    "Creating a Kanban board is helpful because it visually organizes tasks, making it easier to track progress, identify bottlenecks, and improve workflow efficiency. It provides a clear overview of tasks in different stages (To-Do, In Progress, Done), helping me stay organized, prioritize work, and collaborate effectively."
   ]
  },
  {
   "cell_type": "markdown",
   "metadata": {},
   "source": [
    "- **Kanban Board**: As you can see in the Kanban Board, everything was already done, helping us visual what we have completed so far"
   ]
  },
  {
   "cell_type": "markdown",
   "metadata": {},
   "source": [
    "<img src=\"https://i.imgur.com/3Xilhvh.png\" alt=\"Kanban Board Screenshot\" width=\"600\">\n",
    "\n",
    "link to kanban: <a href=\"https://github.com/users/Kiruthic-Selvakumar/projects/2/views/1\" target=\"_blank\">Kanban Board</a>\n"
   ]
  },
  {
   "cell_type": "markdown",
   "metadata": {},
   "source": [
    "- **Burndown List**: As you can see in the screenshot, having a burndown list was super useful too because it visualized what tasks I still need to do feature wise and what improvements I needed to make. "
   ]
  },
  {
   "cell_type": "markdown",
   "metadata": {},
   "source": [
    "<img src=\"https://i.imgur.com/SM5E1xo.png\" alt=\"Project Screenshot\" width=\"600\">\n",
    "\n",
    "link to Burndown list: <a href=\"https://github.com/users/Kiruthic-Selvakumar/projects/2/views/1?pane=issue&itemId=89573585&issue=Kiruthic-Selvakumar%7Ctravel_frontend%7C4\" target=\"_blank\">Burndown list</a>\n",
    "\n",
    "---\n"
   ]
  },
  {
   "cell_type": "markdown",
   "metadata": {},
   "source": [
    "## Making an API"
   ]
  },
  {
   "cell_type": "markdown",
   "metadata": {},
   "source": [
    "- **Post**: I implemented the POST method to allow only authenticated users to submit a food review. Using @token_required(), I ensure that every review is tied to a specific user, preventing unauthorized submissions. I also validate the input, making sure the request contains all necessary fields (food, review, and rating). If everything is correct, the review is stored in the database and returned as JSON."
   ]
  },
  {
   "cell_type": "code",
   "execution_count": null,
   "metadata": {},
   "outputs": [],
   "source": [
    "@token_required()\n",
    "def post(self):\n",
    "    current_user = g.current_user\n",
    "    data = request.get_json()\n",
    "\n",
    "    if not data or 'food' not in data or 'review' not in data or 'rating' not in data:\n",
    "        return {'message': 'Invalid, data required'}, 400\n",
    "\n",
    "    food_review = FoodReview12345(\n",
    "        food=data.get('food'),\n",
    "        review=data.get('review'),\n",
    "        rating=data.get('rating'),\n",
    "        user_id=current_user.id\n",
    "    )\n",
    "\n",
    "    try:\n",
    "        food_review.create()\n",
    "        return jsonify(food_review.read())\n",
    "    except Exception as e:\n",
    "        return {'message': f'Error saving review: {e}'}, 500"
   ]
  },
  {
   "cell_type": "markdown",
   "metadata": {},
   "source": [
    "- **Get**: The GET function allows users to retrieve either a specific review (by providing an ID) or all reviews. To improve usability, I joined the User and FoodReview12345 tables, so each review includes the name of the user who posted it. This way, the frontend can easily display a list of food reviews along with the reviewer’s name."
   ]
  },
  {
   "cell_type": "code",
   "execution_count": null,
   "metadata": {},
   "outputs": [],
   "source": [
    "def get(self):\n",
    "    review_id = request.args.get('id')\n",
    "\n",
    "    if review_id:\n",
    "        review = FoodReview12345.query.get(review_id)\n",
    "        if not review:\n",
    "            return {'message': 'Review not found'}, 404\n",
    "        return jsonify(review.read())\n",
    "\n",
    "    reviews = db.session.query(FoodReview12345, User).join(User, FoodReview12345.user_id == User.id).all()\n",
    "    review_list = [{\"id\": r.FoodReview12345.id, \"user_id\": r.User._name, \"food\": r.FoodReview12345.food, \"review\": r.FoodReview12345.review, \"rating\": r.FoodReview12345.rating} for r in reviews]\n",
    "\n",
    "    return jsonify(review_list)"
   ]
  },
  {
   "cell_type": "markdown",
   "metadata": {},
   "source": [
    "- **Put**: For updating reviews, I designed the PUT function to first check whether a review exists before modifying it. If the review is found, it updates the fields with new data. This prevents users from accidentally updating a nonexistent review and ensures data consistency."
   ]
  },
  {
   "cell_type": "code",
   "execution_count": null,
   "metadata": {},
   "outputs": [],
   "source": [
    "def put(self):\n",
    "    data = request.get_json()\n",
    "\n",
    "    if not data or 'id' not in data:\n",
    "        return {'message': 'ID is required for updating a review'}, 400\n",
    "\n",
    "    review = FoodReview12345.query.get(data['id'])\n",
    "    if not review:\n",
    "        return {'message': 'Review not found'}, 404\n",
    "\n",
    "    try:\n",
    "        review.update(data)\n",
    "        return jsonify(review.read())\n",
    "    except Exception as e:\n",
    "        return {'message': f'Error updating review: {e}'}, 500"
   ]
  },
  {
   "cell_type": "markdown",
   "metadata": {},
   "source": [
    "- **Delete**: For deleting a review, I ensured that only the correct review is removed by requiring an ID. If the ID matches a review in the database, it is deleted; otherwise, an error message is returned. This protects against accidental deletions and maintains database integrity."
   ]
  },
  {
   "cell_type": "code",
   "execution_count": null,
   "metadata": {},
   "outputs": [],
   "source": [
    "def delete(self):\n",
    "    data = request.get_json()\n",
    "\n",
    "    if not data or 'id' not in data:\n",
    "        return {'message': 'ID is required for deleting a review'}, 400\n",
    "\n",
    "    review = FoodReview12345.query.get(data['id'])\n",
    "    if not review:\n",
    "        return {'message': 'Review not found'}, 404\n",
    "\n",
    "    try:\n",
    "        review.delete()\n",
    "        return {'message': 'Review deleted successfully'}, 200\n",
    "    except Exception as e:\n",
    "        return {'message': f'Error deleting review: {e}'}, 500\n"
   ]
  },
  {
   "cell_type": "markdown",
   "metadata": {},
   "source": [
    "---"
   ]
  },
  {
   "cell_type": "markdown",
   "metadata": {},
   "source": [
    "## Frontend to Backend"
   ]
  },
  {
   "cell_type": "markdown",
   "metadata": {},
   "source": [
    "- **Review Form**: This form allows users to enter a food name, review text, and rating (1-5) before submitting it to the backend.\n"
   ]
  },
  {
   "cell_type": "code",
   "execution_count": null,
   "metadata": {
    "vscode": {
     "languageId": "html"
    }
   },
   "outputs": [],
   "source": [
    "<div class=\"form-container\">\n",
    "    <h2>Add a Food Review</h2>\n",
    "    <input type=\"text\" id=\"foodInput\" placeholder=\"Enter food name\" />\n",
    "    <textarea id=\"reviewInput\" placeholder=\"Enter your review\"></textarea>\n",
    "    <input type=\"number\" id=\"ratingInput\" placeholder=\"Enter rating (1-5)\" min=\"1\" max=\"5\" />\n",
    "    <button onclick=\"addReview()\">Submit Review</button>\n",
    "</div>"
   ]
  },
  {
   "cell_type": "markdown",
   "metadata": {},
   "source": [
    "- **Fetching and Displaying Reviews**: This function retrieves reviews from the backend and dynamically adds them to the page. Each review is displayed in a card format that includes edit and delete buttons.\n"
   ]
  },
  {
   "cell_type": "code",
   "execution_count": null,
   "metadata": {
    "vscode": {
     "languageId": "javascript"
    }
   },
   "outputs": [],
   "source": [
    "async function fetchReviews() {\n",
    "    try {\n",
    "        const response = await fetch(`${pythonURI}/api/food_review_12345_api`);\n",
    "        const data = await response.json();\n",
    "        document.getElementById('reviewCount').innerHTML = `<h2>You have ${data.length} food reviews!</h2>`;\n",
    "        const body = document.getElementById('main-content');\n",
    "        data.forEach(item => {\n",
    "            createCard(body, item);\n",
    "        });\n",
    "    } catch (error) {\n",
    "        console.error(\"Error fetching data:\", error);\n",
    "    }\n",
    "}\n"
   ]
  },
  {
   "cell_type": "markdown",
   "metadata": {},
   "source": [
    "- **Retrieving Reviews (GET Request)**: When a user submits a review, it is validated, saved to the database, and returned as JSON. The API fetches all stored reviews and joins them with user data for display. This ensures each review is linked to the correct user and food item.\n"
   ]
  },
  {
   "cell_type": "code",
   "execution_count": null,
   "metadata": {},
   "outputs": [],
   "source": [
    "def get(self):\n",
    "    reviews = db.session.query(FoodReview12345, User).join(User, FoodReview12345.user_id == User.id).all()\n",
    "    review_list = [{\"id\": r.FoodReview12345.id, \"user_id\": r.User._name, \"food\": r.FoodReview12345.food, \"review\": r.FoodReview12345.review, \"rating\": r.FoodReview12345.rating} for r in reviews]\n",
    "    return jsonify(review_list)"
   ]
  },
  {
   "cell_type": "markdown",
   "metadata": {},
   "source": [
    "- **Review Model (SQLAlchemy)**: This model defines how reviews are structured and stored in the database. This ensures each review is linked to a user and can be retrieved, updated, or deleted as needed.\n"
   ]
  },
  {
   "cell_type": "code",
   "execution_count": null,
   "metadata": {},
   "outputs": [],
   "source": [
    "class FoodReview12345(db.Model):\n",
    "    __tablename__ = 'food_reviews_12345'\n",
    "    id = db.Column(db.Integer, primary_key=True)\n",
    "    user_id = db.Column(db.Integer, db.ForeignKey('users.id'), nullable=False)\n",
    "    food = db.Column(db.String(255), nullable=False)\n",
    "    review = db.Column(db.String(255), nullable=False)\n",
    "    rating = db.Column(db.String(255), nullable=False)\n",
    "\n",
    "    def create(self):\n",
    "        try:\n",
    "            db.session.add(self)\n",
    "            db.session.commit()\n",
    "        except Exception as e:\n",
    "            db.session.rollback()\n",
    "            logging.warning(f\"Error saving review for '{self.food}': {str(e)}\")\n",
    "            raise e"
   ]
  },
  {
   "cell_type": "markdown",
   "metadata": {},
   "source": [
    "This food review system connects the frontend, backend, and database, allowing users to submit, edit, and delete reviews easily. The API handles requests efficiently, and the database ensures data is stored securely. With this setup, users can interact with reviews in real-time while maintaining full control.\n",
    "\n",
    "---"
   ]
  },
  {
   "cell_type": "markdown",
   "metadata": {},
   "source": [
    "## Frontend UX Engineer (Role)"
   ]
  },
  {
   "cell_type": "markdown",
   "metadata": {},
   "source": [
    "- **Color Scheme**: Use a dark background with light blue accents (#add8e6), light blue color used for boxes and tables, (add8e6)"
   ]
  },
  {
   "cell_type": "markdown",
   "metadata": {},
   "source": [
    "- **Border and Rounded Elements**: \n",
    "\n"
   ]
  },
  {
   "cell_type": "code",
   "execution_count": null,
   "metadata": {
    "vscode": {
     "languageId": "css"
    }
   },
   "outputs": [],
   "source": [
    "border-radius: 25px; /* Rating bar */\n",
    "border-radius: 5px; /* Buttons, input fields */"
   ]
  },
  {
   "cell_type": "markdown",
   "metadata": {},
   "source": [
    "- **Button Styling**: "
   ]
  },
  {
   "cell_type": "code",
   "execution_count": null,
   "metadata": {
    "vscode": {
     "languageId": "css"
    }
   },
   "outputs": [],
   "source": [
    ".action-btn, .create-rating-btn {\n",
    "    background-color: #FFD700;\n",
    "    color: black;\n",
    "    border-radius: 5px;\n",
    "}\n",
    ".action-btn:hover, .create-rating-btn:hover {\n",
    "    background-color: #C5B358;\n",
    "}"
   ]
  },
  {
   "cell_type": "markdown",
   "metadata": {},
   "source": [
    "- **Text Styling**: "
   ]
  },
  {
   "cell_type": "code",
   "execution_count": null,
   "metadata": {
    "vscode": {
     "languageId": "css"
    }
   },
   "outputs": [],
   "source": [
    "color: white; /* General text */\n",
    "color: #add8e6; /* Table headers */"
   ]
  },
  {
   "cell_type": "markdown",
   "metadata": {},
   "source": [
    "- **Boxt and Table Styling**: "
   ]
  },
  {
   "cell_type": "code",
   "execution_count": null,
   "metadata": {
    "vscode": {
     "languageId": "css"
    }
   },
   "outputs": [],
   "source": [
    ".ratings-table {\n",
    "    width: 100%;\n",
    "    border-collapse: collapse;\n",
    "    margin-top: 20px;\n",
    "    background-color: black;\n",
    "    color: white;\n",
    "}"
   ]
  },
  {
   "cell_type": "markdown",
   "metadata": {},
   "source": [
    "In all, as a frontend UX engineer, I matched up the styling of all pages to look similar and more cohesive. I also tried my best to make the website look as good as possible.\n",
    "\n",
    "---"
   ]
  },
  {
   "cell_type": "markdown",
   "metadata": {},
   "source": []
  }
 ],
 "metadata": {
  "language_info": {
   "name": "python"
  }
 },
 "nbformat": 4,
 "nbformat_minor": 2
}
