{
 "cells": [
  {
   "cell_type": "raw",
   "metadata": {
    "vscode": {
     "languageId": "raw"
    }
   },
   "source": [
    "---\n",
    "layout: post\n",
    "title: Retrospection\n",
    "description:  Reflection\n",
    "type: issues \n",
    "comments: true\n",
    "---"
   ]
  },
  {
   "cell_type": "markdown",
   "metadata": {},
   "source": [
    "## Planning\n",
    "\n",
    "Planning helps me stay organized and make sure I complete tasks on time. It also lets me find problems early and make better decisions for a smooth project."
   ]
  },
  {
   "cell_type": "markdown",
   "metadata": {},
   "source": [
    "- **Sprint 4 Plan**: In this plan, I layout everything I wanted to do and my ideas. This helps me stay focused on my specific task."
   ]
  },
  {
   "cell_type": "markdown",
   "metadata": {},
   "source": [
    "<img src=\"https://i.imgur.com/moEzDq4.png\" alt=\"Project Screenshot\" width=\"600\">\n",
    "\n",
    "Link to issue: <a href=\"https://github.com/tarunrayavarapu/tarun_2025/issues/10\" target=\"_blank\">Sprint 4</a>\n"
   ]
  },
  {
   "cell_type": "markdown",
   "metadata": {},
   "source": [
    "- **Figma**: Creating a figma was helpful for me because it layed out the design of what I wanted my feature to look like, and also gave me a functionality idea of what I wanted my feature to be exactly."
   ]
  },
  {
   "cell_type": "markdown",
   "metadata": {},
   "source": [
    "<img src=\"https://i.imgur.com/Oe8Vtal.png\" alt=\"Project Screenshot\" width=\"600\">\n",
    "\n",
    "Link to Figma: <a href=\"https://www.figma.com/design/RuSyBpijlRXUBccE5ye1SF/Travel-Social-Media?node-id=0-1&p=f&t=qh7mTYJsBl2d8xGg-0\" target=\"_blank\">Figma</a>\n",
    "\n",
    "---\n"
   ]
  },
  {
   "cell_type": "markdown",
   "metadata": {},
   "source": [
    "## Kanban Board/Burndown List\n",
    "\n",
    "Creating a Kanban board is helpful because it visually organizes tasks, making it easier to track progress, identify bottlenecks, and improve workflow efficiency. It provides a clear overview of tasks in different stages (To-Do, In Progress, Done), helping me stay organized, prioritize work, and collaborate effectively."
   ]
  },
  {
   "cell_type": "markdown",
   "metadata": {},
   "source": [
    "- **Kanban Board**: As you can see in the Kanban Board, everything was already done, helping us visual what we have completed so far"
   ]
  },
  {
   "cell_type": "markdown",
   "metadata": {},
   "source": [
    "<img src=\"https://i.imgur.com/3Xilhvh.png\" alt=\"Kanban Board Screenshot\" width=\"600\">\n",
    "\n",
    "link to kanban: <a href=\"https://github.com/users/Kiruthic-Selvakumar/projects/2/views/1\" target=\"_blank\">Kanban Board</a>\n"
   ]
  },
  {
   "cell_type": "markdown",
   "metadata": {},
   "source": [
    "- **Burndown List**: As you can see in the screenshot, having a burndown list was super useful too because it visualized what tasks I still need to do feature wise and what improvements I needed to make. "
   ]
  },
  {
   "cell_type": "markdown",
   "metadata": {},
   "source": [
    "<img src=\"https://i.imgur.com/SM5E1xo.png\" alt=\"Project Screenshot\" width=\"600\">\n",
    "\n",
    "link to Burndown list: <a href=\"https://github.com/users/Kiruthic-Selvakumar/projects/2/views/1?pane=issue&itemId=89573585&issue=Kiruthic-Selvakumar%7Ctravel_frontend%7C4\" target=\"_blank\">Burndown list</a>\n",
    "\n",
    "---\n"
   ]
  }
 ],
 "metadata": {
  "language_info": {
   "name": "python"
  }
 },
 "nbformat": 4,
 "nbformat_minor": 2
}
