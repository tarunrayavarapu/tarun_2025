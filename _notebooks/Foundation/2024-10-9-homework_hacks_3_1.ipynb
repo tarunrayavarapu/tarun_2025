{
 "cells": [
  {
   "cell_type": "markdown",
   "metadata": {},
   "source": [
    "## Homework Hack 3.1"
   ]
  },
  {
   "cell_type": "code",
   "execution_count": null,
   "metadata": {},
   "outputs": [],
   "source": [
    "# Shopping List Calculator\n",
    "\n",
    "# Function to add an item to the shopping list\n",
    "def add_item(shopping_list):\n",
    "    item = input(\"Enter the item name: \")\n",
    "    price = float(input(f\"Enter the price of {item}: \"))\n",
    "    shopping_list[item] = price\n",
    "    print(f\"{item} has been added with a price of ${price:.2f}.\")\n",
    "\n",
    "# Function to calculate the total cost of the shopping list\n",
    "def calculate_total(shopping_list):\n",
    "    total = sum(shopping_list.values())\n",
    "    return total\n",
    "\n",
    "# Main function to run the shopping list calculator\n",
    "def main():\n",
    "    shopping_list = {}\n",
    "    while True:\n",
    "        print(\"\\nShopping List Calculator\")\n",
    "        print(\"1. Add item\")\n",
    "        print(\"2. Calculate total cost\")\n",
    "        print(\"3. Show shopping list\")\n",
    "        print(\"4. Exit\")\n",
    "        \n",
    "        choice = input(\"Choose an option (1-4): \")\n",
    "        \n",
    "        if choice == '1':\n",
    "            add_item(shopping_list)\n",
    "        elif choice == '2':\n",
    "            total_cost = calculate_total(shopping_list)\n",
    "            print(f\"\\nTotal cost: ${total_cost:.2f}\")\n",
    "        elif choice == '3':\n",
    "            print(\"\\nShopping List:\")\n",
    "            for item, price in shopping_list.items():\n",
    "                print(f\"{item}: ${price:.2f}\")\n",
    "        elif choice == '4':\n",
    "            print(\"Exiting the program. Goodbye!\")\n",
    "            break\n",
    "        else:\n",
    "            print(\"Invalid choice. Please select a valid option.\")\n",
    "\n",
    "# Run the shopping list calculator\n",
    "if __name__ == \"__main__\":\n",
    "    main()"
   ]
  },
  {
   "cell_type": "markdown",
   "metadata": {},
   "source": []
  },
  {
   "cell_type": "markdown",
   "metadata": {},
   "source": [
    "## Popcorn Hack #1"
   ]
  },
  {
   "cell_type": "code",
   "execution_count": 1,
   "metadata": {},
   "outputs": [
    {
     "data": {
      "application/javascript": "\n\nlet favoriteMovie = \"Inception\";\nlet favoriteSport = \"soccer\";\nlet petName = \"Buddy\";\n\n\n// Concatenation\nlet concatenatedMessage = \"My favorite movie is \" + favoriteMovie + \". I love playing \" + favoriteSport + \" and my pet's name is \" + petName + \".\";\n\n\n// Interpolation\nlet interpolatedMessage = `My favorite movie is ${favoriteMovie}. I love playing ${favoriteSport} and my pet's name is ${petName}.`;\n",
      "text/plain": [
       "<IPython.core.display.Javascript object>"
      ]
     },
     "metadata": {},
     "output_type": "display_data"
    }
   ],
   "source": [
    "# Creating the dictionary with fruit names as keys\n",
    "fruits = {\n",
    "    'apple': 1,\n",
    "    'banana': 2,\n",
    "    'cherry': 3\n",
    "}\n",
    "\n",
    "# Accessing and printing the value corresponding to the key 'banana'\n",
    "print(fruits['banana'])\n"
   ]
  },
  {
   "cell_type": "markdown",
   "metadata": {},
   "source": [
    "## Popcorn Hack #2"
   ]
  },
  {
   "cell_type": "code",
   "execution_count": 9,
   "metadata": {
    "vscode": {
     "languageId": "javascript"
    }
   },
   "outputs": [
    {
     "name": "stdout",
     "output_type": "stream",
     "text": [
      "Please enter your assignments (type 'exit' to finish):\n",
      "You have 14 assignment(s) in your list:\n",
      "* \n",
      "* \n",
      "* \n",
      "* \n",
      "* \n",
      "* \n",
      "* \n",
      "* \n",
      "* \n",
      "* \n",
      "* \n",
      "* \n",
      "* \n",
      "* \n"
     ]
    }
   ],
   "source": [
    "import random\n",
    "\n",
    "def generate_question():\n",
    "    # Generate two random numbers and a random operator\n",
    "    num1 = random.randint(1, 10)\n",
    "    num2 = random.randint(1, 10)\n",
    "    operator = random.choice(['+', '-', '*'])\n",
    "\n",
    "    # Form the question string and calculate the correct answer\n",
    "    if operator == '+':\n",
    "        correct_answer = num1 + num2\n",
    "    elif operator == '-':\n",
    "        correct_answer = num1 - num2\n",
    "    else:\n",
    "        correct_answer = num1 * num2\n",
    "\n",
    "    question = f\"{num1} {operator} {num2}\"\n",
    "    return question, correct_answer\n",
    "\n",
    "def math_quiz():\n",
    "    score = 0\n",
    "    num_questions = 5  # Number of questions to ask\n",
    "\n",
    "    print(\"Welcome to the Math Quiz! Answer the following questions:\")\n",
    "\n",
    "    for i in range(num_questions):\n",
    "        question, correct_answer = generate_question()\n",
    "        print(f\"Question {i+1}: {question} = ?\")\n",
    "        try:\n",
    "            user_answer = int(input(\"Your answer: \"))\n",
    "        except ValueError:\n",
    "            print(\"Please enter a valid number!\")\n",
    "            continue\n",
    "\n",
    "        if user_answer == correct_answer:\n",
    "            print(\"Correct!\")\n",
    "            score += 1\n",
    "        else:\n",
    "            print(f\"Wrong! The correct answer was {correct_answer}.\")\n",
    "\n",
    "    print(f\"\\nYou answered {score} out of {num_questions} questions correctly.\")\n",
    "\n",
    "# Start the quiz\n",
    "math_quiz()"
   ]
  },
  {
   "cell_type": "markdown",
   "metadata": {},
   "source": [
    "## Popcorn Hack #3"
   ]
  },
  {
   "cell_type": "code",
   "execution_count": 2,
   "metadata": {},
   "outputs": [
    {
     "name": "stdout",
     "output_type": "stream",
     "text": [
      " lv plyng sccr!\n"
     ]
    }
   ],
   "source": [
    "def celsius_to_fahrenheit(celsius):\n",
    "    return (celsius * 9/5) + 32\n",
    "\n",
    "def fahrenheit_to_celsius(fahrenheit):\n",
    "    return (fahrenheit - 32) * 5/9\n",
    "\n",
    "def temperature_converter():\n",
    "    print(\"Welcome to the Temperature Converter!\")\n",
    "\n",
    "    # Ask the user for the temperature to convert\n",
    "    try:\n",
    "        temperature = float(input(\"Enter the temperature: \"))\n",
    "    except ValueError:\n",
    "        print(\"Please enter a valid number for the temperature.\")\n",
    "        return\n",
    "\n",
    "    # Ask the user for the conversion direction\n",
    "    print(\"Choose the conversion direction:\")\n",
    "    print(\"1. Celsius to Fahrenheit\")\n",
    "    print(\"2. Fahrenheit to Celsius\")\n",
    "    choice = input(\"Enter 1 or 2: \")\n",
    "\n",
    "    # Perform the conversion based on the user's choice\n",
    "    if choice == '1':\n",
    "        converted_temp = celsius_to_fahrenheit(temperature)\n",
    "        print(f\"{temperature}°C is equal to {converted_temp:.2f}°F\")\n",
    "    elif choice == '2':\n",
    "        converted_temp = fahrenheit_to_celsius(temperature)\n",
    "        print(f\"{temperature}°F is equal to {converted_temp:.2f}°C\")\n",
    "    else:\n",
    "        print(\"Invalid choice. Please enter 1 or 2.\")\n",
    "\n",
    "# Start the temperature conversion program\n",
    "temperature_converter()"
   ]
  },
  {
   "cell_type": "markdown",
   "metadata": {},
   "source": [
    "## Popcorn Hack #4"
   ]
  },
  {
   "cell_type": "code",
   "execution_count": 3,
   "metadata": {},
   "outputs": [
    {
     "name": "stdout",
     "output_type": "stream",
     "text": [
      "soccer! playing love I\n"
     ]
    }
   ],
   "source": [
    "def reverse_words(input_str):\n",
    "    words = input_str.split()\n",
    "    reversed_words = \" \".join(words[::-1])\n",
    "    return reversed_words\n",
    "\n",
    "sentence = \"I love playing soccer!\"\n",
    "print(reverse_words(sentence))"
   ]
  }
 ],
 "metadata": {
  "kernelspec": {
   "display_name": "venv",
   "language": "python",
   "name": "python3"
  },
  "language_info": {
   "codemirror_mode": {
    "name": "ipython",
    "version": 3
   },
   "file_extension": ".py",
   "mimetype": "text/x-python",
   "name": "python",
   "nbconvert_exporter": "python",
   "pygments_lexer": "ipython3",
   "version": "3.10.12"
  }
 },
 "nbformat": 4,
 "nbformat_minor": 2
}
