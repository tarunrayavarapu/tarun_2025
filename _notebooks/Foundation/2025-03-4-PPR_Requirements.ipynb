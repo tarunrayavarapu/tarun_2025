{
 "cells": [
  {
   "cell_type": "raw",
   "metadata": {
    "vscode": {
     "languageId": "raw"
    }
   },
   "source": [
    "---\n",
    "layout: post\n",
    "title: PPR Requirements\n",
    "description:  Reflection\n",
    "type: issues \n",
    "comments: true\n",
    "---"
   ]
  },
  {
   "cell_type": "markdown",
   "metadata": {},
   "source": [
    "## List being created"
   ]
  },
  {
   "cell_type": "code",
   "execution_count": null,
   "metadata": {},
   "outputs": [],
   "source": [
    "reviews = db.session.query(FoodReview12345, User).join(User, FoodReview12345.user_id == User.id).all()\n",
    "review_list = [{\"id\": r.FoodReview12345.id, \"user_id\": r.User._name, \"food\": r.FoodReview12345.food, \"review\": r.FoodReview12345.review, \"rating\": r.FoodReview12345.rating} for r in reviews]"
   ]
  },
  {
   "cell_type": "markdown",
   "metadata": {},
   "source": [
    "In the get() method, a list is created by first fetching all reviews and their related user information from the database. Each review is then transformed into a dictionary containing the review's id, food, review, rating, and the associated user_id. These dictionaries are collected into a list called review_list, which is then returned as the response."
   ]
  },
  {
   "cell_type": "markdown",
   "metadata": {},
   "source": [
    "## A list being processed"
   ]
  },
  {
   "cell_type": "code",
   "execution_count": null,
   "metadata": {
    "vscode": {
     "languageId": "javascript"
    }
   },
   "outputs": [],
   "source": [
    "const reviews = [\n",
    "    { food: \"Croissant\", review: \"Delicious!\", rating: 5 },\n",
    "    { food: \"Coffee\", review: \"Strong and aromatic.\", rating: 4 },\n",
    "    { food: \"Baguette\", review: \"Fresh and crispy.\", rating: 5 }\n",
    "  ];\n",
    "  \n",
    "  reviews.forEach((review) => {\n",
    "    console.log(`Food: ${review.food}`);\n",
    "    console.log(`Review: ${review.review}`);\n",
    "    console.log(`Rating: ${review.rating}/5`);\n",
    "  });"
   ]
  },
  {
   "cell_type": "markdown",
   "metadata": {},
   "source": [
    "In this example, the forEach method is used to loop through the reviews array. For each review object, the code logs the food name, the review, and the rating to the console. This is a simple way to process and display each item in a list."
   ]
  },
  {
   "cell_type": "markdown",
   "metadata": {},
   "source": [
    "## A function"
   ]
  },
  {
   "cell_type": "code",
   "execution_count": null,
   "metadata": {
    "vscode": {
     "languageId": "javascript"
    }
   },
   "outputs": [],
   "source": [
    "async function fetchReviews() {\n",
    "    try {\n",
    "        const response = await fetch(${pythonURI}/api/food_review_12345_api);\n",
    "        if (!response.ok) {\n",
    "            throw new Error(\"Failed to fetch reviews: \" + response.statusText);\n",
    "        }\n",
    "        const data = await response.json();\n",
    "\n",
    "        data.forEach(item => {\n",
    "            createCard(body, item);\n",
    "        });\n",
    "    } catch (error) {\n",
    "        console.error(\"Error fetching data:\", error);\n",
    "    }\n",
    "}"
   ]
  },
  {
   "cell_type": "markdown",
   "metadata": {},
   "source": [
    "The fetchReviews() function gets a list of reviews from an API. Once the data is received, it goes through each review using forEach. For each review, it calls createCard() to display it on the page. This process allows all reviews to be shown one by one."
   ]
  },
  {
   "cell_type": "markdown",
   "metadata": {},
   "source": [
    "## A call to the function"
   ]
  },
  {
   "cell_type": "code",
   "execution_count": null,
   "metadata": {
    "vscode": {
     "languageId": "javascript"
    }
   },
   "outputs": [],
   "source": [
    "document.addEventListener(\"DOMContentLoaded\", () => {\n",
    "    fetchReviews();\n",
    "});"
   ]
  },
  {
   "cell_type": "markdown",
   "metadata": {},
   "source": [
    "This line tells the browser to run the fetchReviews() function as soon as the HTML page has finished loading. It ensures that the reviews are fetched and displayed when the page is ready."
   ]
  }
 ],
 "metadata": {
  "language_info": {
   "name": "python"
  }
 },
 "nbformat": 4,
 "nbformat_minor": 2
}
