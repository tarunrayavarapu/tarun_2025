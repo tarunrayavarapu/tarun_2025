{
 "cells": [
  {
   "cell_type": "raw",
   "metadata": {
    "vscode": {
     "languageId": "raw"
    }
   },
   "source": [
    "---\n",
    "layout: post\n",
    "title: PPR Requirements\n",
    "description:  Reflection\n",
    "type: issues \n",
    "comments: true\n",
    "---"
   ]
  },
  {
   "cell_type": "markdown",
   "metadata": {},
   "source": [
    "## List being created"
   ]
  },
  {
   "cell_type": "code",
   "execution_count": null,
   "metadata": {},
   "outputs": [],
   "source": [
    "def get(self):\n",
    "            review_id = request.args.get('id')\n",
    "\n",
    "            if review_id:\n",
    "                review = FoodReview12345.query.get(review_id)\n",
    "                if not review:\n",
    "                    return {'message': 'Review not found'}, 404\n",
    "                return jsonify(review.read())\n",
    "\n",
    "            reviews = db.session.query(FoodReview12345, User).join(User, FoodReview12345.user_id == User.id).all()\n",
    "            review_list = [{\"id\": r.FoodReview12345.id, \"user_id\": r.User._name, \"food\": r.FoodReview12345.food, \"review\": r.FoodReview12345.review, \"rating\": r.FoodReview12345.rating} for r in reviews]\n",
    "            \n",
    "            return jsonify(review_list)"
   ]
  },
  {
   "cell_type": "markdown",
   "metadata": {},
   "source": [
    "In the get() method, a list is created by first fetching all reviews and their related user information from the database. Each review is then transformed into a dictionary containing the review's id, food, review, rating, and the associated user_id. These dictionaries are collected into a list called review_list, which is then returned as the response."
   ]
  },
  {
   "cell_type": "markdown",
   "metadata": {},
   "source": [
    "## A list being processed"
   ]
  },
  {
   "cell_type": "code",
   "execution_count": null,
   "metadata": {
    "vscode": {
     "languageId": "javascript"
    }
   },
   "outputs": [],
   "source": [
    "data.forEach(item => {\n",
    "  createCard(body, item);\n",
    "});"
   ]
  },
  {
   "cell_type": "markdown",
   "metadata": {},
   "source": [
    "This line iterates through the data array and applies the createCard function to each item in the list. It efficiently processes the collection by dynamically generating and displaying food review cards based on the fetched data. Each item in the list is passed as an argument to the createCard function, ensuring that all reviews are properly rendered on the page. "
   ]
  },
  {
   "cell_type": "markdown",
   "metadata": {},
   "source": [
    "## A function"
   ]
  },
  {
   "cell_type": "code",
   "execution_count": null,
   "metadata": {
    "vscode": {
     "languageId": "javascript"
    }
   },
   "outputs": [],
   "source": [
    "async function fetchReviews() {\n",
    "    try {\n",
    "        const response = await fetch(${pythonURI}/api/food_review_12345_api);\n",
    "        if (!response.ok) {\n",
    "            throw new Error(\"Failed to fetch reviews: \" + response.statusText);\n",
    "        }\n",
    "        const data = await response.json();\n",
    "\n",
    "        data.forEach(item => {\n",
    "            createCard(body, item);\n",
    "        });\n",
    "    } catch (error) {\n",
    "        console.error(\"Error fetching data:\", error);\n",
    "    }\n",
    "}"
   ]
  },
  {
   "cell_type": "markdown",
   "metadata": {},
   "source": [
    "Sequencing is shown in the logical flow of steps: the function first attempts to fetch data, checks the response, processes the data, and handles errors if they occur. Selection is used with the if (!response.ok) statement, which checks if the response is successful; if not, it throws an error to stop the process and jump to the catch block. Iteration appears in the .forEach() method, which loops through the data array and applies the createCard function to each item, ensuring all reviews are displayed. Together, these elements ensure the function efficiently retrieves, verifies, and processes data while managing potential errors."
   ]
  },
  {
   "cell_type": "markdown",
   "metadata": {},
   "source": [
    "## A call to the function"
   ]
  },
  {
   "cell_type": "code",
   "execution_count": null,
   "metadata": {
    "vscode": {
     "languageId": "javascript"
    }
   },
   "outputs": [],
   "source": [
    "document.addEventListener(\"DOMContentLoaded\", () => {\n",
    "    fetchReviews();\n",
    "});"
   ]
  },
  {
   "cell_type": "markdown",
   "metadata": {},
   "source": [
    "This line tells the browser to run the fetchReviews() function as soon as the HTML page has finished loading. It ensures that the reviews are fetched and displayed when the page is ready.\n",
    "\n",
    "---"
   ]
  },
  {
   "cell_type": "markdown",
   "metadata": {},
   "source": [
    "In my blog post about PPR requirements, I explained some key programming concepts in my food review application. I started by describing a get() method that gathers reviews and user details from a database, turning each review into a dictionary and adding it to a list called review_list. I also talked about a JavaScript line that uses .forEach() to loop through the reviews and create cards for each one. I explained how my fetchReviews() function fetches data, checks if it's successful, and then uses .forEach() to display the reviews. Lastly, I mentioned how I used document.addEventListener() to make sure reviews load properly when the page opens."
   ]
  }
 ],
 "metadata": {
  "language_info": {
   "name": "python"
  }
 },
 "nbformat": 4,
 "nbformat_minor": 2
}
