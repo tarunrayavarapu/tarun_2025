{
 "cells": [
  {
   "cell_type": "markdown",
   "metadata": {},
   "source": [
    "### Blog of Blogs/Issue"
   ]
  },
  {
   "cell_type": "markdown",
   "metadata": {},
   "source": [
    "| **Assignment**             | **Points**    | **Grade** | **Evidence** |\n",
    "|----------------------------|---------------|-----------|--------------|\n",
    "| Baseline Grade             | 55%           |           |              |\n",
    "| Max Grade                  | 90%           |    87%       |       Reflected in grades below       |\n",
    "| Pull Request (Integration) | 1             |      0.85     |   Although we got the hang of pull requests towards the end, we needed to improve in the beginning of doing more pull requests so that people could give us feedback on our work. This was also an issue of missing our scrum leader at beginning of Sprint, so caused some issues.           |\n",
    "| Relevancy Checklist (Peer) | 2             |           |              |\n",
    "| Lesson Style (Period)      | 1             |      0.85     |     Like the pull requests, our style in the beginning was just a clone of Mr. Mortensons, but towards the end, we changed it to make it our own, and make it original. This is why I gave it this grade.   https://nighthawkcoders.github.io/portfolio_2025/csp/big-idea/p2/3-6      |\n",
    "| Homework, Popcorn Hacks    | 1 x 6         |      0.88     |   I put a lot of effort in the homework hacks for 3.7 and the popcorn hacks for 3.7, and revised them many times. I also went over 3.6's popcorn and homework hacks too, and improved on them. One flaw in this was that one of our popcorn hacks had unfamiliar javascript code, which was not able to run on some peoples vscode, which hindered this grade a little a bit.   https://nighthawkcoders.github.io/portfolio_2025/csp/big-idea/p2/3-6-2 https://nighthawkcoders.github.io/portfolio_2025/csp/big-idea/p2/3-7-2         |\n",
    "| Individual Contribution    | 1             |     0.89      | I think that I contributed a lot to my group, and did a lot of work. Just like the other problems, I had a little bit of a kasm issue when we started, but it was resolved quickly. My 0.89 comes from the fact that I did most of the work for my 3.7 part, but I also didn't do much at the start.             |\n",
    "| Personal Notebooks / Blogs | 1             |   0.89        |  My homeworks were turned in all on time, and I recieved good grades on them. I also had each of my homeworks on a blog page so it was easier to access for the graders.     https://tarunrayavarapu.github.io/tarun_2025/blogs/       |\n",
    "| Total                      | 11            |      ~0.88     |              |"
   ]
  },
  {
   "cell_type": "markdown",
   "metadata": {},
   "source": [
    "| **Skill**                  | **Points**    | **Grade** | **Evidence** |\n",
    "|----------------------------|---------------|-----------|--------------|\n",
    "| Work Habits (Analytics)    |   1           |   0.88        |      I think I worked hard and put in effort, but could have done a little more to improve our lesson        |\n",
    "| Team Planning (Issue)      |   1           |     0.87      |     Our team planning issue could have been much better, and improved on, but our lesson turned out pretty good and we knew what we were talking about.  We also made our planning on a different portfolio because we had a different scrum master at the time, and we did had to refork a different portfolio with a different scrum master    https://github.com/VincentH14/sprint2_2025/issues/1    |\n",
    "| Presentation Memories      |   1           |      0.87     |       Our presentation was pretty bland at some spots, and could have been improved on the looks, but I still think it was solid.       |\n",
    "| Grading and Feedback       |   1           |  0.9         |  I think our grading was fair and everyone got the grade they deserved.  My portion of grading was 6-12.      https://docs.google.com/spreadsheets/d/1Foe3jo3i1MkIDpW0QP2xYN8usQdHsSr5nNkorhElX_Q/edit?pli=1&gid=805831555#gid=805831555     |\n",
    "| Beyond Perfunctory         |   1           |     0.89      |     \tMade efforts to create a unique lesson. Some people in our group did more than others, so our lesson wasn't as fluid as it could have been. Still, I think I put in high effort and tried to be original and creative when making the lesson.         | "
   ]
  },
  {
   "cell_type": "markdown",
   "metadata": {},
   "source": [
    "| **Assignment**           | **Weightage** | **Grade** | **Comments**                                                                                                         |\n",
    "|--------------------------|---------------|-----------|----------------------------------------------------------------------------------------------------------------------|\n",
    "| College Board Coverage   | 20            | 18        | I think we went over the college board examples pretty well, but had minor things we could have tweaked.             |\n",
    "| Python Examples          | 15            | 14        | Because most of us were already fluent in python, our python examples were well made and could be explained well.    |\n",
    "| JavaScript Examples      | 15            | 13        | Could have spent more time on JavaScript, as it was a new language and a little harder to learn.                     |\n",
    "| Popcorn Hack Usage       | 10            | 9         | I did all my popcorn hacks, and I understood them. Made them unique for the people to enjoy during our presentation. |\n",
    "| Homework                 | 10            | 9         | Did all of my homework on time and received good grades on them. Made popcorn hack for lesson 3.7; simple but unique. |\n",
    "| Grading Plan             | 10            | 7         | Grading plan was not clear enough and could have been posted through an issue instead of on the Google Form itself.  |\n",
    "| Original and Creative    | 10            | 8         | Pretty original, creativity lacked a little because the lesson was somewhat monotone.                                |\n",
    "| **Total**                | **90**        | **81**    | High effort overall; could have put in more time at the beginning to improve our process.                            |\n",
    "\n",
    "Link to my blog: https://tarunrayavarapu.github.io/tarun_2025/"
   ]
  }
 ],
 "metadata": {
  "language_info": {
   "name": "python"
  }
 },
 "nbformat": 4,
 "nbformat_minor": 2
}
