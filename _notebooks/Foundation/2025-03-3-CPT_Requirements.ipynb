{
 "cells": [
  {
   "cell_type": "raw",
   "metadata": {
    "vscode": {
     "languageId": "raw"
    }
   },
   "source": [
    "---\n",
    "layout: post\n",
    "title: CPT Requirements\n",
    "description:  Reflection\n",
    "type: issues \n",
    "comments: true\n",
    "---"
   ]
  },
  {
   "cell_type": "markdown",
   "metadata": {},
   "source": [
    "## 1. Taking User Input"
   ]
  },
  {
   "cell_type": "markdown",
   "metadata": {},
   "source": [
    "To create a review, users need to enter three things:\n",
    "\n",
    "- Food Name – The name of the dish they are reviewing.\n",
    "- Review – Their thoughts about the dish.\n",
    "- Rating – A score between 1 and 5.\n",
    "\n",
    "Once they fill out these fields, they click the Submit Review button.\n",
    "\n",
    "Here’s how the input form looks in HTML:"
   ]
  },
  {
   "cell_type": "code",
   "execution_count": null,
   "metadata": {
    "vscode": {
     "languageId": "html"
    }
   },
   "outputs": [],
   "source": [
    "<input type=\"text\" id=\"foodInput\" placeholder=\"Enter food name\" />\n",
    "<textarea id=\"reviewInput\" placeholder=\"Enter your review\"></textarea>\n",
    "<input type=\"number\" id=\"ratingInput\" min=\"1\" max=\"5\" placeholder=\"Enter rating (1-5)\" />\n",
    "<button onclick=\"addReview()\">Submit Review</button>"
   ]
  },
  {
   "cell_type": "markdown",
   "metadata": {},
   "source": [
    "### What happens when the button is clicked?\n",
    "\n",
    "- The system takes the user’s input.\n",
    "- It checks if all fields are filled correctly.\n",
    "- If everything is fine, the review is sent to the server.\n",
    "- The page updates to show the new review."
   ]
  },
  {
   "cell_type": "markdown",
   "metadata": {},
   "source": [
    "## 2. Storing Reviews in a List"
   ]
  },
  {
   "cell_type": "code",
   "execution_count": null,
   "metadata": {
    "vscode": {
     "languageId": "javascript"
    }
   },
   "outputs": [],
   "source": [
    "const response = await fetch(${pythonURI}/api/food_review_12345_api, {\n",
    "    ...fetchOptions,\n",
    "    method: \"POST\",\n",
    "    headers: {\n",
    "        \"Content-Type\": \"application/json\",\n",
    "    },\n",
    "    body: JSON.stringify({food: food, review: review, rating: rating})\n",
    "});"
   ]
  },
  {
   "cell_type": "markdown",
   "metadata": {},
   "source": [
    "Once the new review is added to the system, the response is handled and a new card is created:"
   ]
  },
  {
   "cell_type": "code",
   "execution_count": null,
   "metadata": {
    "vscode": {
     "languageId": "javascript"
    }
   },
   "outputs": [],
   "source": [
    "const data = await response.json();\n",
    "createCard(body, data);"
   ]
  },
  {
   "cell_type": "markdown",
   "metadata": {},
   "source": [
    "In this case, when a user submits a new review, the frontend sends the review data to the server. The server processes it and sends back the updated review. The frontend stores that new review in the list and displays it by creating a new card on the page, making the review visible to the user."
   ]
  },
  {
   "cell_type": "markdown",
   "metadata": {},
   "source": [
    "## 3. Procedure and Algorithm"
   ]
  },
  {
   "cell_type": "code",
   "execution_count": null,
   "metadata": {},
   "outputs": [],
   "source": [
    "def post(self):\n",
    "current_user = g.current_user\n",
    "data = request.get_json()\n",
    "\n",
    "if not data or 'food' not in data or 'review' not in data or 'rating' not in data:\n",
    "    return {'message': 'Invalid, data required'}, 400\n",
    "\n",
    "food_review = FoodReview12345(\n",
    "    food=data.get('food'),\n",
    "    review=data.get('review'),\n",
    "    rating=data.get('rating'),\n",
    "    user_id=current_user.id\n",
    ")\n",
    "\n",
    "try:\n",
    "    food_review.create()\n",
    "    return jsonify(food_review.read())\n",
    "except Exception as e:\n",
    "    return {'message': f'Error saving review: {e}'}, 500\n",
    "\n",
    "def get(self):\n",
    "review_id = request.args.get('id')\n",
    "\n",
    "if review_id:\n",
    "    review = FoodReview12345.query.get(review_id)\n",
    "    if not review:\n",
    "        return {'message': 'Review not found'}, 404\n",
    "    return jsonify(review.read())\n",
    "\n",
    "reviews = db.session.query(FoodReview12345, User).join(User, FoodReview12345.user_id == User.id).all()\n",
    "review_list = [{\"id\": r.FoodReview12345.id, \"user_id\": r.User._name, \"food\": r.FoodReview12345.food, \"review\": r.FoodReview12345.review, \"rating\": r.FoodReview12345.rating} for r in reviews]\n",
    "\n",
    "return jsonify(review_list)"
   ]
  },
  {
   "cell_type": "markdown",
   "metadata": {},
   "source": [
    "### Sequencing"
   ]
  },
  {
   "cell_type": "code",
   "execution_count": null,
   "metadata": {},
   "outputs": [],
   "source": [
    "food_review = FoodReview12345(  # Step 1: Create the food review object\n",
    "    food=data.get('food'),\n",
    "    review=data.get('review'),\n",
    "    rating=data.get('rating'),\n",
    "    user_id=current_user.id\n",
    ")\n",
    "\n",
    "try:\n",
    "    food_review.create()  # Step 2: Attempt to save the review to the database\n",
    "    return jsonify(food_review.read())  # Step 3: Return the created review data"
   ]
  },
  {
   "cell_type": "markdown",
   "metadata": {},
   "source": [
    "The steps need to happen in a specific order to work properly. First, you create the food_review object using the data from the request. This is important because without the object, there's nothing to save. Next, you save the review to the database using the create() method. If the object isn't created first, you can't save it. Finally, after saving the review, you fetch the saved data using read() and return it as a JSON response. So, you first create the object, then save it, and only after that, you return the saved data. Each step depends on the one before it."
   ]
  },
  {
   "cell_type": "markdown",
   "metadata": {},
   "source": [
    "### Selection "
   ]
  },
  {
   "cell_type": "code",
   "execution_count": null,
   "metadata": {},
   "outputs": [],
   "source": [
    "if review_id:  # Step 1: Check if a review ID is provided\n",
    "    review = FoodReview12345.query.get(review_id)  # Step 2: Select the review from the database using the provided ID\n",
    "    if not review:  # Step 3: Check if the review exists\n",
    "        return {'message': 'Review not found'}, 404  # Step 4: Return error if review is not found\n",
    "    return jsonify(review.read())  # Step 5: Return the selected review data"
   ]
  },
  {
   "cell_type": "markdown",
   "metadata": {},
   "source": [
    "The selection process starts when the code checks if a review_id is provided in the request. If it is, the code looks for that specific review in the database using FoodReview12345.query.get(review_id). If the review is not found, it returns an error with a message saying \"Review not found.\" If the review is found, it returns the review data. This process makes sure that only the review with the matching ID is selected from the database."
   ]
  },
  {
   "cell_type": "markdown",
   "metadata": {},
   "source": [
    "### Iteration "
   ]
  },
  {
   "cell_type": "code",
   "execution_count": null,
   "metadata": {},
   "outputs": [],
   "source": [
    "reviews = db.session.query(FoodReview12345, User).join(User, FoodReview12345.user_id == User.id).all()  # Step 1: Get all reviews and users\n",
    "review_list = [{\"id\": r.FoodReview12345.id, \"user_id\": r.User._name, \"food\": r.FoodReview12345.food, \"review\": r.FoodReview12345.review, \"rating\": r.FoodReview12345.rating} for r in reviews]  # Step 2: Iterate through reviews and format them into a list\n",
    "return jsonify(review_list)  # Step 3: Return the list of reviews as JSON\n"
   ]
  },
  {
   "cell_type": "markdown",
   "metadata": {},
   "source": [
    "The iteration happens in this part of the code, where it loops through each review in the reviews list. Here, the code goes through each review (r) in the reviews list and creates a dictionary with the review’s details like id, user_id, food, review, and rating. This is done for every review in the list. After all the reviews are processed, the list of dictionaries is returned as a JSON response. The iteration makes sure each review gets formatted into a dictionary."
   ]
  },
  {
   "cell_type": "markdown",
   "metadata": {},
   "source": [
    "## Call to Algorithm"
   ]
  },
  {
   "cell_type": "code",
   "execution_count": null,
   "metadata": {
    "vscode": {
     "languageId": "javascript"
    }
   },
   "outputs": [],
   "source": [
    "async function fetchReviews() {\n",
    "    const response = await fetch(`${pythonURI}/api/food_review_12345_api`);  // API call to fetch reviews\n",
    "    const data = await response.json();  // Convert the response into JSON\n",
    "\n",
    "    data.forEach(item => {  // Loop through each review\n",
    "        createCard(document.getElementById('main-content'), item);  // Create and display the review card\n",
    "    });\n",
    "}"
   ]
  },
  {
   "cell_type": "markdown",
   "metadata": {},
   "source": [
    "The call to the algorithm happens when the fetchReviews() function makes an API request using fetch(). This sends a request to the backend to get the reviews. The backend processes this request (the algorithm) and sends back the review data. The function then loops through each review (data.forEach()) and calls createCard() to display them on the page. The backend algorithm returns the reviews, and the frontend uses them to create review cards for the user."
   ]
  },
  {
   "cell_type": "markdown",
   "metadata": {},
   "source": [
    "## Output"
   ]
  },
  {
   "cell_type": "code",
   "execution_count": null,
   "metadata": {
    "vscode": {
     "languageId": "javascript"
    }
   },
   "outputs": [],
   "source": [
    "// Fetch reviews from an API and display them\n",
    "async function fetchReviews() {\n",
    "    const response = await fetch('/api/food_reviews'); // Make sure to replace with your API endpoint\n",
    "    const reviews = await response.json(); // Get reviews data\n",
    "\n",
    "    // Display the total number of reviews\n",
    "    document.getElementById('reviewCount').innerHTML = `You have ${reviews.length} reviews!`;\n",
    "\n",
    "    // Container for reviews\n",
    "    const container = document.getElementById('reviewsContainer');\n",
    "    \n",
    "    // Loop through each review and create a card for it\n",
    "    reviews.forEach(review => {\n",
    "        // Create a review card for each item\n",
    "        const card = document.createElement('div');\n",
    "        card.className = 'card';  // Add a class for styling\n",
    "\n",
    "        card.innerHTML = `\n",
    "            <h2>${review.food}</h2>\n",
    "            <p>${review.text}</p>\n",
    "            <p><strong>Rating:</strong> ${review.rating}/5</p>\n",
    "            <p><strong>User:</strong> ${review.user}</p>\n",
    "            <button onclick=\"removeReview(${review.id})\">Remove</button>\n",
    "        `;\n",
    "\n",
    "        // Add the card to the container\n",
    "        container.appendChild(card);\n",
    "    });\n",
    "}\n",
    "\n",
    "// Call the function when the page loads\n",
    "window.onload = fetchReviews;"
   ]
  },
  {
   "cell_type": "markdown",
   "metadata": {},
   "source": [
    "The code fetches review data from an API and dynamically displays it on the webpage. When the page loads, the fetchReviews() function is called, which retrieves reviews from the /api/food_reviews endpoint. It then updates the reviewCount element to show the total number of reviews. For each review, a new \"card\" (a <div>) is created that contains the food name, the review text, the rating, the user who posted it, and a \"Remove\" button. These cards are added to a container on the page. This approach allows the webpage to automatically display all reviews and their details as soon as the page loads."
   ]
  }
 ],
 "metadata": {
  "language_info": {
   "name": "python"
  }
 },
 "nbformat": 4,
 "nbformat_minor": 2
}
