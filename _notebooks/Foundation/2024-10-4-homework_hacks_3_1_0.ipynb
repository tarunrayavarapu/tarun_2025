{
 "cells": [
  {
   "cell_type": "markdown",
   "metadata": {},
   "source": [
    "## Homework Hack 3.10.1"
   ]
  },
  {
   "cell_type": "code",
   "execution_count": 4,
   "metadata": {},
   "outputs": [
    {
     "name": "stdout",
     "output_type": "stream",
     "text": [
      "Please enter a valid integer.\n"
     ]
    }
   ],
   "source": [
    "data_list = [5, 'banana', True, 8.99, 'apple']\n",
    "\n",
    "user_index = input(\"Enter an index to remove: \")\n",
    "\n",
    "if user_index.isdigit():\n",
    "    index = int(user_index)\n",
    "    if 0 <= index < len(data_list):\n",
    "        data_list.pop(index)\n",
    "        print(\"Updated list:\", data_list)\n",
    "    else:\n",
    "        print(\"Index is out of range.\")\n",
    "else:\n",
    "    print(\"Please enter a valid integer.\")\n"
   ]
  },
  {
   "cell_type": "markdown",
   "metadata": {},
   "source": [
    "## Homework Hack 3.10.2"
   ]
  },
  {
   "cell_type": "code",
   "execution_count": 5,
   "metadata": {},
   "outputs": [
    {
     "name": "stdout",
     "output_type": "stream",
     "text": [
      "Sum of even numbers: 240\n",
      "Sum of odd numbers: 225\n"
     ]
    }
   ],
   "source": [
    "numbers = [1, 2, 3, 4, 5, 6, 7, 8, 9, 10, \n",
    "           11, 12, 13, 14, 15, 16, 17, 18, 19, 20,\n",
    "           21, 22, 23, 24, 25, 26, 27, 28, 29, 30]\n",
    "\n",
    "sum_even = 0\n",
    "sum_odd = 0\n",
    "\n",
    "for number in numbers:\n",
    "    if number % 2 == 0:\n",
    "        sum_even += number\n",
    "    else:\n",
    "        sum_odd += number\n",
    "\n",
    "print(\"Sum of even numbers:\", sum_even)\n",
    "print(\"Sum of odd numbers:\", sum_odd)"
   ]
  },
  {
   "cell_type": "markdown",
   "metadata": {},
   "source": [
    "## Homework Hack 3.10.3"
   ]
  },
  {
   "cell_type": "code",
   "execution_count": 6,
   "metadata": {},
   "outputs": [
    {
     "name": "stdout",
     "output_type": "stream",
     "text": [
      "I enjoy Reading\n",
      "I enjoy Hiking\n",
      "I enjoy Cooking\n",
      "I enjoy Gaming\n",
      "I enjoy Photography\n",
      "Total number of hobbies: 5\n"
     ]
    }
   ],
   "source": [
    "hobbies = [\"Reading\", \"Hiking\", \"Cooking\", \"Gaming\", \"Photography\"]\n",
    "\n",
    "for hobby in hobbies:\n",
    "    print(\"I enjoy\", hobby)\n",
    "\n",
    "print(\"Total number of hobbies:\", len(hobbies))\n"
   ]
  },
  {
   "cell_type": "markdown",
   "metadata": {},
   "source": [
    "## Homework Hack 3.10.4"
   ]
  },
  {
   "cell_type": "code",
   "execution_count": 7,
   "metadata": {},
   "outputs": [
    {
     "name": "stdout",
     "output_type": "stream",
     "text": [
      "Do you like pizza? - Yes\n",
      "Is the sky green? - No\n"
     ]
    }
   ],
   "source": [
    "questions = [\n",
    "    {\"question\": \"Do you like pizza?\", \"answer\": \"Yes\"},\n",
    "    {\"question\": \"Is the sky green?\", \"answer\": \"No\"}\n",
    "]\n",
    "\n",
    "for q in questions:\n",
    "    print(q[\"question\"], \"-\", q[\"answer\"])\n"
   ]
  },
  {
   "cell_type": "markdown",
   "metadata": {},
   "source": [
    "## Popcorn Hack #1"
   ]
  },
  {
   "cell_type": "code",
   "execution_count": 8,
   "metadata": {},
   "outputs": [
    {
     "name": "stdout",
     "output_type": "stream",
     "text": [
      "Sum of numbers: 3\n",
      "Updated list after removing last element: []\n"
     ]
    }
   ],
   "source": [
    "numbers = []\n",
    "\n",
    "while True:\n",
    "    user_input = input(\"Enter a number (or 'done' to finish): \")\n",
    "    if user_input.lower() == 'done':\n",
    "        break\n",
    "    numbers.append(int(user_input))\n",
    "\n",
    "total_sum = sum(numbers)\n",
    "print(\"Sum of numbers:\", total_sum)\n",
    "\n",
    "if numbers:\n",
    "    numbers.pop()\n",
    "    print(\"Updated list after removing last element:\", numbers)\n"
   ]
  },
  {
   "cell_type": "markdown",
   "metadata": {},
   "source": [
    "## Popcorn Hack #3"
   ]
  },
  {
   "cell_type": "code",
   "execution_count": 9,
   "metadata": {},
   "outputs": [
    {
     "name": "stdout",
     "output_type": "stream",
     "text": [
      "Please enter your assignments (type 'exit' to finish):\n",
      "You have 14 assignment(s) in your list:\n",
      "* \n",
      "* \n",
      "* \n",
      "* \n",
      "* \n",
      "* \n",
      "* \n",
      "* \n",
      "* \n",
      "* \n",
      "* \n",
      "* \n",
      "* \n",
      "* \n"
     ]
    }
   ],
   "source": [
    "def collect_assignments():\n",
    "    assignments = []\n",
    "    print(\"Please enter your assignments (type 'exit' to finish):\")\n",
    "    \n",
    "    while True:\n",
    "        assignment = input(\"Assignment: \")\n",
    "        if assignment.lower() == 'exit':\n",
    "            break\n",
    "        assignments.append(assignment)\n",
    "    \n",
    "    return assignments\n",
    "\n",
    "def show_assignments(assignments):\n",
    "    total = len(assignments)\n",
    "    print(f\"You have {total} assignment(s) in your list:\")\n",
    "    for assignment in assignments:\n",
    "        print(f\"* {assignment}\")\n",
    "\n",
    "if __name__ == \"__main__\":\n",
    "    user_assignments = collect_assignments()\n",
    "    show_assignments(user_assignments)\n"
   ]
  }
 ],
 "metadata": {
  "kernelspec": {
   "display_name": "venv",
   "language": "python",
   "name": "python3"
  },
  "language_info": {
   "codemirror_mode": {
    "name": "ipython",
    "version": 3
   },
   "file_extension": ".py",
   "mimetype": "text/x-python",
   "name": "python",
   "nbconvert_exporter": "python",
   "pygments_lexer": "ipython3",
   "version": "3.10.12"
  }
 },
 "nbformat": 4,
 "nbformat_minor": 2
}
