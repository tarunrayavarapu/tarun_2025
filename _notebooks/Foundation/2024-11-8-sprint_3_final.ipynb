{
 "cells": [
  {
   "cell_type": "markdown",
   "metadata": {},
   "source": [
    "# Sprint 3 Summary\n",
    "*Final Reflection and Evaluation*\n",
    "\n",
    "## Introduction\n",
    "This sprint was all about combining our individual strengths to create something unique and engaging. Our team aimed to build a meaningful feature that would challenge users' minds, leading us to develop an interactive riddle page for the “Create and Compete” section. This page not only tested our coding skills but also required creative thinking to design riddles and an enjoyable user experience. Each meeting brought us closer to our goals, with peer reviews helping us refine every aspect.\n",
    "\n",
    "![Introduction summary image showing project planning and brainstorming](introduction_summary_image.jpg)\n",
    "\n",
    "## Project Overview\n",
    "The main objective of this sprint was to create an engaging, puzzle-based feature within our project. The riddle page we developed presents users with riddles that require logical thinking and creativity to solve. Our group focused on designing an intuitive interface with smooth interactions, allowing users to answer riddles directly and receive immediate feedback. The project brought out our best problem-solving skills and helped us design something both educational and fun.\n",
    "\n",
    "[View Riddle Page](https://kush1434.github.io/flocker_frontend/create_and_compete/riddle)\n",
    "\n",
    "![Screenshot of the riddle page with dark theme and user interaction elements](project_overview_image.jpg)\n",
    "\n",
    "## Individual Contributions\n",
    "In Sprint 3, I focused on both the backend logic and the frontend design of the riddle page. I was responsible for implementing the structure of the riddles and making sure each answer submission worked smoothly. I also helped format the page visually to ensure that the design was clear and appealing. Debugging and user-testing were key parts of my role, as I wanted to make sure users would have a positive experience without any technical issues.\n",
    "\n",
    "![Screenshot of code and debugging tools for the riddle page](individual_contributions_image.jpg)\n",
    "\n",
    "## Team Collaboration\n",
    "Our team collaboration was essential in making the riddle page a success. We divided tasks based on each person’s strengths and regularly met to review progress, exchange feedback, and solve any challenges. Using GitHub Issues, we tracked our tasks and made sure everyone was aligned. This allowed us to improve the feature with each iteration, as each team member brought new ideas and perspectives that enhanced the final product.\n",
    "\n",
    "![Image showing team collaboration with GitHub Issues and code reviews](team_collaboration_image.jpg)\n",
    "\n",
    "## Night at the Museum (N@tM) Presentation\n",
    "During the Night at the Museum presentation, we showcased our riddle page to peers, teachers, and visitors. The audience found the page fun and engaging, especially appreciating the challenge it offered. Some users suggested adding hints for tougher riddles, which gave us ideas for future improvements. This experience provided useful insights into how our project was received and gave us valuable feedback to consider for future updates.\n",
    "\n",
    "![Audience interaction during the Night at the Museum presentation](natm_presentation_image.jpg)\n",
    "\n",
    "## Final Reflection\n",
    "Reflecting on this sprint, I feel I’ve grown significantly in both technical and collaborative skills. Building the riddle page taught me how to balance design with functionality, and the teamwork involved helped me appreciate diverse ideas and approaches. The feedback we received from the Night at the Museum presentation also opened my eyes to the importance of user perspectives. Moving forward, I plan to continue refining this project and further developing my coding skills.\n",
    "\n",
    "![Reflection image showing growth and teamwork](final_reflection_image.jpg)\n",
    "\n",
    "---\n",
    "\n",
    "*Created by [Your Name] | Sprint 3 Summary | 2024*\n"
   ]
  }
 ],
 "metadata": {
  "language_info": {
   "name": "python"
  }
 },
 "nbformat": 4,
 "nbformat_minor": 2
}
