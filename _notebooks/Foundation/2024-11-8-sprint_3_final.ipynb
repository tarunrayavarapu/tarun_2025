{
 "cells": [
  {
   "cell_type": "markdown",
   "metadata": {},
   "source": [
    "\n",
    "<header>\n",
    "        <h1>Sprint 3 Summary</h1>\n",
    "        <p>Final Reflection and Evaluation</p>\n",
    "    </header>\n",
    "\n",
    " <section id=\"introduction\">\n",
    "        <h2>Introduction</h2>\n",
    "        <p>This sprint was all about combining our individual strengths to create something unique and engaging. Our team aimed to build a meaningful feature that would challenge users' minds, leading us to develop an interactive riddle page for the “Create and Compete” section. This page not only tested our coding skills but also required creative thinking to design riddles and an enjoyable user experience. Each meeting brought us closer to our goals, with peer reviews helping us refine every aspect.</p>\n",
    "        <img src=\"introduction_summary_image.jpg\" alt=\"Introduction summary image showing project planning and brainstorming\">\n",
    "    </section>\n",
    "\n",
    "<section id=\"project-overview\">\n",
    "        <h2>Project Overview</h2>\n",
    "        <p>The main objective of this sprint was to create an engaging, puzzle-based feature within our project. The riddle page we developed presents users with riddles that require logical thinking and creativity to solve. Our group focused on designing an intuitive interface with smooth interactions, allowing users to answer riddles directly and receive immediate feedback. The project brought out our best problem-solving skills and helped us design something both educational and fun.</p>\n",
    "        <p><a href=\"https://kush1434.github.io/flocker_frontend/create_and_compete/riddle\" target=\"_blank\">View Riddle Page</a></p>\n",
    "        <img src=\"project_overview_image.jpg\" alt=\"Screenshot of the riddle page with dark theme and user interaction elements\">\n",
    "    </section>\n",
    "\n",
    " <section id=\"individual-contributions\">\n",
    "        <h2>Individual Contributions</h2>\n",
    "        <p>In Sprint 3, I focused on both the backend logic and the frontend design of the riddle page. I was responsible for implementing the structure of the riddles and making sure each answer submission worked smoothly. I also helped format the page visually to ensure that the design was clear and appealing. Debugging and user-testing were key parts of my role, as I wanted to make sure users would have a positive experience without any technical issues.</p>\n",
    "        <img src=\"individual_contributions_image.jpg\" alt=\"Screenshot of code and debugging tools for the riddle page\">\n",
    "    </section>\n",
    "\n",
    "<section id=\"team-collaboration\">\n",
    "        <h2>Team Collaboration</h2>\n",
    "        <p>Our team collaboration was essential in making the riddle page a success. We divided tasks based on each person’s strengths and regularly met to review progress, exchange feedback, and solve any challenges. Using GitHub Issues, we tracked our tasks and made sure everyone was aligned. This allowed us to improve the feature with each iteration, as each team member brought new ideas and perspectives that enhanced the final product.</p>\n",
    "        <img src=\"team_collaboration_image.jpg\" alt=\"Image showing team collaboration with GitHub Issues and code reviews\">\n",
    "    </section>\n",
    "\n",
    " <section id=\"natm-reflection\">\n",
    "        <h2>Night at the Museum (N@tM) Presentation</h2>\n",
    "        <p>During the Night at the Museum presentation, we showcased our riddle page to peers, teachers, and visitors. The audience found the page fun and engaging, especially appreciating the challenge it offered. Some users suggested adding hints for tougher riddles, which gave us ideas for future improvements. This experience provided useful insights into how our project was received and gave us valuable feedback to consider for future updates.</p>\n",
    "        <img src=\"natm_presentation_image.jpg\" alt=\"Audience interaction during the Night at the Museum presentation\">\n",
    "    </section>\n",
    "\n",
    "<section id=\"final-reflection\">\n",
    "        <h2>Final Reflection</h2>\n",
    "        <p>Reflecting on this sprint, I feel I’ve grown significantly in both technical and collaborative skills. Building the riddle page taught me how to balance design with functionality, and the teamwork involved helped me appreciate diverse ideas and approaches. The feedback we received from the Night at the Museum presentation also opened my eyes to the importance of user perspectives. Moving forward, I plan to continue refining this project and further developing my coding skills.</p>\n",
    "        <img src=\"final_reflection_image.jpg\" alt=\"Reflection image showing growth and teamwork\">\n",
    "    </section>\n",
    "\n",
    "<footer>\n",
    "        <p>Created by [Your Name] | Sprint 3 Summary | 2024</p>\n",
    "    </footer>\n",
    "\n"
   ]
  }
 ],
 "metadata": {
  "language_info": {
   "name": "python"
  }
 },
 "nbformat": 4,
 "nbformat_minor": 2
}
