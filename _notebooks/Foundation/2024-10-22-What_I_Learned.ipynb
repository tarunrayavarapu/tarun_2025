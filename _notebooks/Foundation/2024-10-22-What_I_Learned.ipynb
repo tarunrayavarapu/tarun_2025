{
 "cells": [
  {
   "cell_type": "markdown",
   "metadata": {},
   "source": [
    "### What I learned!"
   ]
  },
  {
   "cell_type": "markdown",
   "metadata": {},
   "source": [
    "-*Development of interactive games*: using JavaScript and Python.\n",
    "\n",
    "- *UI/design*: Creating user-friendly interfaces for better experiences.\n",
    "\n",
    "-*Web development*: fundamentals, focusing on HTML, CSS, Python, and JavaScript.\n",
    "\n",
    "-*Backend skills*: Working with databases.\n",
    "\n",
    "-*Team collaboration*: Working in group projects using Git and other collaborative tools.\n",
    "\n",
    "-*Debugging and testing*: Ensuring code quality through problem-solving and testing.\n",
    "\n",
    "-*Project management*: Organizing and managing projects effectively from start to finish.\n",
    "\n",
    "<img src=\"https://www.pngall.com/wp-content/uploads/5/Brain-Learning.png\" alt=\"Brain Learning\" width=\"300\"/>"
   ]
  },
  {
   "cell_type": "markdown",
   "metadata": {},
   "source": [
    "### My achievements!"
   ]
  },
  {
   "cell_type": "markdown",
   "metadata": {},
   "source": [
    "- *Learned Python and JavaScript*: Gained proficiency in both languages through interactive coding projects.\n",
    "\n",
    "- *Built a Personal Portfolio*: Created a website to showcase all coding projects and achievements.\n",
    "\n",
    "- *Forked and Contributed to Repositories*: Enhanced collaboration by forking repositories and making contributions to group projects.\n",
    "\n",
    "- *Collaborated on GitHub*: Did pull requests, issues, and made changesn  on repository\n",
    "\n",
    "<img src=\"https://cdn-icons-png.flaticon.com/512/4387/4387887.png\" alt=\"Icon\" width=\"300\" />\n"
   ]
  }
 ],
 "metadata": {
  "language_info": {
   "name": "python"
  }
 },
 "nbformat": 4,
 "nbformat_minor": 2
}
