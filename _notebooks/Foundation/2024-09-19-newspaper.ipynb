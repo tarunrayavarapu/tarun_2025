{
 "cells": [
  {
   "cell_type": "code",
   "execution_count": 2,
   "metadata": {},
   "outputs": [
    {
     "data": {
      "text/markdown": [
       "‘SNL’ boss Lorne Michaels reveals the show’s satire plans for the upcoming election"
      ],
      "text/plain": [
       "<IPython.core.display.Markdown object>"
      ]
     },
     "metadata": {},
     "output_type": "display_data"
    },
    {
     "data": {
      "text/markdown": [
       "CNN —\n",
       "\n",
       "“Saturday Night Live” has spent decades spoofing politicians, aiming to find levity in a divisive topic.\n",
       "\n",
       "Creator Lorne Michaels said that the long-running sketch show’s milestone 50th season will be no different, adding that he sees the weeks ahead of the election in November as an opportunity to invite some beloved former cast members back to Studio 8H.\n",
       "\n",
       "“I want to celebrate this season with people coming back who’ve been part of the show and who love the show — not so much as hosts but just making appearances, and so the election is a chance for that because that’s five or six shows,” Michaels told the Hollywood Reporter in an interview published Thursday.\n",
       "\n",
       "Michaels confirmed that “SNL” alum Maya Rudolph will return to portray Vice President Kamala Harris. He also said that Steve Martin will make an appearance this season but not to portray Harris’ running mate Tim Walz, despite calls from people on the internet lobbying for it.\n",
       "\n",
       "Maya Rudolph as Kamala Harris on 'Saturday Night Live' in 2020. Will Heath/NBC/Getty Images\n",
       "\n",
       "As far as who may portray former President Donald Trump, Michaels stopped short of confirming whether previous “SNL” Trump impressionist Alec Baldwin would return, but said that cast member James Austin Johnson, who has also portrayed the former president, “will be there” in some capacity.\n",
       "\n",
       "“Trump has morphed,” said Michaels. “We are going to have to reinvent it again because, well, you saw the debate. One of the great parts of show business is that you can’t come back with the same show. So, all of these characters have to be reexamined.”\n",
       "\n",
       "“We have the people to play (the candidates) and it should be fun,” he added.\n",
       "\n",
       "“You can’t lecture the audience, which most of politics is now, people lecturing the audience. Ours is like, ‘Yeah, there are kind of idiots on both sides,’” Michael’s said of “SNL’s” approach to political satire. “It has to be comedy. We’re first and foremost a comedy show.”\n",
       "\n",
       "“SNL” will kicks off its 50th season on September 28 on NBC. “Hacks” star Jean Smart is set to host and Jelly Roll will perform as musical guest."
      ],
      "text/plain": [
       "<IPython.core.display.Markdown object>"
      ]
     },
     "metadata": {},
     "output_type": "display_data"
    },
    {
     "name": "stdout",
     "output_type": "stream",
     "text": [
      "\n",
      "\n"
     ]
    }
   ],
   "source": [
    "from newspaper import Article\n",
    "from IPython.display import display, Markdown\n",
    "\n",
    "\n",
    "urls = [\"https://www.cnn.com/2024/09/19/entertainment/snl-lorne-michaels-election/index.html\"]\n",
    "\n",
    "for url in urls:\n",
    "    article = Article(url)\n",
    "    article.download()\n",
    "    article.parse()\n",
    "    # Jupyter Notebook Display\n",
    "    # print(article.title)\n",
    "    display(Markdown(article.title)) # Jupyter display only\n",
    "    display(Markdown(article.text)) # Jupyter display only\n",
    "    print(\"\\n\")"
   ]
  }
 ],
 "metadata": {
  "kernelspec": {
   "display_name": "venv",
   "language": "python",
   "name": "python3"
  },
  "language_info": {
   "codemirror_mode": {
    "name": "ipython",
    "version": 3
   },
   "file_extension": ".py",
   "mimetype": "text/x-python",
   "name": "python",
   "nbconvert_exporter": "python",
   "pygments_lexer": "ipython3",
   "version": "3.10.12"
  }
 },
 "nbformat": 4,
 "nbformat_minor": 2
}
