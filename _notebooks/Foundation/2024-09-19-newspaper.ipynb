{
 "cells": [
  {
   "cell_type": "code",
   "execution_count": 2,
   "metadata": {},
   "outputs": [
    {
     "data": {
      "text/markdown": [
       "‘SNL’ boss Lorne Michaels reveals the show’s satire plans for the upcoming election"
      ],
      "text/plain": [
       "<IPython.core.display.Markdown object>"
      ]
     },
     "metadata": {},
     "output_type": "display_data"
    },
    {
     "data": {
      "text/markdown": [
       "CNN —\n",
       "\n",
       "“Saturday Night Live” has spent decades spoofing politicians, aiming to find levity in a divisive topic.\n",
       "\n",
       "Creator Lorne Michaels said that the long-running sketch show’s milestone 50th season will be no different, adding that he sees the weeks ahead of the election in November as an opportunity to invite some beloved former cast members back to Studio 8H.\n",
       "\n",
       "“I want to celebrate this season with people coming back who’ve been part of the show and who love the show — not so much as hosts but just making appearances, and so the election is a chance for that because that’s five or six shows,” Michaels told the Hollywood Reporter in an interview published Thursday.\n",
       "\n",
       "Michaels confirmed that “SNL” alum Maya Rudolph will return to portray Vice President Kamala Harris. He also said that Steve Martin will make an appearance this season but not to portray Harris’ running mate Tim Walz, despite calls from people on the internet lobbying for it.\n",
       "\n",
       "Maya Rudolph as Kamala Harris on 'Saturday Night Live' in 2020. Will Heath/NBC/Getty Images\n",
       "\n",
       "As far as who may portray former President Donald Trump, Michaels stopped short of confirming whether previous “SNL” Trump impressionist Alec Baldwin would return, but said that cast member James Austin Johnson, who has also portrayed the former president, “will be there” in some capacity.\n",
       "\n",
       "“Trump has morphed,” said Michaels. “We are going to have to reinvent it again because, well, you saw the debate. One of the great parts of show business is that you can’t come back with the same show. So, all of these characters have to be reexamined.”\n",
       "\n",
       "“We have the people to play (the candidates) and it should be fun,” he added.\n",
       "\n",
       "“You can’t lecture the audience, which most of politics is now, people lecturing the audience. Ours is like, ‘Yeah, there are kind of idiots on both sides,’” Michael’s said of “SNL’s” approach to political satire. “It has to be comedy. We’re first and foremost a comedy show.”\n",
       "\n",
       "“SNL” will kicks off its 50th season on September 28 on NBC. “Hacks” star Jean Smart is set to host and Jelly Roll will perform as musical guest."
      ],
      "text/plain": [
       "<IPython.core.display.Markdown object>"
      ]
     },
     "metadata": {},
     "output_type": "display_data"
    },
    {
     "name": "stdout",
     "output_type": "stream",
     "text": [
      "\n",
      "\n"
     ]
    }
   ],
   "source": [
    "from newspaper import Article\n",
    "from IPython.display import display, Markdown\n",
    "\n",
    "\n",
    "urls = [\"https://www.cnn.com/2024/09/19/entertainment/snl-lorne-michaels-election/index.html\"]\n",
    "\n",
    "for url in urls:\n",
    "    article = Article(url)\n",
    "    article.download()\n",
    "    article.parse()\n",
    "    # Jupyter Notebook Display\n",
    "    # print(article.title)\n",
    "    display(Markdown(article.title)) # Jupyter display only\n",
    "    display(Markdown(article.text)) # Jupyter display only\n",
    "    print(\"\\n\")"
   ]
  },
  {
   "cell_type": "code",
   "execution_count": 5,
   "metadata": {},
   "outputs": [
    {
     "name": "stdout",
     "output_type": "stream",
     "text": [
      "Print test data: 100\n",
      "Mean of single number: 100\n",
      "\n",
      "Print test data: [90.5, 100, 85.4, 88]\n",
      "Average score, loop method: 90.98\n",
      "Average score, function method: 90.98\n",
      "\n",
      "Print test data: [100, 'NaN', 90]\n",
      "Error encountered: Bad data: NaN in [100, 'NaN', 90]\n"
     ]
    }
   ],
   "source": [
    "from typing import Union\n",
    "\n",
    "# Define types for mean function\n",
    "Number = Union[int, float]  # Number can be either int or float type\n",
    "Numbers = list[Number] # Numbers is a list of Number types\n",
    "Scores = Union[Number, Numbers] # Scores can be single or multiple \n",
    "\n",
    "def mean(scores: Scores, method: int = 1) -> float:\n",
    "    \"\"\"\n",
    "    Calculate the mean of a list of scores.\n",
    "    \n",
    "    Average and Average2 are hidden functions performing mean algorithm\n",
    "\n",
    "    If a single score is provided in scores, it is returned as the mean.\n",
    "    If a list of scores is provided, the average is calculated and returned.\n",
    "    \"\"\"\n",
    "    \n",
    "    def average(scores): \n",
    "        \"\"\"Calculate the average of a list of scores using a Python for loop with rounding.\"\"\"\n",
    "        sum = 0\n",
    "        length = 0\n",
    "        for score in scores:\n",
    "            if isinstance(score, Number):\n",
    "                sum += score\n",
    "                length += 1\n",
    "            else:\n",
    "                raise ValueError(f\"Bad data: {score} in {scores}\")\n",
    "        return sum / length\n",
    "    \n",
    "    def average2(scores):\n",
    "        \"\"\"Calculate the average of a list of scores using the built-in sum() function with rounding.\"\"\"\n",
    "        return sum(scores) / len(scores)\n",
    "\n",
    "    # Test to see if scores is a list of numbers\n",
    "    if isinstance(scores, list):\n",
    "        if method == 1:  \n",
    "            # Long method (manual loop)\n",
    "            result = average(scores)\n",
    "        else:\n",
    "            # Built-in method (sum and len)\n",
    "            result = average2(scores)\n",
    "        return round(result + 0.005, 2)\n",
    "    \n",
    "    # Case where scores is a single value\n",
    "    return scores  \n",
    "\n",
    "# Try with one number\n",
    "singleScore = 100\n",
    "print(\"Print test data: \" + str(singleScore))  # Concatenate data for single line\n",
    "print(\"Mean of single number: \" + str(mean(singleScore)))\n",
    "\n",
    "print()\n",
    "\n",
    "# Define a list of numbers\n",
    "testScores = [90.5, 100, 85.4, 88]\n",
    "print(\"Print test data: \" + str(testScores))\n",
    "print(\"Average score, loop method: \" + str(mean(testScores)))\n",
    "print(\"Average score, function method: \" + str(mean(testScores, 2)))\n",
    "\n",
    "print()\n",
    "\n",
    "# Test with bad data (string in list)\n",
    "badData = [100, \"NaN\", 90]\n",
    "print(\"Print test data: \" + str(badData))\n",
    "\n",
    "try:\n",
    "    print(\"Mean with bad data: \" + str(mean(badData)))\n",
    "except ValueError as e:\n",
    "    print(\"Error encountered:\", e)\n"
   ]
  }
 ],
 "metadata": {
  "kernelspec": {
   "display_name": "venv",
   "language": "python",
   "name": "python3"
  },
  "language_info": {
   "codemirror_mode": {
    "name": "ipython",
    "version": 3
   },
   "file_extension": ".py",
   "mimetype": "text/x-python",
   "name": "python",
   "nbconvert_exporter": "python",
   "pygments_lexer": "ipython3",
   "version": "3.10.12"
  }
 },
 "nbformat": 4,
 "nbformat_minor": 2
}
