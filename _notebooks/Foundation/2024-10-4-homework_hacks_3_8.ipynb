{
 "cells": [
  {
   "cell_type": "markdown",
   "metadata": {},
   "source": [
    "## Homework Hack 3.8.1"
   ]
  },
  {
   "cell_type": "code",
   "execution_count": 1,
   "metadata": {},
   "outputs": [
    {
     "name": "stdout",
     "output_type": "stream",
     "text": [
      "name Tarun\n",
      "age 16\n",
      "Tarun\n",
      "16\n",
      "name Tarun\n",
      "age 16\n"
     ]
    }
   ],
   "source": [
    "person = {'name': 'Tarun', 'age': 16}\n",
    "\n",
    "for key in person:\n",
    "    print(key, person[key])\n",
    "\n",
    "for value in person.values():\n",
    "    print(value)\n",
    "\n",
    "for key, value in person.items():\n",
    "    print(key, value)"
   ]
  },
  {
   "cell_type": "markdown",
   "metadata": {},
   "source": [
    "## Homework Hack 3.8.2"
   ]
  },
  {
   "cell_type": "code",
   "execution_count": 2,
   "metadata": {},
   "outputs": [
    {
     "name": "stdout",
     "output_type": "stream",
     "text": [
      "1\n",
      "2\n",
      "Fizz\n",
      "4\n",
      "Buzz\n",
      "Fizz\n",
      "Boom\n",
      "8\n",
      "Fizz\n",
      "Buzz\n",
      "11\n",
      "Fizz\n",
      "13\n",
      "Boom\n",
      "FizzBuzz\n",
      "16\n",
      "17\n",
      "Fizz\n",
      "19\n",
      "Buzz\n",
      "Boom\n",
      "22\n",
      "23\n",
      "Fizz\n",
      "Buzz\n",
      "26\n",
      "Fizz\n",
      "Boom\n",
      "29\n",
      "FizzBuzz\n",
      "31\n",
      "32\n",
      "Fizz\n",
      "34\n",
      "Boom\n",
      "Fizz\n",
      "37\n",
      "38\n",
      "Fizz\n",
      "Buzz\n",
      "41\n",
      "Boom\n",
      "43\n",
      "44\n",
      "FizzBuzz\n",
      "46\n",
      "47\n",
      "Fizz\n",
      "Boom\n",
      "Buzz\n",
      "Buzz\n",
      "51\n",
      "Fizz\n",
      "53\n",
      "54\n",
      "Buzz\n",
      "Boom\n",
      "57\n",
      "58\n",
      "59\n",
      "FizzBuzz\n",
      "61\n",
      "62\n",
      "Boom\n",
      "Fizz\n",
      "Buzz\n",
      "66\n",
      "67\n",
      "Fizz\n",
      "69\n",
      "Boom\n",
      "71\n",
      "Fizz\n",
      "73\n",
      "74\n",
      "Buzz\n",
      "Fizz\n",
      "Boom\n",
      "78\n",
      "79\n",
      "FizzBuzz\n",
      "81\n",
      "82\n",
      "83\n",
      "Boom\n",
      "Buzz\n",
      "86\n",
      "87\n",
      "Fizz\n",
      "89\n",
      "Buzz\n",
      "Boom\n",
      "Fizz\n",
      "93\n",
      "94\n",
      "Buzz\n",
      "Fizz\n",
      "97\n",
      "Boom\n",
      "99\n",
      "FizzBuzz\n"
     ]
    },
    {
     "name": "stdout",
     "output_type": "stream",
     "text": [
      "Incorrect credentials, 2 attempts left.\n",
      "Incorrect credentials, 1 attempts left.\n",
      "Account locked\n"
     ]
    }
   ],
   "source": [
    "# Task 1: FizzBuzz with a Twist (1 to 50)\n",
    "i = 1\n",
    "while i <= 50:\n",
    "    if i % 3 == 0 and i % 5 == 0:\n",
    "        print(\"FizzBuzz\")\n",
    "    elif i % 7 == 0:\n",
    "        print(\"Boom\")\n",
    "    elif i % 3 == 0:\n",
    "        print(\"Fizz\")\n",
    "    elif i % 5 == 0:\n",
    "        print(\"Buzz\")\n",
    "    else:\n",
    "        print(i)\n",
    "    i += 1\n",
    "\n",
    "# Task 1 Challenge: FizzBuzz with a Twist (50 to 100)\n",
    "i = 50\n",
    "while i <= 100:\n",
    "    if i % 4 == 0 and i % 5 == 0:\n",
    "        print(\"FizzBuzz\")\n",
    "    elif i % 7 == 0:\n",
    "        print(\"Boom\")\n",
    "    elif i % 4 == 0:\n",
    "        print(\"Fizz\")\n",
    "    elif i % 5 == 0:\n",
    "        print(\"Buzz\")\n",
    "    else:\n",
    "        print(i)\n",
    "    i += 1\n",
    "\n",
    "# Task 2: User Authentication System (do-while loop simulation)\n",
    "correct_username = \"user\"\n",
    "correct_password = \"pass\"\n",
    "attempts = 3\n",
    "\n",
    "while attempts > 0:\n",
    "    username = input(\"Enter username: \")\n",
    "    password = input(\"Enter password: \")\n",
    "\n",
    "    if username == correct_username and password == correct_password:\n",
    "        print(\"Login successful\")\n",
    "        break\n",
    "    else:\n",
    "        attempts -= 1\n",
    "        if attempts > 0:\n",
    "            print(f\"Incorrect credentials, {attempts} attempts left.\")\n",
    "        else:\n",
    "            print(\"Account locked\")\n",
    "\n"
   ]
  },
  {
   "cell_type": "markdown",
   "metadata": {},
   "source": [
    "## Homework Hack 3.8.3"
   ]
  },
  {
   "cell_type": "code",
   "execution_count": 3,
   "metadata": {},
   "outputs": [
    {
     "name": "stdout",
     "output_type": "stream",
     "text": [
      "1. Complete math assignment\n",
      "2. Organize bookshelf\n",
      "3. Prepare presentation\n",
      "4. Water the plants\n",
      "5. Cook dinner\n"
     ]
    }
   ],
   "source": [
    "tasks = [\n",
    "    \"Complete math assignment\",\n",
    "    \"Organize bookshelf\",\n",
    "    \"Prepare presentation\",\n",
    "    \"Water the plants\",\n",
    "    \"Cook dinner\"\n",
    "]\n",
    "\n",
    "def display_tasks():\n",
    "    for index in range(len(tasks)):\n",
    "        print(f\"{index + 1}. {tasks[index]}\")\n",
    "\n",
    "display_tasks()\n"
   ]
  },
  {
   "cell_type": "markdown",
   "metadata": {},
   "source": [
    "## Homework Hack 3.8.4"
   ]
  },
  {
   "cell_type": "markdown",
   "metadata": {},
   "source": [
    "#### Java"
   ]
  },
  {
   "cell_type": "code",
   "execution_count": 1,
   "metadata": {
    "vscode": {
     "languageId": "javascript"
    }
   },
   "outputs": [
    {
     "ename": "SyntaxError",
     "evalue": "invalid syntax (247526510.py, line 1)",
     "output_type": "error",
     "traceback": [
      "\u001b[0;36m  Cell \u001b[0;32mIn[1], line 1\u001b[0;36m\u001b[0m\n\u001b[0;31m    let i = 0;\u001b[0m\n\u001b[0m        ^\u001b[0m\n\u001b[0;31mSyntaxError\u001b[0m\u001b[0;31m:\u001b[0m invalid syntax\n"
     ]
    }
   ],
   "source": [
    "let i = 0;\n",
    "while (i <= 20) {\n",
    "    if (i === 12) {\n",
    "        break;\n",
    "    }\n",
    "    console.log(i);\n",
    "    i += 2;\n",
    "}"
   ]
  },
  {
   "cell_type": "markdown",
   "metadata": {},
   "source": [
    "### Python"
   ]
  },
  {
   "cell_type": "code",
   "execution_count": 2,
   "metadata": {
    "vscode": {
     "languageId": "javascript"
    }
   },
   "outputs": [
    {
     "name": "stdout",
     "output_type": "stream",
     "text": [
      "This number is 1\n",
      "This number is 3\n",
      "This number is 5\n",
      "This number is 7\n",
      "This number is 9\n"
     ]
    }
   ],
   "source": [
    "for i in range(10):\n",
    "    if i % 2 == 0:\n",
    "        continue\n",
    "    print(f\"This number is {i}\")"
   ]
  }
 ],
 "metadata": {
  "kernelspec": {
   "display_name": "venv",
   "language": "python",
   "name": "python3"
  },
  "language_info": {
   "codemirror_mode": {
    "name": "ipython",
    "version": 3
   },
   "file_extension": ".py",
   "mimetype": "text/x-python",
   "name": "python",
   "nbconvert_exporter": "python",
   "pygments_lexer": "ipython3",
   "version": "3.10.12"
  }
 },
 "nbformat": 4,
 "nbformat_minor": 2
}
