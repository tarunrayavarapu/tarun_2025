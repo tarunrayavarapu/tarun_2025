{
 "cells": [
  {
   "cell_type": "markdown",
   "metadata": {},
   "source": [
    "## Homework Hack #1"
   ]
  },
  {
   "cell_type": "code",
   "execution_count": 20,
   "metadata": {},
   "outputs": [
    {
     "ename": "ModuleNotFoundError",
     "evalue": "No module named 'numpy'",
     "output_type": "error",
     "traceback": [
      "\u001b[0;31m---------------------------------------------------------------------------\u001b[0m",
      "\u001b[0;31mModuleNotFoundError\u001b[0m                       Traceback (most recent call last)",
      "Cell \u001b[0;32mIn[20], line 1\u001b[0m\n\u001b[0;32m----> 1\u001b[0m \u001b[38;5;28;01mimport\u001b[39;00m \u001b[38;5;21;01mnumpy\u001b[39;00m \u001b[38;5;28;01mas\u001b[39;00m \u001b[38;5;21;01mnp\u001b[39;00m\n\u001b[1;32m      2\u001b[0m \u001b[38;5;28;01mimport\u001b[39;00m \u001b[38;5;21;01mlogging\u001b[39;00m\n\u001b[1;32m      3\u001b[0m \u001b[38;5;28;01mimport\u001b[39;00m \u001b[38;5;21;01msys\u001b[39;00m\n",
      "\u001b[0;31mModuleNotFoundError\u001b[0m: No module named 'numpy'"
     ]
    }
   ],
   "source": [
    "import numpy as np\n",
    "import logging\n",
    "import sys\n",
    "\n",
    "# Set up logging configuration\n",
    "logging.basicConfig(level=logging.INFO, format='%(levelname)s: %(message)s')\n",
    "\n",
    "def multiply_matrices(X, Y):\n",
    "    \"\"\"\n",
    "    Performs matrix multiplication on matrices X and Y.\n",
    "    \"\"\"\n",
    "    logging.debug(f\"Multiplying matrices:\\n{X}\\n{Y}\")\n",
    "    return np.dot(X, Y)\n",
    "\n",
    "def raise_matrix_to_power(matrix, exponent):\n",
    "    \"\"\"\n",
    "    Raises the given matrix to the specified exponent using binary exponentiation.\n",
    "    \"\"\"\n",
    "    if exponent < 0:\n",
    "        raise ValueError(\"Exponent must be a non-negative integer.\")\n",
    "    \n",
    "    identity_matrix = np.identity(len(matrix), dtype=object)\n",
    "    logging.debug(f\"Starting identity matrix:\\n{identity_matrix}\")\n",
    "    \n",
    "    while exponent > 0:\n",
    "        if exponent % 2 == 1:\n",
    "            identity_matrix = multiply_matrices(identity_matrix, matrix)\n",
    "            logging.debug(f\"Updated result after multiplication:\\n{identity_matrix}\")\n",
    "        matrix = multiply_matrices(matrix, matrix)\n",
    "        logging.debug(f\"Matrix squared:\\n{matrix}\")\n",
    "        exponent //= 2\n",
    "        logging.debug(f\"Exponent reduced to: {exponent}\")\n",
    "    \n",
    "    return identity_matrix\n",
    "\n",
    "def compute_fibonacci(position):\n",
    "    \"\"\"\n",
    "    Calculates the Fibonacci number at a given position using matrix exponentiation.\n",
    "    \"\"\"\n",
    "    if not isinstance(position, int):\n",
    "        raise TypeError(\"Input must be an integer.\")\n",
    "    if position < 0:\n",
    "        raise ValueError(\"Fibonacci is not defined for negative positions.\")\n",
    "    elif position == 0:\n",
    "        return 0\n",
    "    elif position == 1:\n",
    "        return 1\n",
    "    \n",
    "    base_matrix = np.array([[1, 1],\n",
    "                            [1, 0]], dtype=object)\n",
    "    \n",
    "    powered_matrix = raise_matrix_to_power(base_matrix, position - 1)\n",
    "    \n",
    "    logging.info(f\"Matrix raised to power {position - 1}:\\n{powered_matrix}\")\n",
    "    \n",
    "    return powered_matrix[0][0]\n",
    "\n",
    "def validate_position(user_input):\n",
    "    \"\"\"\n",
    "    Validate user input to ensure it's a non-negative integer.\n",
    "    \"\"\"\n",
    "    try:\n",
    "        pos = int(user_input)\n",
    "        if pos < 0:\n",
    "            raise ValueError\n",
    "        return pos\n",
    "    except ValueError:\n",
    "        raise ValueError(\"Please enter a valid non-negative integer.\")\n",
    "\n",
    "def run_program():\n",
    "    \"\"\"\n",
    "    Main function to execute the Fibonacci calculation based on user input.\n",
    "    \"\"\"\n",
    "    try:\n",
    "        input_value = input(\"Enter the position of the Fibonacci number you wish to compute: \")\n",
    "        position = validate_position(input_value)\n",
    "        fib_number = compute_fibonacci(position)\n",
    "        print(f\"The Fibonacci number at position {position} is: {fib_number}\")\n",
    "    except ValueError as input_error:\n",
    "        logging.error(input_error)\n",
    "    except Exception as general_error:\n",
    "        logging.error(f\"An unexpected error occurred: {general_error}\")\n",
    "        sys.exit(1)\n",
    "\n",
    "if __name__ == \"__main__\":\n",
    "    run_program()\n"
   ]
  },
  {
   "cell_type": "markdown",
   "metadata": {},
   "source": [
    "## Homework Hack #2"
   ]
  },
  {
   "cell_type": "code",
   "execution_count": 21,
   "metadata": {
    "vscode": {
     "languageId": "javascript"
    }
   },
   "outputs": [
    {
     "data": {
      "application/javascript": "public class FibonacciDynamic {\n\n    // Method to calculate Fibonacci using dynamic programming with optimized space\n    public static long findFibonacci(int pos) {\n        // Base cases for Fibonacci\n        if (pos == 0) return 0;\n        if (pos == 1) return 1;\n\n        // Variables to store previous two Fibonacci numbers\n        long previous1 = 1, previous2 = 0;\n        long currentFib = 0;\n\n        // Iteratively calculate Fibonacci\n        for (int i = 2; i <= pos; i++) {\n            currentFib = previous1 + previous2;\n            previous2 = previous1;\n            previous1 = currentFib;\n        }\n\n        return currentFib;\n    }\n\n    // Efficient matrix exponentiation approach (O(log n))\n    public static long findFibonacciMatrix(int pos) {\n        if (pos == 0) return 0;\n\n        long[][] transformationMatrix = { { 1, 1 }, { 1, 0 } };\n        matrixPower(transformationMatrix, pos - 1);\n\n        return transformationMatrix[0][0];\n    }\n\n    // Helper method to perform matrix exponentiation\n    private static void matrixPower(long[][] matrix, int exp) {\n        if (exp == 0 || exp == 1) return;\n\n        long[][] baseMatrix = { { 1, 1 }, { 1, 0 } };\n\n        matrixPower(matrix, exp / 2);\n        matrixMultiply(matrix, matrix); // Square the matrix\n\n        if (exp % 2 != 0) matrixMultiply(matrix, baseMatrix); // Multiply by baseMatrix if exp is odd\n    }\n\n    // Matrix multiplication helper\n    private static void matrixMultiply(long[][] matrix, long[][] multiplier) {\n        long a = matrix[0][0] * multiplier[0][0] + matrix[0][1] * multiplier[1][0];\n        long b = matrix[0][0] * multiplier[0][1] + matrix[0][1] * multiplier[1][1];\n        long c = matrix[1][0] * multiplier[0][0] + matrix[1][1] * multiplier[1][0];\n        long d = matrix[1][0] * multiplier[0][1] + matrix[1][1] * multiplier[1][1];\n\n        matrix[0][0] = a;\n        matrix[0][1] = b;\n        matrix[1][0] = c;\n        matrix[1][1] = d;\n    }\n\n    public static void main(String[] args) {\n        int position = 50;\n\n        // Using dynamic programming with optimized space\n        System.out.println(\"Fibonacci number at position \" + position + \" using DP is: \" + findFibonacci(position));\n\n        // Using matrix exponentiation (O(log n))\n        System.out.println(\"Fibonacci number at position \" + position + \" using Matrix Exponentiation is: \" + findFibonacciMatrix(position));\n    }\n}\n",
      "text/plain": [
       "<IPython.core.display.Javascript object>"
      ]
     },
     "metadata": {},
     "output_type": "display_data"
    }
   ],
   "source": [
    "%%js\n",
    "public class FibonacciDynamic {\n",
    "\n",
    "    // Method to calculate Fibonacci using dynamic programming with optimized space\n",
    "    public static long findFibonacci(int pos) {\n",
    "        // Base cases for Fibonacci\n",
    "        if (pos == 0) return 0;\n",
    "        if (pos == 1) return 1;\n",
    "\n",
    "        // Variables to store previous two Fibonacci numbers\n",
    "        long previous1 = 1, previous2 = 0;\n",
    "        long currentFib = 0;\n",
    "\n",
    "        // Iteratively calculate Fibonacci\n",
    "        for (int i = 2; i <= pos; i++) {\n",
    "            currentFib = previous1 + previous2;\n",
    "            previous2 = previous1;\n",
    "            previous1 = currentFib;\n",
    "        }\n",
    "\n",
    "        return currentFib;\n",
    "    }\n",
    "\n",
    "    // Efficient matrix exponentiation approach (O(log n))\n",
    "    public static long findFibonacciMatrix(int pos) {\n",
    "        if (pos == 0) return 0;\n",
    "\n",
    "        long[][] transformationMatrix = { { 1, 1 }, { 1, 0 } };\n",
    "        matrixPower(transformationMatrix, pos - 1);\n",
    "\n",
    "        return transformationMatrix[0][0];\n",
    "    }\n",
    "\n",
    "    // Helper method to perform matrix exponentiation\n",
    "    private static void matrixPower(long[][] matrix, int exp) {\n",
    "        if (exp == 0 || exp == 1) return;\n",
    "\n",
    "        long[][] baseMatrix = { { 1, 1 }, { 1, 0 } };\n",
    "\n",
    "        matrixPower(matrix, exp / 2);\n",
    "        matrixMultiply(matrix, matrix); // Square the matrix\n",
    "\n",
    "        if (exp % 2 != 0) matrixMultiply(matrix, baseMatrix); // Multiply by baseMatrix if exp is odd\n",
    "    }\n",
    "\n",
    "    // Matrix multiplication helper\n",
    "    private static void matrixMultiply(long[][] matrix, long[][] multiplier) {\n",
    "        long a = matrix[0][0] * multiplier[0][0] + matrix[0][1] * multiplier[1][0];\n",
    "        long b = matrix[0][0] * multiplier[0][1] + matrix[0][1] * multiplier[1][1];\n",
    "        long c = matrix[1][0] * multiplier[0][0] + matrix[1][1] * multiplier[1][0];\n",
    "        long d = matrix[1][0] * multiplier[0][1] + matrix[1][1] * multiplier[1][1];\n",
    "\n",
    "        matrix[0][0] = a;\n",
    "        matrix[0][1] = b;\n",
    "        matrix[1][0] = c;\n",
    "        matrix[1][1] = d;\n",
    "    }\n",
    "\n",
    "    public static void main(String[] args) {\n",
    "        int position = 50;\n",
    "\n",
    "        // Using dynamic programming with optimized space\n",
    "        System.out.println(\"Fibonacci number at position \" + position + \" using DP is: \" + findFibonacci(position));\n",
    "\n",
    "        // Using matrix exponentiation (O(log n))\n",
    "        System.out.println(\"Fibonacci number at position \" + position + \" using Matrix Exponentiation is: \" + findFibonacciMatrix(position));\n",
    "    }\n",
    "}\n"
   ]
  },
  {
   "cell_type": "markdown",
   "metadata": {},
   "source": [
    "## Popcorn Hack #1"
   ]
  },
  {
   "cell_type": "code",
   "execution_count": 1,
   "metadata": {},
   "outputs": [
    {
     "name": "stdout",
     "output_type": "stream",
     "text": [
      "Add: 20\n",
      "Subtract: 10\n",
      "Multiply: 75\n",
      "Divide: 3.0\n"
     ]
    }
   ],
   "source": [
    "a, b = 15, 5\n",
    "\n",
    "Add = a + b\n",
    "Subtract = a - b\n",
    "Multiply = a * b\n",
    "Divide = a / b if b != 0 else 'undefined'\n",
    "\n",
    "print(f\"Add: {Add}\")\n",
    "print(f\"Subtract: {Subtract}\")\n",
    "print(f\"Multiply: {Multiply}\")\n",
    "print(f\"Divide: {Divide}\")"
   ]
  },
  {
   "cell_type": "markdown",
   "metadata": {},
   "source": [
    "## Popcorn Hack #2"
   ]
  },
  {
   "cell_type": "code",
   "execution_count": 2,
   "metadata": {},
   "outputs": [
    {
     "name": "stdout",
     "output_type": "stream",
     "text": [
      "The 10th term in the Fibonacci sequence is: 34\n"
     ]
    }
   ],
   "source": [
    "def compute_fib(position):\n",
    "    if position <= 0:\n",
    "        return \"Invalid input\"\n",
    "    elif position == 1:\n",
    "        return 0\n",
    "    elif position == 2:\n",
    "        return 1\n",
    "    else:\n",
    "        return compute_fib(position - 1) + compute_fib(position - 2)\n",
    "\n",
    "term = 10\n",
    "print(f\"The {term}th term in the Fibonacci sequence is: {compute_fib(term)}\")\n"
   ]
  }
 ],
 "metadata": {
  "kernelspec": {
   "display_name": "venv",
   "language": "python",
   "name": "python3"
  },
  "language_info": {
   "codemirror_mode": {
    "name": "ipython",
    "version": 3
   },
   "file_extension": ".py",
   "mimetype": "text/x-python",
   "name": "python",
   "nbconvert_exporter": "python",
   "pygments_lexer": "ipython3",
   "version": "3.10.12"
  }
 },
 "nbformat": 4,
 "nbformat_minor": 2
}
