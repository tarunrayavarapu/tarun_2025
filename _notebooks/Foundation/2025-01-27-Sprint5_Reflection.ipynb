{
 "cells": [
  {
   "cell_type": "raw",
   "metadata": {
    "vscode": {
     "languageId": "raw"
    }
   },
   "source": [
    "---\n",
    "layout: post\n",
    "title: Sprint 5 Overview\n",
    "description:  Reflection\n",
    "type: issues \n",
    "comments: true\n",
    "---"
   ]
  },
  {
   "cell_type": "markdown",
   "metadata": {},
   "source": [
    "## Purpose of Your Group's Program\n",
    "Our group’s travel program serves travelers by offering curated recommendations for activities, attractions, and dining options across five major cities: London, Mumbai, New York, Paris, and Hong Kong. By integrating comprehensive information with user-friendly features, we aim to:\n",
    "\n",
    "- Simplify trip planning.\n",
    "- Provide personalized recommendations.\n",
    "- Enable users to document and share their experiences.\n",
    "- The program combines dynamic content and analytics to enhance usability and engagement.\n",
    "\n",
    "---\n",
    "\n",
    "## Purpose of Your Individual Feature(s)\n",
    "\n",
    "My feature, the **Restaurant Review System**, focuses on providing a platform for users to:\n",
    "\n",
    "1. Explore top restaurants in selected cities, complete with descriptions, images, and user ratings.\n",
    "2. Share feedback by leaving reviews and star ratings.\n",
    "\n",
    "This feature integrates seamlessly with the broader travel program, enhancing the food exploration experience for users.\n",
    "\n",
    "---\n",
    "\n",
    "## List Requests and Database Use\n",
    "\n",
    "### Formatting Response Data (JSON) from API into DOM\n"
   ]
  },
  {
   "cell_type": "code",
   "execution_count": null,
   "metadata": {
    "vscode": {
     "languageId": "javascript"
    }
   },
   "outputs": [],
   "source": [
    "const data = await response.json();\n",
    "\n",
    "        const reviewCard = document.querySelector(`#review-${id}`);\n",
    "        reviewCard.querySelector(\"h2\").textContent = data.food;\n",
    "        reviewCard.querySelector(\"p\").textContent = data.review;\n",
    "        reviewCard.querySelector(\".rating\").textContent = data.rating;\n",
    "\n",
    "        document.getElementById(\"foodInput\").value = \"\";\n",
    "        document.getElementById(\"reviewInput\").value = \"\";\n",
    "        document.getElementById(\"ratingInput\").value = \"\";\n",
    "        const submitButton = document.querySelector(\".form-container button\");\n",
    "        submitButton.textContent = \"Submit Review\";\n",
    "        submitButton.onclick = addReview;\n",
    "\n",
    "    } catch (error) {\n",
    "        console.error(\"Error updating review:\", error);\n",
    "    }\n",
    "}\n"
   ]
  },
  {
   "cell_type": "markdown",
   "metadata": {},
   "source": [
    "1. **Parse API Response**:\n",
    "   - `const data = await response.json();` converts the API's JSON response into a JavaScript object.\n",
    "\n",
    "2. **Identify DOM Element**:\n",
    "   - `document.querySelector(#review-${id});` selects a specific review card by dynamically using the review's ID.\n",
    "\n",
    "3. **Update Content**:\n",
    "   - Properties like `data.food`, `data.review`, and `data.rating` are inserted into the corresponding DOM elements using `textContent`.\n",
    "\n",
    "4. **Reset Input Fields**:\n",
    "   - Clears user input fields (`foodInput`, `reviewInput`, `ratingInput`) after processing the response.\n",
    "\n",
    "5. **Update Button State**:\n",
    "   - Resets the button label and behavior, preparing it for new input.\n",
    "\n",
    "6. **Error Logging**:\n",
    "   - Handles errors with a `catch` block, ensuring robust debugging if something goes wrong.\n",
    "\n",
    "\n",
    "---"
   ]
  },
  {
   "cell_type": "markdown",
   "metadata": {},
   "source": [
    "## Database Queries and Python List Extraction\n",
    "\n"
   ]
  },
  {
   "cell_type": "code",
   "execution_count": null,
   "metadata": {},
   "outputs": [],
   "source": [
    "def post(self):\n",
    "\n",
    "data = request.get_json()\n",
    "\n",
    "if not data or 'food' not in data or 'review' not in data or 'rating' not in data:\n",
    "    return {'message': 'Invalid, data required'}, 400\n",
    "\n",
    "food_review123_api = FoodReview123(\n",
    "    food=data.get('food'),\n",
    "    review=data.get('review'),\n",
    "    rating=data.get('rating'),\n",
    "    # _hashtag=data.get('_hashtag'),\n",
    "    # _user_id=data.get('_user_id'),\n",
    "    # _group_id=data.get('_group_id')\n",
    ")\n",
    "\n",
    "try:\n",
    "    food_review123_api.create()\n",
    "    return jsonify(food_review123_api.read())\n",
    "except Exception as e:\n",
    "    return {'message': f'Error saving review: {e}'}, 500"
   ]
  },
  {
   "cell_type": "markdown",
   "metadata": {},
   "source": [
    "\n",
    "\n",
    "In my post() function in the API, I create a new object of the FoodReview123 class and set its fields (food, review, and rating) using the values from the user's JSON input. These fields correspond to the columns in the database. The create() method, provided by a third-party library, SQLAlchemy, handles the database query (e.g., an INSERT operation) to save the object. Finally, the read() method, also provided by the library, retrieves the saved review, which is returned to the user as a JSON response\n",
    "\n",
    "---"
   ]
  },
  {
   "cell_type": "markdown",
   "metadata": {},
   "source": [
    "## Methods in Class to Work with Columns (Create, Read, Update, Delete)\n"
   ]
  },
  {
   "cell_type": "markdown",
   "metadata": {},
   "source": [
    "### Create (Post)"
   ]
  },
  {
   "cell_type": "code",
   "execution_count": null,
   "metadata": {},
   "outputs": [],
   "source": [
    "        def post(self):\n",
    "\n",
    "            data = request.get_json()\n",
    "\n",
    "            if not data or 'food' not in data or 'review' not in data or 'rating' not in data:\n",
    "                return {'message': 'Invalid, data required'}, 400\n",
    "\n",
    "            food_review123_api = FoodReview123(\n",
    "                food=data.get('food'),\n",
    "                review=data.get('review'),\n",
    "                rating=data.get('rating'),\n",
    "                # _hashtag=data.get('_hashtag'),\n",
    "                # _user_id=data.get('_user_id'),\n",
    "                # _group_id=data.get('_group_id')\n",
    "            )\n",
    "\n",
    "            try:\n",
    "                food_review123_api.create()\n",
    "                return jsonify(food_review123_api.read())\n",
    "            except Exception as e:\n",
    "                return {'message': f'Error saving review: {e}'}, 500"
   ]
  },
  {
   "cell_type": "markdown",
   "metadata": {},
   "source": [
    "This post method creates a new food review by validating input, saving it to the database, and returning the saved review or an error message if something goes wrong."
   ]
  },
  {
   "cell_type": "markdown",
   "metadata": {},
   "source": [
    "### Get (Read)"
   ]
  },
  {
   "cell_type": "code",
   "execution_count": null,
   "metadata": {},
   "outputs": [],
   "source": [
    "def get(self):\n",
    "\n",
    "            review_id = request.args.get('id')\n",
    "\n",
    "            if review_id:\n",
    "\n",
    "                review = FoodReview123.query.get(review_id)\n",
    "                if not review:\n",
    "                    return {'message': 'Review not found'}, 404\n",
    "                return jsonify(review.read())\n",
    "\n",
    "            all_reviews = FoodReview123.query.all()\n",
    "            return jsonify([review.read() for review in all_reviews])"
   ]
  },
  {
   "cell_type": "markdown",
   "metadata": {},
   "source": [
    "\n",
    "This get method retrieves a specific food review by its ID if provided, or all reviews from the database if no ID is given, and returns the results as JSON."
   ]
  },
  {
   "cell_type": "markdown",
   "metadata": {},
   "source": [
    "### Update (Put)"
   ]
  },
  {
   "cell_type": "code",
   "execution_count": null,
   "metadata": {},
   "outputs": [],
   "source": [
    "def put(self):\n",
    "\n",
    "            data = request.get_json()\n",
    "\n",
    "            if not data or 'id' not in data:\n",
    "                return {'message': 'ID is required for updating a review'}, 400\n",
    "\n",
    "            review = FoodReview123.query.get(data['id'])\n",
    "            if not review:\n",
    "                return {'message': 'Review not found'}, 404\n",
    "\n",
    "            try:\n",
    "                review.update(data)\n",
    "                return jsonify(review.read())\n",
    "            except Exception as e:\n",
    "                return {'message': f'Error updating review: {e}'}, 500"
   ]
  },
  {
   "cell_type": "markdown",
   "metadata": {},
   "source": [
    "The put method updates an existing food review in the database based on the provided ID, and returns the updated review or an error message if the review is not found or an exception occurs."
   ]
  },
  {
   "cell_type": "markdown",
   "metadata": {},
   "source": [
    "### Delete (Delete)"
   ]
  },
  {
   "cell_type": "code",
   "execution_count": null,
   "metadata": {},
   "outputs": [],
   "source": [
    "def delete(self):\n",
    "\n",
    "            data = request.get_json()\n",
    "\n",
    "            if not data or 'id' not in data:\n",
    "                return {'message': 'ID is required for deleting a review'}, 400\n",
    "\n",
    "            review = FoodReview123.query.get(data['id'])\n",
    "            if not review:\n",
    "                return {'message': 'Review not found'}, 404\n",
    "\n",
    "            try:\n",
    "                review.delete()\n",
    "                return {'message': 'Review deleted successfully'}, 200\n",
    "            except Exception as e:\n",
    "                return {'message': f'Error deleting review: {e}'}, 500"
   ]
  },
  {
   "cell_type": "markdown",
   "metadata": {},
   "source": [
    "The delete method removes a food review from the database based on the provided ID and returns a success or error message if the review is not found or an exception occurs.\n",
    "\n",
    "---"
   ]
  },
  {
   "cell_type": "markdown",
   "metadata": {},
   "source": [
    "## Algorithmic Code Request"
   ]
  },
  {
   "cell_type": "markdown",
   "metadata": {},
   "source": [
    "### Code Block"
   ]
  },
  {
   "cell_type": "code",
   "execution_count": null,
   "metadata": {},
   "outputs": [],
   "source": [
    "class FoodAPI:\n",
    "    class _CRUD(Resource):\n",
    "        def post(self):\n",
    "\n",
    "            data = request.get_json()\n",
    "\n",
    "            if not data or 'food' not in data or 'review' not in data or 'rating' not in data:\n",
    "                return {'message': 'Invalid, data required'}, 400\n",
    "\n",
    "            food_review123_api = FoodReview123(\n",
    "                food=data.get('food'),\n",
    "                review=data.get('review'),\n",
    "                rating=data.get('rating'),\n",
    "                # _hashtag=data.get('_hashtag'),\n",
    "                # _user_id=data.get('_user_id'),\n",
    "                # _group_id=data.get('_group_id')\n",
    "            )\n",
    "\n",
    "            try:\n",
    "                food_review123_api.create()\n",
    "                return jsonify(food_review123_api.read())\n",
    "            except Exception as e:\n",
    "                return {'message': f'Error saving review: {e}'}, 500\n",
    "\n",
    "        def get(self):\n",
    "\n",
    "            review_id = request.args.get('id')\n",
    "\n",
    "            if review_id:\n",
    "\n",
    "                review = FoodReview123.query.get(review_id)\n",
    "                if not review:\n",
    "                    return {'message': 'Review not found'}, 404\n",
    "                return jsonify(review.read())\n",
    "\n",
    "            all_reviews = FoodReview123.query.all()\n",
    "            return jsonify([review.read() for review in all_reviews])\n",
    "\n",
    "        def put(self):\n",
    "\n",
    "            data = request.get_json()\n",
    "\n",
    "            if not data or 'id' not in data:\n",
    "                return {'message': 'ID is required for updating a review'}, 400\n",
    "\n",
    "            review = FoodReview123.query.get(data['id'])\n",
    "            if not review:\n",
    "                return {'message': 'Review not found'}, 404\n",
    "\n",
    "            try:\n",
    "                review.update(data)\n",
    "                return jsonify(review.read())\n",
    "            except Exception as e:\n",
    "                return {'message': f'Error updating review: {e}'}, 500\n",
    "\n",
    "        def delete(self):\n",
    "\n",
    "            data = request.get_json()\n",
    "\n",
    "            if not data or 'id' not in data:\n",
    "                return {'message': 'ID is required for deleting a review'}, 400\n",
    "\n",
    "            review = FoodReview123.query.get(data['id'])\n",
    "            if not review:\n",
    "                return {'message': 'Review not found'}, 404\n",
    "\n",
    "            try:\n",
    "                review.delete()\n",
    "                return {'message': 'Review deleted successfully'}, 200\n",
    "            except Exception as e:\n",
    "                return {'message': f'Error deleting review: {e}'}, 500\n",
    "\n",
    "    api.add_resource(_CRUD, '/food_review123_api')"
   ]
  },
  {
   "cell_type": "markdown",
   "metadata": {},
   "source": [
    "### Entire Food Review Class\n",
    "\n",
    "The **FoodAPI** class defines a resource for managing food reviews through four CRUD operations:\n",
    "\n",
    "- **POST (post method)**: Creates a new food review by extracting data from the request, validating it, and saving it to the database. If successful, the new review is returned; otherwise, an error message is returned if required data is missing or if there's an issue saving the review.\n",
    "\n",
    "- **GET (get method)**: Retrieves food reviews. If an id is provided in the request, it fetches a specific review by that ID; if not, it returns all reviews in the database.\n",
    "\n",
    "- **PUT (put method)**: Updates an existing food review based on the provided ID. If the review exists, it attempts to update it with the provided data and returns the updated review; if any errors occur, an error message is returned.\n",
    "\n",
    "- **DELETE (delete method)**: Deletes a food review based on the provided ID. If the review exists, it is removed from the database; if not, an error message is returned.\n",
    "\n",
    "The class is a Flask Resource that adds these methods to the API under the `/food_review123_api` endpoint, enabling interaction with food review data using HTTP requests.\n"
   ]
  },
  {
   "cell_type": "markdown",
   "metadata": {},
   "source": [
    "## Call to Algorithm Request"
   ]
  },
  {
   "cell_type": "code",
   "execution_count": null,
   "metadata": {
    "vscode": {
     "languageId": "javascript"
    }
   },
   "outputs": [],
   "source": [
    "window.addReview = async function addReview() {\n",
    "    const food = document.getElementById(\"foodInput\").value;\n",
    "    const review = document.getElementById(\"reviewInput\").value;\n",
    "    const rating = parseInt(document.getElementById(\"ratingInput\").value);\n",
    "\n",
    "    if (!food || !review || isNaN(rating) || rating < 1 || rating > 5) {\n",
    "        alert(\"Please fill in all fields correctly.\");\n",
    "        return;\n",
    "    }\n",
    "\n",
    "    const postData = {\n",
    "        food: food,\n",
    "        review: review,\n",
    "        rating: rating,\n",
    "    };\n",
    "\n",
    "    try {\n",
    "        const response = await fetch(\"http://127.0.0.1:8887/api/food_review123_api\", {\n",
    "            method: \"POST\",\n",
    "            headers: {\n",
    "                \"Content-Type\": \"application/json\",\n",
    "            },\n",
    "            body: JSON.stringify(postData),\n",
    "        });\n",
    "\n",
    "        if (!response.ok) {\n",
    "            throw new Error(\"Failed to add review: \" + response.statusText);\n",
    "        }\n",
    "\n",
    "        const data = await response.json();\n",
    "        const body = document.getElementById(\"main-content\");\n",
    "        createCard(body, data);\n",
    "        updateReviewCount(1);\n",
    "\n",
    "        document.getElementById(\"foodInput\").value = \"\";\n",
    "        document.getElementById(\"reviewInput\").value = \"\";\n",
    "        document.getElementById(\"ratingInput\").value = \"\";\n",
    "    } catch (error) {\n",
    "        console.error(\"Error adding review:\", error);\n",
    "    }\n",
    "};"
   ]
  },
  {
   "cell_type": "markdown",
   "metadata": {},
   "source": [
    "### Call/Request"
   ]
  },
  {
   "cell_type": "code",
   "execution_count": null,
   "metadata": {
    "vscode": {
     "languageId": "javascript"
    }
   },
   "outputs": [],
   "source": [
    "const response = await fetch(\"http://127.0.0.1:8887/api/food_review123_api\", {\n",
    "    method: \"POST\",\n",
    "    headers: {\n",
    "        \"Content-Type\": \"application/json\",\n",
    "    },\n",
    "    body: JSON.stringify(postData),\n",
    "});"
   ]
  },
  {
   "cell_type": "markdown",
   "metadata": {},
   "source": [
    "This part of the code is making the request to the API endpoint `http://127.0.0.1:8887/api/food_review123_api`, where:\n",
    "\n",
    "- The **method** is `POST`, meaning you're creating a new resource (a food review).\n",
    "- The **headers** specify that the data being sent is in JSON format (`Content-Type: application/json`).\n",
    "- The **body** contains the data (`food`, `review`, and `rating`) which is sent as a JSON object using `JSON.stringify(postData)`.\n",
    "- The request is **asynchronous** (thanks to `async/await`), meaning the code will wait for the response before continuing.\n"
   ]
  },
  {
   "cell_type": "markdown",
   "metadata": {},
   "source": [
    "### Return/Response"
   ]
  },
  {
   "cell_type": "markdown",
   "metadata": {},
   "source": [
    "The first check `if (!response.ok)` verifies whether the response was successful. If `response.ok` is false (i.e., the HTTP status code is not in the range of 200-299), an error is thrown with the message `\"Failed to add review\"` along with the status text from the server (`response.statusText`).\n",
    "\n",
    "If the request is successful, the response is then parsed using `await response.json()`. This converts the JSON response into a JavaScript object, which is stored in the `data` variable. You can then use this `data` to update the user interface or perform other operations.\n",
    "\n",
    "---"
   ]
  }
 ],
 "metadata": {
  "kernelspec": {
   "display_name": "venv",
   "language": "python",
   "name": "python3"
  },
  "language_info": {
   "name": "python",
   "version": "3.10.12"
  }
 },
 "nbformat": 4,
 "nbformat_minor": 2
}
