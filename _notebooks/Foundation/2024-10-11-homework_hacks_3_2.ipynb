{
 "cells": [
  {
   "cell_type": "markdown",
   "metadata": {},
   "source": [
    "## Homework Hack #1"
   ]
  },
  {
   "cell_type": "code",
   "execution_count": 6,
   "metadata": {},
   "outputs": [
    {
     "name": "stdout",
     "output_type": "stream",
     "text": [
      "Profile: {'Tarun': 'Tarun', 'age': 15, 'San Diego': 'San Diego', 'favorite_color': 'Blue'}\n"
     ]
    }
   ],
   "source": [
    "profile = {\n",
    "    \"Tarun\": \"Tarun\",\n",
    "    \"age\": 15,\n",
    "    \"San Diego\": \"San Diego\",\n",
    "    \"favorite_color\": \"Blue\"\n",
    "}\n",
    "print(\"Profile:\", profile)"
   ]
  },
  {
   "cell_type": "markdown",
   "metadata": {},
   "source": [
    "# Homework Hack #2"
   ]
  },
  {
   "cell_type": "markdown",
   "metadata": {},
   "source": []
  },
  {
   "cell_type": "code",
   "execution_count": 7,
   "metadata": {},
   "outputs": [
    {
     "name": "stdout",
     "output_type": "stream",
     "text": [
      "Hobbies: ['Soccer', 'Reading', 'Videogames']\n"
     ]
    }
   ],
   "source": [
    "hobbies = [\"Soccer\", \"Reading\", \"Videogames\"]\n",
    "print(\"Hobbies:\", hobbies)"
   ]
  },
  {
   "cell_type": "markdown",
   "metadata": {},
   "source": [
    "# Homework Hack #3"
   ]
  },
  {
   "cell_type": "code",
   "execution_count": 8,
   "metadata": {},
   "outputs": [
    {
     "name": "stdout",
     "output_type": "stream",
     "text": [
      "Updated Profile: {'Tarun': 'Tarun', 'age': 15, 'San Diego': 'San Diego', 'favorite_color': 'Blue', 'hobbies': ['Soccer', 'Reading', 'Videogames']}\n"
     ]
    }
   ],
   "source": [
    "profile[\"hobbies\"] = hobbies\n",
    "print(\"Updated Profile:\", profile)"
   ]
  },
  {
   "cell_type": "markdown",
   "metadata": {},
   "source": [
    "# Homework Hack #4"
   ]
  },
  {
   "cell_type": "code",
   "execution_count": 9,
   "metadata": {},
   "outputs": [
    {
     "name": "stdout",
     "output_type": "stream",
     "text": [
      "Is Soccer available today? True\n"
     ]
    }
   ],
   "source": [
    "has_hobby = True  # or False\n",
    "print(f\"Is {hobbies[0]} available today? {has_hobby}\")"
   ]
  },
  {
   "cell_type": "markdown",
   "metadata": {},
   "source": [
    "# Homework Hack #5"
   ]
  },
  {
   "cell_type": "code",
   "execution_count": 10,
   "metadata": {},
   "outputs": [
    {
     "name": "stdout",
     "output_type": "stream",
     "text": [
      "I have 3 hobbies.\n"
     ]
    }
   ],
   "source": [
    "total_hobbies = len(hobbies)\n",
    "print(f\"I have {total_hobbies} hobbies.\")"
   ]
  },
  {
   "cell_type": "markdown",
   "metadata": {},
   "source": [
    "# Homework Hack #6"
   ]
  },
  {
   "cell_type": "code",
   "execution_count": 11,
   "metadata": {},
   "outputs": [
    {
     "name": "stdout",
     "output_type": "stream",
     "text": [
      "Favorite Hobbies: ('Soccer', 'Videogames')\n"
     ]
    }
   ],
   "source": [
    "favorite_hobbies = (\"Soccer\", \"Videogames\")\n",
    "print(\"Favorite Hobbies:\", favorite_hobbies)"
   ]
  },
  {
   "cell_type": "markdown",
   "metadata": {},
   "source": [
    "# Homework Hack #7"
   ]
  },
  {
   "cell_type": "code",
   "execution_count": 12,
   "metadata": {},
   "outputs": [
    {
     "name": "stdout",
     "output_type": "stream",
     "text": [
      "Skills: {'Videos', 'Math', 'Drawing'}\n"
     ]
    }
   ],
   "source": [
    "skills = {\"Math\", \"Drawing\", \"Videos\"}\n",
    "print(\"Skills:\", skills)"
   ]
  },
  {
   "cell_type": "markdown",
   "metadata": {},
   "source": [
    "# Homework Hack #8"
   ]
  },
  {
   "cell_type": "code",
   "execution_count": 16,
   "metadata": {},
   "outputs": [
    {
     "name": "stdout",
     "output_type": "stream",
     "text": [
      "New Skill: None\n"
     ]
    }
   ],
   "source": [
    "new_skill = None\n",
    "print(\"New Skill:\", new_skill)"
   ]
  },
  {
   "cell_type": "markdown",
   "metadata": {},
   "source": [
    "# Homework Hack #9"
   ]
  },
  {
   "cell_type": "code",
   "execution_count": 18,
   "metadata": {},
   "outputs": [
    {
     "name": "stdout",
     "output_type": "stream",
     "text": [
      "cost to pursue hobbies and skills: $45.00\n"
     ]
    }
   ],
   "source": [
    "total_cost = float(total_hobbies * 5 + len(skills) * 10)\n",
    "print(f\"cost to pursue hobbies and skills: ${total_cost:.2f}\")"
   ]
  },
  {
   "cell_type": "markdown",
   "metadata": {},
   "source": [
    "## Popcorn Hack #1"
   ]
  },
  {
   "cell_type": "code",
   "execution_count": 1,
   "metadata": {},
   "outputs": [
    {
     "name": "stdout",
     "output_type": "stream",
     "text": [
      "3\n"
     ]
    }
   ],
   "source": [
    "bestDictionaryEver = {\"food\": 1, \"dogs\": 2, \"cats\": 3}\n",
    "print(bestDictionaryEver[\"cats\"]) "
   ]
  },
  {
   "cell_type": "markdown",
   "metadata": {},
   "source": [
    "## Popcorn Hack #2"
   ]
  },
  {
   "cell_type": "code",
   "execution_count": 2,
   "metadata": {
    "vscode": {
     "languageId": "javascript"
    }
   },
   "outputs": [],
   "source": [
    "firstNumber = int(input(\"Please Enter the First Number Here: \"))\n",
    "secondNumber = int(input(\"Please Enter the Second Number Here: \"))\n",
    "mathFunction = int(input(\"Please Enter the function here: \")) \n",
    "\n",
    "if mathFunction == \"+\":\n",
    "    print(firstNumber + secondNumber)\n",
    "elif mathFunction == \"-\":\n",
    "    print(firstNumber - secondNumber)\n",
    "elif mathFunction == \"*\":\n",
    "    print(firstNumber * secondNumber)\n",
    "elif mathFunction == \"/\":\n",
    "    print(firstNumber / secondNumber)"
   ]
  },
  {
   "cell_type": "markdown",
   "metadata": {},
   "source": [
    "## Popcorn Hack #3"
   ]
  },
  {
   "cell_type": "code",
   "execution_count": 3,
   "metadata": {},
   "outputs": [
    {
     "name": "stdout",
     "output_type": "stream",
     "text": [
      "['hihihi', 'taruntaruntarun', 'dogdogdog']\n"
     ]
    }
   ],
   "source": [
    "def repeat_strings_in_list(strings, n): \n",
    "    result = [] \n",
    "    for string in strings:\n",
    "        result.append(string * n)  \n",
    "    return result\n",
    "\n",
    "string_list = [\"hi\", \"tarun\", \"dog\"]\n",
    "print(repeat_strings_in_list(string_list, 3))"
   ]
  },
  {
   "cell_type": "markdown",
   "metadata": {},
   "source": [
    "## Popcorn Hack #4"
   ]
  },
  {
   "cell_type": "code",
   "execution_count": 5,
   "metadata": {},
   "outputs": [
    {
     "name": "stdout",
     "output_type": "stream",
     "text": [
      "True\n",
      "False\n",
      "True\n",
      "False\n"
     ]
    }
   ],
   "source": [
    "def sets_have_common_elements(set1, set2):\n",
    "    for elem in set1:\n",
    "        if elem in set2:\n",
    "            return True\n",
    "    return False\n",
    "print(sets_have_common_elements({1, 2, 3}, {3, 4}))  # Output: True\n",
    "print(sets_have_common_elements({1, 2, 3}, {4, 5}))  # Output: False\n",
    "print(sets_have_common_elements({1, 2}, {2}))         # Output: False\n",
    "print(sets_have_common_elements({}, {}))             # Output: False"
   ]
  }
 ],
 "metadata": {
  "kernelspec": {
   "display_name": "venv",
   "language": "python",
   "name": "python3"
  },
  "language_info": {
   "codemirror_mode": {
    "name": "ipython",
    "version": 3
   },
   "file_extension": ".py",
   "mimetype": "text/x-python",
   "name": "python",
   "nbconvert_exporter": "python",
   "pygments_lexer": "ipython3",
   "version": "3.10.12"
  }
 },
 "nbformat": 4,
 "nbformat_minor": 2
}
