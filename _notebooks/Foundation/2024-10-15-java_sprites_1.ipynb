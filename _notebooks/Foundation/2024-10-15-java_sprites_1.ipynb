{
 "cells": [
  {
   "cell_type": "markdown",
   "metadata": {},
   "source": [
    "## Hack #1"
   ]
  },
  {
   "cell_type": "code",
   "execution_count": 1,
   "metadata": {},
   "outputs": [
    {
     "name": "stdout",
     "output_type": "stream",
     "text": [
      "Hello! How can I help you today?\n",
      "1. What is this place?\n",
      "2. Can you help me?\n",
      "3. Goodbye!\n",
      "This is a magical forest, filled with wonders.\n",
      "1. Can you tell me more?\n",
      "2. What can I find here?\n",
      "3. Goodbye!\n",
      "The forest is full of surprises. Keep your eyes open!\n",
      "This is a magical forest, filled with wonders.\n",
      "1. Can you tell me more?\n",
      "2. What can I find here?\n",
      "3. Goodbye!\n",
      "Goodbye! Safe travels!\n"
     ]
    }
   ],
   "source": [
    "\n",
    "npc_dialog = [\n",
    "    [\"Hello! How can I help you today?\", \"1. What is this place?\", \"2. Can you help me?\", \"3. Goodbye!\"],\n",
    "    [\"This is a magical forest, filled with wonders.\", \"1. Can you tell me more?\", \"2. What can I find here?\", \"3. Goodbye!\"],\n",
    "    [\"Sure! I can guide you through the forest.\", \"1. What should I look for?\", \"2. What if I get lost?\", \"3. Goodbye!\"],\n",
    "    [\"It's a peaceful place where you can find many creatures.\", \"1. Are there any dangers?\", \"2. What should I do here?\", \"3. Goodbye!\"]\n",
    "]\n",
    "\n",
    "\n",
    "def display_dialog(dialog):\n",
    "    for line in dialog:\n",
    "        print(line)\n",
    "\n",
    "\n",
    "def interact_with_npc():\n",
    "    current_dialog_index = 0\n",
    "    \n",
    "    while True:\n",
    "        display_dialog(npc_dialog[current_dialog_index])\n",
    "        \n",
    "        \n",
    "        choice = input(\"Choose an option (1-3): \")\n",
    "        \n",
    "        \n",
    "        if choice == '1':\n",
    "            current_dialog_index += 1  \n",
    "            if current_dialog_index >= len(npc_dialog):  \n",
    "                print(\"Goodbye! Safe travels!\")\n",
    "                break\n",
    "        elif choice == '2':\n",
    "            print(\"The forest is full of surprises. Keep your eyes open!\")\n",
    "        elif choice == '3':\n",
    "            print(\"Goodbye! Safe travels!\")\n",
    "            break\n",
    "        else:\n",
    "            print(\"Invalid choice! Please select a valid option (1-3).\")\n",
    "\n",
    "\n",
    "interact_with_npc()\n"
   ]
  },
  {
   "cell_type": "markdown",
   "metadata": {},
   "source": [
    "# Hack #2"
   ]
  },
  {
   "cell_type": "code",
   "execution_count": 3,
   "metadata": {},
   "outputs": [
    {
     "name": "stdout",
     "output_type": "stream",
     "text": [
      "Displaying Individual Sprites:\n",
      "Displaying: -\n",
      "Displaying: /\n",
      "Displaying: \\\n",
      "\n",
      "Displaying: |\n",
      "Displaying: +\n",
      "Displaying: *\n",
      "\n",
      "Displaying: #\n",
      "Displaying: @\n",
      "Displaying: &\n",
      "\n",
      "Animating Sprites:\n",
      "Displaying: -\n",
      "Displaying: |\n",
      "Displaying: #\n",
      "---\n",
      "Displaying: /\n",
      "Displaying: +\n",
      "Displaying: @\n",
      "---\n",
      "Displaying: \\\n",
      "Displaying: *\n",
      "Displaying: &\n",
      "---\n"
     ]
    }
   ],
   "source": [
    "# Sprite sheet represented as a 2D array (3 rows x 3 columns)\n",
    "# Each element represents a sprite, now using keyboard symbols\n",
    "sprite_sheet = [\n",
    "    [\"-\", \"/\", \"\\\\\"],\n",
    "    [\"|\", \"+\", \"*\"],\n",
    "    [\"#\", \"@\", \"&\"]\n",
    "]\n",
    "\n",
    "# Function to display a specific sprite\n",
    "def display_sprite(row, col):\n",
    "    try:\n",
    "        sprite = sprite_sheet[row][col]\n",
    "        print(f\"Displaying: {sprite}\")  # Simulating the display of a sprite with a symbol\n",
    "    except IndexError:\n",
    "        print(\"Invalid sprite position!\")\n",
    "\n",
    "# Function to display all sprites in the sprite sheet\n",
    "def display_all_sprites():\n",
    "    for row in range(len(sprite_sheet)):\n",
    "        for col in range(len(sprite_sheet[row])):\n",
    "            display_sprite(row, col)\n",
    "        print()  # Add a new line for better readability\n",
    "\n",
    "# Function to simulate sprite animation\n",
    "def animate_sprites():\n",
    "    print(\"Animating Sprites:\")\n",
    "    for col in range(len(sprite_sheet[0])):  # Loop through frames\n",
    "        for row in range(len(sprite_sheet)):\n",
    "            display_sprite(row, col)\n",
    "        print(\"---\")  # Separator for frames\n",
    "\n",
    "# Display individual sprites\n",
    "print(\"Displaying Individual Sprites:\")\n",
    "display_all_sprites()\n",
    "\n",
    "# Simulate sprite animation\n",
    "animate_sprites()\n"
   ]
  }
 ],
 "metadata": {
  "kernelspec": {
   "display_name": "venv",
   "language": "python",
   "name": "python3"
  },
  "language_info": {
   "codemirror_mode": {
    "name": "ipython",
    "version": 3
   },
   "file_extension": ".py",
   "mimetype": "text/x-python",
   "name": "python",
   "nbconvert_exporter": "python",
   "pygments_lexer": "ipython3",
   "version": "3.10.12"
  }
 },
 "nbformat": 4,
 "nbformat_minor": 2
}
