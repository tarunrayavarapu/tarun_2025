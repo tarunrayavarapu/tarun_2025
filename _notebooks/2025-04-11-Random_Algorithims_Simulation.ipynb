{
 "cells": [
  {
   "cell_type": "raw",
   "metadata": {
    "vscode": {
     "languageId": "raw"
    }
   },
   "source": [
    "---\n",
    "layout: post\n",
    "title: Random Algorithms Simulation Games\n",
    "description:  Reflection\n",
    "type: issues \n",
    "comments: true\n",
    "---"
   ]
  },
  {
   "cell_type": "markdown",
   "metadata": {},
   "source": [
    "## Popcorn Hack # 1"
   ]
  },
  {
   "cell_type": "code",
   "execution_count": 1,
   "metadata": {},
   "outputs": [
    {
     "name": "stdout",
     "output_type": "stream",
     "text": [
      "Dice roll: 5\n"
     ]
    }
   ],
   "source": [
    "import random\n",
    "\n",
    "def roll_dice():\n",
    "    # Simulate a fair 6-sided dice roll\n",
    "    return random.randint(1, 6)\n",
    "\n",
    "# Uncomment to test:\n",
    "print(\"Dice roll:\", roll_dice())\n"
   ]
  },
  {
   "cell_type": "markdown",
   "metadata": {},
   "source": [
    "## Popcorn Hack #2"
   ]
  },
  {
   "cell_type": "code",
   "execution_count": 2,
   "metadata": {},
   "outputs": [
    {
     "name": "stdout",
     "output_type": "stream",
     "text": [
      "Color: Blue\n",
      "Color: Blue\n",
      "Color: Purple\n",
      "Color: Red\n",
      "Color: Green\n",
      "Color: Red\n",
      "Color: Green\n",
      "Color: Red\n",
      "Color: Blue\n",
      "Color: Blue\n"
     ]
    }
   ],
   "source": [
    "import random\n",
    "\n",
    "def biased_color():\n",
    "    colors = [\"Red\", \"Blue\", \"Green\", \"Yellow\", \"Purple\"]\n",
    "    probabilities = [0.5, 0.3, 0.066, 0.067, 0.067]  # Adds up to ~1\n",
    "\n",
    "    return random.choices(colors, probabilities)[0]\n",
    "\n",
    "# Print 10 biased random colors\n",
    "for _ in range(10):\n",
    "    print(\"Color:\", biased_color())\n"
   ]
  },
  {
   "cell_type": "markdown",
   "metadata": {},
   "source": [
    "## Homework Hack "
   ]
  },
  {
   "cell_type": "code",
   "execution_count": 3,
   "metadata": {},
   "outputs": [
    {
     "name": "stdout",
     "output_type": "stream",
     "text": [
      "Round 1: Player 1 -> tails, Player 2 -> heads\n",
      "Round 2: Player 1 -> tails, Player 2 -> heads\n",
      "Round 3: Player 1 -> tails, Player 2 -> tails\n",
      "Round 4: Player 1 -> heads, Player 2 -> tails\n",
      "Round 5: Player 1 -> tails, Player 2 -> tails\n",
      "Round 6: Player 1 -> heads, Player 2 -> heads\n",
      "🎉 Player 2 wins after 6 rounds!\n"
     ]
    }
   ],
   "source": [
    "import random\n",
    "\n",
    "def coin_flip_game():\n",
    "    player1_heads = 0\n",
    "    player2_heads = 0\n",
    "    rounds = 0\n",
    "\n",
    "    while player1_heads < 3 and player2_heads < 3:\n",
    "        rounds += 1\n",
    "\n",
    "        # Each player flips a coin\n",
    "        p1_flip = random.choice([\"heads\", \"tails\"])\n",
    "        p2_flip = random.choice([\"heads\", \"tails\"])\n",
    "\n",
    "        print(f\"Round {rounds}: Player 1 -> {p1_flip}, Player 2 -> {p2_flip}\")\n",
    "\n",
    "        # Update head counts\n",
    "        if p1_flip == \"heads\":\n",
    "            player1_heads += 1\n",
    "        if p2_flip == \"heads\":\n",
    "            player2_heads += 1\n",
    "\n",
    "    # Determine winner\n",
    "    if player1_heads == 3:\n",
    "        print(f\"🎉 Player 1 wins after {rounds} rounds!\")\n",
    "    else:\n",
    "        print(f\"🎉 Player 2 wins after {rounds} rounds!\")\n",
    "\n",
    "# Run the game\n",
    "coin_flip_game()\n"
   ]
  }
 ],
 "metadata": {
  "kernelspec": {
   "display_name": "venv",
   "language": "python",
   "name": "python3"
  },
  "language_info": {
   "codemirror_mode": {
    "name": "ipython",
    "version": 3
   },
   "file_extension": ".py",
   "mimetype": "text/x-python",
   "name": "python",
   "nbconvert_exporter": "python",
   "pygments_lexer": "ipython3",
   "version": "3.13.2"
  }
 },
 "nbformat": 4,
 "nbformat_minor": 2
}
