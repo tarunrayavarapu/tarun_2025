{
 "cells": [
  {
   "cell_type": "raw",
   "metadata": {
    "vscode": {
     "languageId": "raw"
    }
   },
   "source": [
    "---\n",
    "layout: post\n",
    "title: Extra Credit\n",
    "description:  Reflection\n",
    "type: issues \n",
    "comments: true\n",
    "---"
   ]
  },
  {
   "cell_type": "markdown",
   "metadata": {},
   "source": [
    "# What I Learned from the Cybersecurity Panel\n",
    "\n",
    "\n",
    "---\n",
    "\n",
    "## My Experience\n",
    "\n",
    "Recently, I attended a cybersecurity panel where three professionals shared their experiences in the field. Before this, I knew cybersecurity was important, but I didn’t realize how many different roles there were or how powerful small actions could be.\n",
    "\n",
    "The speakers were **David Tomasz**, **Victor Nzeata**, and **Tricia Mercer**. Each one had a completely different background, but all of them helped me see how much impact you can have by being curious, alert, and responsible in tech.\n",
    "\n",
    "---\n",
    "\n",
    "## David Tomasz – Ethical Hacker\n",
    "\n",
    "- David works in criminal identification and is known as one of the **best ethical hackers** out there.\n",
    "- He shared how he **didn’t even want to go into computers or cybersecurity**, but stuck with it—and ended up loving it.\n",
    "- He now uses hacking skills to **track down cybercriminals** and protect people from online threats.\n",
    "\n",
    "**What I learned**:  \n",
    "You don’t have to love something right away—sometimes sticking with it can lead to discovering your passion.  \n",
    "Hacking doesn’t have to be bad—it can be used to do good and protect people.\n",
    "\n",
    "---\n",
    "\n",
    "## Victor Nzeata – Data Security Specialist\n",
    "\n",
    "- Victor focuses on stopping hackers from getting company info.\n",
    "- He made a **PowerShell script** that scanned for **old, leftover data** and helped remove it so it couldn’t be used against them.\n",
    "- He explained that **even old data can be dangerous** if it's still accessible.\n",
    "\n",
    "**What I learned**:  \n",
    "Outdated or forgotten data can be a huge risk—just because you’re not using it doesn’t mean someone else won’t.  \n",
    "Small scripts or tools can make a big difference in defending systems.\n",
    "\n",
    "---\n",
    "\n",
    "## Tricia Mercer – Internal Threat Tracker\n",
    "\n",
    "- Tricia shared a story where someone who was on leave still had access to their company’s data.\n",
    "- She **investigated and caught them stealing data** and selling it to competitors.\n",
    "- She was inspired to go into cybersecurity after reading a book about tracking spies and hearing her mom say, *“computers are the future.”*\n",
    "\n",
    "**What I learned**:  \n",
    "Just because someone works at a company doesn’t mean they’re always trustworthy.  \n",
    "It’s important to stay **curious** and speak up if something seems off.  \n",
    "Real-world cyber problems sometimes feel like spy movies—but they’re real and serious.\n",
    "\n",
    "---\n",
    "\n",
    "## My Reflections\n",
    "\n",
    "This panel honestly changed the way I see cybersecurity. Before, I thought it was just about writing code and protecting passwords. But now I understand it’s about:\n",
    "\n",
    "- Being **curious and observant**\n",
    "- Understanding that **anyone can be a threat**\n",
    "- Using your skills to **help and protect others**\n",
    "- Realizing that **small things** (like old files or one person’s access) can create big problems\n",
    "\n",
    "---\n",
    "\n",
    "## Moving Forward\n",
    "\n",
    "After hearing from David, Victor, and Tricia, I’m more interested in exploring cybersecurity. I want to:\n",
    "\n",
    "- Learn more about how ethical hacking works\n",
    "- Try writing my own scripts to solve small problems\n",
    "- Pay more attention to what I post and store online\n",
    "\n",
    "---\n",
    "\n",
    "This panel helped me realize that **cybersecurity isn’t just a job—it’s a responsibility**. And anyone can make a difference by being smart, careful, and curious.\n"
   ]
  },
  {
   "cell_type": "markdown",
   "metadata": {},
   "source": [
    "<img src=\"https://i.imgur.com/DHS0Asl.jpeg\" width=\"500\"/>\n"
   ]
  },
  {
   "cell_type": "markdown",
   "metadata": {},
   "source": [
    "<img src=\"https://i.imgur.com/gL5N5O8.jpeg\" width=\"500\"/>\n",
    "\n"
   ]
  },
  {
   "cell_type": "markdown",
   "metadata": {},
   "source": [
    "<img src=\"https://i.imgur.com/BgaxCun.png\" width=\"500\"/>\n"
   ]
  }
 ],
 "metadata": {
  "language_info": {
   "name": "python"
  }
 },
 "nbformat": 4,
 "nbformat_minor": 2
}
