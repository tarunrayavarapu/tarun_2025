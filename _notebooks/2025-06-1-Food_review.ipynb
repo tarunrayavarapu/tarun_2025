{
 "cells": [
  {
   "cell_type": "raw",
   "metadata": {
    "vscode": {
     "languageId": "raw"
    }
   },
   "source": [
    "---\n",
    "layout: post\n",
    "title: Food Review Feature\n",
    "description: Food Review feature reflection\n",
    "type: issues\n",
    "comments: true\n",
    "---"
   ]
  },
  {
   "cell_type": "markdown",
   "metadata": {},
   "source": [
    "## Feature Reflection: Building a Food Review System\n",
    "\n",
    "### Overview\n",
    "\n",
    "- **Purpose**: Allow users to leave reviews and ratings for restaurants.\n",
    "- **Integration**: My first attempt at full-stack development.\n",
    "- **Output**: Reviews and ratings displayed dynamically on the frontend.\n",
    "\n",
    "#### Challenges Faced:\n",
    "- **Starting from Scratch**: Coming off a bad project in the previous trimester, I had no prior experience with frontend, backend, or full-stack development.\n",
    "- **Learning Curve**: I had to teach myself everything from setting up a backend API to integrating it with the frontend.\n",
    "- **Unpolished Feature**: While the feature works, it lacks the polish of a more experienced developer's implementation.\n",
    "\n",
    "---"
   ]
  },
  {
   "cell_type": "markdown",
   "metadata": {},
   "source": [
    "### The System\n",
    "\n",
    "- **Frontend**: Simple HTML and JavaScript for user interaction.\n",
    "- **Backend**: Flask API to handle review submissions and retrievals.\n",
    "- **Database**: Stores reviews and ratings for each restaurant.\n",
    "\n",
    "#### Workflow:\n",
    "```\n",
    "User Input (Review + Rating) --> Frontend --> API Gateway --> Flask App -->\n",
    "  - Store in Database\n",
    "  - Retrieve and Display Reviews\n",
    "```\n",
    "\n",
    "#### Key Features:\n",
    "- **User Review Submission**:\n",
    "  - Users can leave a review and a star rating (1–5) for a restaurant.\n",
    "- **Review Display**:\n",
    "  - Reviews are displayed dynamically on the frontend, allowing users to see what others have said.\n",
    "- **Backend Integration**:\n",
    "  - Reviews are stored in a database and retrieved via API endpoints.\n",
    "\n",
    "---"
   ]
  },
  {
   "cell_type": "markdown",
   "metadata": {},
   "source": [
    "### Backend API Implementation\n",
    "\n",
    "- **Framework**: Flask with `flask_restful`.\n",
    "- **Endpoints**:\n",
    "  - `/food_review_12345_api` (POST): Accepts user reviews and ratings.\n",
    "  - `/food_review_12345_api` (GET): Retrieves all reviews or a specific review by ID.\n",
    "\n",
    "#### Example Code:\n",
    "```python\n",
    "from flask import Blueprint, request, jsonify, g\n",
    "from flask_restful import Api, Resource\n",
    "from api.jwt_authorize import token_required\n",
    "from model.food_review12345 import FoodReview12345\n",
    "\n",
    "food_review_12345_api = Blueprint('food_review_12345_api', __name__, url_prefix='/api')\n",
    "api = Api(food_review_12345_api)\n",
    "\n",
    "class FoodReviewAPI:\n",
    "    class _CRUD(Resource):\n",
    "        @token_required()\n",
    "        def post(self):\n",
    "            current_user = g.current_user\n",
    "            data = request.get_json()\n",
    "            if not data or 'food' not in data or 'review' not in data or 'rating' not in data:\n",
    "                return {'message': 'Invalid, data required'}, 400\n",
    "            food_review = FoodReview12345(\n",
    "                food=data.get('food'),\n",
    "                review=data.get('review'),\n",
    "                rating=data.get('rating'),\n",
    "                user_id=current_user.id\n",
    "            )\n",
    "            try:\n",
    "                food_review.create()\n",
    "                return jsonify(food_review.read())\n",
    "            except Exception as e:\n",
    "                return {'message': f'Error saving review: {e}'}, 500\n",
    "    api.add_resource(_CRUD, '/food_review_12345_api')\n",
    "```\n",
    "\n",
    "---"
   ]
  },
  {
   "cell_type": "markdown",
   "metadata": {},
   "source": [
    "### Database Model\n",
    "\n",
    "- **Table**: `food_reviews_12345`.\n",
    "- **Fields**: `id`, `user_id`, `food`, `review`, `rating`.\n",
    "\n",
    "#### Example Code:\n",
    "```python\n",
    "from __init__ import db\n",
    "\n",
    "class FoodReview12345(db.Model):\n",
    "    __tablename__ = 'food_reviews_12345'\n",
    "    id = db.Column(db.Integer, primary_key=True)\n",
    "    user_id = db.Column(db.Integer, db.ForeignKey('users.id'), nullable=False)\n",
    "    food = db.Column(db.String(255), nullable=False)\n",
    "    review = db.Column(db.String(255), nullable=False)\n",
    "    rating = db.Column(db.String(255), nullable=False)\n",
    "\n",
    "    def create(self):\n",
    "        db.session.add(self)\n",
    "        db.session.commit()\n",
    "\n",
    "    def read(self):\n",
    "        return {\n",
    "            'id': self.id,\n",
    "            'user_id': self.user_id,\n",
    "            'food': self.food,\n",
    "            'review': self.review,\n",
    "            'rating': self.rating\n",
    "        }\n",
    "```\n",
    "\n",
    "---"
   ]
  },
  {
   "cell_type": "markdown",
   "metadata": {},
   "source": [
    "### Debugging Process\n",
    "\n",
    "- **Backend Debugging**: Testing through Postman was a crucial step to ensure the API worked correctly before integrating it with the frontend. Below is an example of a POST request tested in Postman:\n",
    "\n",
    " <img src=\"https://i.imgur.com/7HCQtcKd.png\" alt=\"Postman Testing\" width=\"600\">\n",
    "\n",
    "- **Frontend Debugging**: After verifying the backend functionality, the frontend was tested using the browser console. The following screenshot shows a successful test:\n",
    "\n",
    " <img src=\"https://i.imgur.com/SEECKSM.png\" alt=\"Frontend Console Testing\" width=\"600\">\n"
   ]
  },
  {
   "cell_type": "markdown",
   "metadata": {},
   "source": [
    "### Database and Data Security\n",
    "\n",
    "- **SQLite Database**: The database schema includes columns for `id`, `user_id`, `food`, `review`, and `rating`. Below is a snapshot of the database structure:\n",
    "\n",
    " <img src=\"https://i.imgur.com/RZ3eeMp.png\" alt=\"Database Structure\" width=\"600\">\n",
    "\n",
    "- **User Table Integration**: The `user_id` column in the reviews table is linked to the `id` column in the user table. This ensures that reviews are associated with the correct user. Here is a snapshot of the user table:\n",
    "\n",
    " <img src=\"https://i.imgur.com/4DSS5I.png\" alt=\"User Table\" width=\"600\">\n"
   ]
  },
  {
   "cell_type": "markdown",
   "metadata": {},
   "source": [
    "### Lessons Learned\n",
    "\n",
    "- **Self-Learning**: I gained a solid understanding of full-stack development by building this feature from scratch.\n",
    "- **Debugging**: Learned the importance of systematic testing and detailed error logs.\n",
    "- **Iterative Improvement**: While the feature is unpolished, it works and serves as a foundation for future enhancements.\n",
    "\n",
    "---\n",
    "\n",
    "### Final Thoughts\n",
    "\n",
    "- This project was a significant milestone in my journey as a developer.\n",
    "- Despite the challenges, I’m proud of what I accomplished and look forward to refining my skills further.\n",
    "\n",
    "---"
   ]
  }
 ],
 "metadata": {
  "kernelspec": {
   "display_name": "venv",
   "language": "python",
   "name": "python3"
  },
  "language_info": {
   "codemirror_mode": {
    "name": "ipython",
    "version": 3
   },
   "file_extension": ".py",
   "mimetype": "text/x-python",
   "name": "python",
   "nbconvert_exporter": "python",
   "pygments_lexer": "ipython3",
   "version": "3.13.2"
  }
 },
 "nbformat": 4,
 "nbformat_minor": 2
}
