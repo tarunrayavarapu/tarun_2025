{
 "cells": [
  {
   "cell_type": "raw",
   "metadata": {
    "vscode": {
     "languageId": "raw"
    }
   },
   "source": [
    "---\n",
    "layout: post\n",
    "title: Binary Base\n",
    "description:  Reflection\n",
    "type: issues \n",
    "comments: true\n",
    "---"
   ]
  },
  {
   "cell_type": "markdown",
   "metadata": {},
   "source": [
    "## Homework"
   ]
  },
  {
   "cell_type": "code",
   "execution_count": null,
   "metadata": {},
   "outputs": [],
   "source": [
    " def binary_addition(a, b):\n",
    "    return bin(int(a, 2) + int(b, 2))[2:]\n",
    "\n",
    "def binary_subtraction(a, b):\n",
    "    return bin(int(a, 2) - int(b, 2))[2:]\n",
    "\n",
    "def binary_multiplication(a, b):\n",
    "    return bin(int(a, 2) * int(b, 2))[2:]\n",
    "\n",
    "def binary_division(a, b):\n",
    "    if int(b, 2) == 0:\n",
    "        return \"Error: Division by zero!\"\n",
    "    return bin(int(a, 2) // int(b, 2))[2:]\n",
    "\n",
    "def decimal_to_binary(n):\n",
    "    return bin(n)[2:]\n",
    "\n",
    "def main():\n",
    "    print(\"⚙️ Binary Calculator ⚙️\")\n",
    "    print(\"Choose an operation:\")\n",
    "    print(\"1. Addition (+)\")\n",
    "    print(\"2. Subtraction (-)\")\n",
    "    print(\"3. Multiplication (×)\")\n",
    "    print(\"4. Division (÷)\")\n",
    "    print(\"5. Convert Decimal to Binary (extra credit!)\")\n",
    "    \n",
    "    choice = input(\"Enter choice (1/2/3/4/5): \")\n",
    "\n",
    "    if choice in ['1', '2', '3', '4']:\n",
    "        a = input(\"Enter first binary number: \")\n",
    "        b = input(\"Enter second binary number: \")\n",
    "\n",
    "        if choice == '1':\n",
    "            result = binary_addition(a, b)\n",
    "        elif choice == '2':\n",
    "            result = binary_subtraction(a, b)\n",
    "        elif choice == '3':\n",
    "            result = binary_multiplication(a, b)\n",
    "        elif choice == '4':\n",
    "            result = binary_division(a, b)\n",
    "\n",
    "        print(f\"Result: {result}\")\n",
    "\n",
    "    elif choice == '5':\n",
    "        dec = int(input(\"Enter a decimal number: \"))\n",
    "        result = decimal_to_binary(dec)\n",
    "        print(f\"Binary: {result}\")\n",
    "\n",
    "    else:\n",
    "        print(\"Invalid choice!\")\n",
    "\n",
    "if __name__ == \"__main__\":\n",
    "    main()\n"
   ]
  }
 ],
 "metadata": {
  "kernelspec": {
   "display_name": "venv",
   "language": "python",
   "name": "python3"
  },
  "language_info": {
   "codemirror_mode": {
    "name": "ipython",
    "version": 3
   },
   "file_extension": ".py",
   "mimetype": "text/x-python",
   "name": "python",
   "nbconvert_exporter": "python",
   "pygments_lexer": "ipython3",
   "version": "3.13.2"
  }
 },
 "nbformat": 4,
 "nbformat_minor": 2
}
