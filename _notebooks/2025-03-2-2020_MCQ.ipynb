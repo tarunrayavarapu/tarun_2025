{
 "cells": [
  {
   "cell_type": "raw",
   "metadata": {},
   "source": [
    "---\n",
    "layout: post\n",
    "title: 2020 MCQ Reflection\n",
    "description:  Reflection\n",
    "type: issues \n",
    "comments: true\n",
    "---"
   ]
  },
  {
   "cell_type": "markdown",
   "metadata": {},
   "source": [
    "### Question 5\n",
    "\n",
    " <img src=\"https://i.imgur.com/7hdb8aT.png\" alt=\"Image\" width=\"600\">\n",
    "\n",
    "I chose B, but the AND gate (C AND D) resulted in false, making the final output false. The correct answer is actually C because it ensures both (A OR B) = true and (C AND D) = true, giving a final output of true."
   ]
  },
  {
   "cell_type": "markdown",
   "metadata": {},
   "source": [
    "### Question 11\n",
    "\n",
    "<img src=\"https://i.imgur.com/jBPm8sL.png\" alt=\"Image\" width=\"600\">\n",
    "\n",
    "I chose B (Light Yellow) because I saw that the RGB triplet had high red and green values, which typically indicate a yellow shade. However, the correct answer is A (Ivory) because the binary triplet (11111111, 11111111, 11110000) corresponds to (255, 255, 240) in decimal, which matches the RGB values for ivory in the provided table.\n"
   ]
  },
  {
   "cell_type": "markdown",
   "metadata": {},
   "source": [
    "### Question 23\n",
    "\n",
    "<img src=\"https://i.imgur.com/y4Ket51.png\" alt=\"Image\" width=\"600\">\n",
    "\n",
    "I chose B, but I misunderstood the logic in the flowchart. The correct answer is D because the variable available is set to true only if both conditions weekday = true AND miles < 20 are met, which matches the Boolean expression in D.\n"
   ]
  },
  {
   "cell_type": "markdown",
   "metadata": {},
   "source": [
    "### Question 23\n",
    "\n",
    "<img src=\"https://i.imgur.com/3nVXWqP.png\" alt=\"Image\" width=\"600\">\n",
    "\n",
    "I chose B (The date and time the image was created) because I thought it was less relevant as metadata for the image. However, the correct answer is D (A duplicate copy of the data) because metadata typically describes the image, but it wouldn't include a redundant copy of the image data itself."
   ]
  },
  {
   "cell_type": "markdown",
   "metadata": {},
   "source": [
    "### Question 26\n",
    "\n",
    "<img src=\"https://i.imgur.com/OR85IQU.png\" alt=\"Image\" width=\"600\">\n",
    "\n",
    "\n",
    "I chose B (in range) because I thought the program would allow values that met the condition for displaying it. However, the correct answer is D (out of range) because the logic structure ensures that n must be at least 1 for any output, meaning negative values will always be converted to positive, preventing \"out of range\" from ever being displayed."
   ]
  },
  {
   "cell_type": "markdown",
   "metadata": {},
   "source": [
    "### Question 33\n",
    "\n",
    "<img src=\"https://i.imgur.com/N98rCn1.png\" alt=\"Image\" width=\"600\">\n",
    "\n",
    "\n",
    "I chose B (the value of the lowest assignment score) because I thought it couldn't be determined from the given data. However, the correct answer is A (the highest assignment score) since we only have the average before and after dropping the lowest score, but no way to determine the exact highest score among the remaining assignments."
   ]
  },
  {
   "cell_type": "markdown",
   "metadata": {},
   "source": [
    "### Question 38\n",
    "\n",
    "<img src=\"https://i.imgur.com/XoQrrEl.png\" alt=\"Image\" width=\"600\">\n",
    "\n",
    "\n",
    "I chose A (IPv6 addresses are shorter than IPv4 addresses, which allows for faster routing of packets) because I thought shorter addresses would improve efficiency. However, the correct answer is B (IPv6 allows for a greater number of addresses than IPv4, which allows more devices to be connected to the Internet) because IPv6 was designed to expand the address space and support the growing number of internet-connected devices."
   ]
  },
  {
   "cell_type": "markdown",
   "metadata": {},
   "source": [
    "### Question 47\n",
    "\n",
    "<img src=\"https://i.imgur.com/MVS9ORH.png\" alt=\"Image\" width=\"600\">\n",
    "\n",
    "\n",
    "I chose B (The list numList must not contain any duplicate values) because I thought duplicates would interfere with the search. However, the correct answer is C (The values in numList must be in sorted order) because binary search only works on a sorted list, allowing it to efficiently divide the search space in half at each step."
   ]
  },
  {
   "cell_type": "markdown",
   "metadata": {},
   "source": [
    "### Question 49\n",
    "\n",
    "<img src=\"https://i.imgur.com/m5pScCx.png\" alt=\"Image\" width=\"600\">\n",
    "\n",
    "\n",
    "I chose A (5 bits) because I thought it would be enough to represent 100 staff members. However, the correct answer is C (7 bits) because the number of unique binary sequences with n bits is 2ⁿ, and the smallest power of 2 that covers at least 100 is 2⁷ = 128, meaning 7 bits are required."
   ]
  },
  {
   "cell_type": "markdown",
   "metadata": {},
   "source": [
    "### Question 51\n",
    "\n",
    "<img src=\"https://i.imgur.com/rmzds3u.png\" alt=\"Image\" width=\"600\">\n",
    "\n",
    "\n",
    "I chose C (Creative Commons provides lossless transmission of messages, enabling reliable distribution of digital information) because I mistakenly thought it was related to digital data transfer. However, the correct answer is A (Creative Commons gives creators control over how their works can be used and distributed) because Creative Commons is a licensing system that allows content creators to specify the permissions for sharing and using their work.\n"
   ]
  },
  {
   "cell_type": "markdown",
   "metadata": {},
   "source": [
    "### Question 62\n",
    "\n",
    "<img src=\"https://i.imgur.com/YtyJv55.png\" alt=\"Image\" width=\"600\">\n",
    "\n",
    "\n",
    "I got this question wrong because I didn't fully evaluate how the Boolean expressions work. The correct answers are A and B because:\n",
    "\n",
    "A: The condition IF X is true (since X = true), so the statement DISPLAY (X OR Y) executes. Since X OR Y evaluates to true OR false = true, it displays true.\n",
    "B: The condition IF (X OR Y) evaluates to true OR false = true, so it executes DISPLAY X, which outputs true.\n",
    "I likely missed one of these correct answers by misreading the logic or misunderstanding how OR operations behave when one variable is true."
   ]
  },
  {
   "cell_type": "markdown",
   "metadata": {},
   "source": [
    "### Question 64\n",
    "\n",
    "<img src=\"https://i.imgur.com/GfOBSJN.png\" alt=\"Image\" width=\"600\">\n",
    "\n",
    "\n",
    "I got this question wrong because I didn't account for how the loop handles negative values of y. The correct answers are B (Multiply 2, -5) and D (Multiply -2, -5) because the loop runs until count ≥ y, but since y is negative, the loop condition is never met, causing an infinite loop or incorrect output.\n"
   ]
  },
  {
   "cell_type": "markdown",
   "metadata": {},
   "source": [
    "### Question 65\n",
    "\n",
    "<img src=\"https://i.imgur.com/x4o2O0c.png\" alt=\"Image\" width=\"600\">\n",
    "\n",
    "\n",
    "I chose A, but I got it wrong because the order of concatenation was incorrect. The correct answers are B and D because they correctly extract and combine the necessary substrings from \"jackrabbit\" and \"antelope\" in the right sequence to form \"jackalope\".\n"
   ]
  },
  {
   "cell_type": "markdown",
   "metadata": {},
   "source": [
    "### Question 65\n",
    "\n",
    "<img src=\"https://i.imgur.com/B5EJjUb.png\" alt=\"Image\" width=\"600\">\n",
    "\n",
    "\n",
    "I got this question wrong because I didn't notice that the count variable is reset to 0 inside the loop, which causes incorrect counting. The correct answers are A and D because in A, the procedure fails to count multiple occurrences properly, and in D, it returns 0 when \"spruce\" isn’t in the list, which might not be the intended behavior.\n",
    "\n",
    "---\n"
   ]
  },
  {
   "cell_type": "markdown",
   "metadata": {},
   "source": [
    "## Overview\n",
    "\n",
    "I noticed that I got many questions wrong because I misinterpreted Boolean logic, misunderstood how certain algorithms execute, and rushed through some of the wording. For Boolean questions, I need to slow down and break down conditions step by step instead of assuming how they work. When dealing with code execution, I should trace through loops and functions with sample inputs to catch errors like resetting variables incorrectly or failing to handle edge cases. In math-based questions, like binary representation, I need to apply formulas instead of estimating answers. Lastly, I should take a little more time reading carefully, especially for trick questions, to avoid missing key details. By focusing on these areas, I can improve my accuracy and avoid making the same mistakes."
   ]
  },
  {
   "cell_type": "markdown",
   "metadata": {},
   "source": [
    "## Topics to Improve on:\n",
    "\n",
    "- Boolean Expressions\n",
    "- Nested Conditionals\n",
    "- Calling Procedures\n",
    "- Legal and Ethical Concerns\n",
    "\n",
    "<img src=\"https://i.imgur.com/4nKaj5F.png\" alt=\"Image\" width=\"600\">\n"
   ]
  }
 ],
 "metadata": {
  "language_info": {
   "name": "python"
  }
 },
 "nbformat": 4,
 "nbformat_minor": 2
}
