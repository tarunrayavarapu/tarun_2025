{
 "cells": [
  {
   "cell_type": "raw",
   "metadata": {
    "vscode": {
     "languageId": "raw"
    }
   },
   "source": [
    "---\n",
    "layout: post\n",
    "title: Legal and Ethical Concerns\n",
    "description:  Reflection\n",
    "type: issues \n",
    "comments: true\n",
    "---"
   ]
  },
  {
   "cell_type": "markdown",
   "metadata": {},
   "source": [
    "# Popcorn Hack #1:\n",
    "\n",
    "### Example When It *Is* Your IP:  \n",
    "If you buy a painting from an artist and then modify it by adding your own artistic elements, the changes you make could be considered your intellectual property. However, the original painting itself remains the artist’s IP.\n",
    "\n",
    "### Example When It *Is Not* Your IP:  \n",
    "If you buy a book, you own the physical copy, but not the copyright. You can resell *that* book, but you cannot legally make copies and sell them because the author or publisher owns the intellectual property rights.\n",
    "\n",
    "**General Rule:**  \n",
    "Owning a product does not always mean you own the rights to reproduce or distribute it. You can usually resell the item itself (like selling a used video game), but making copies or reproductions often requires permission from the IP owner.\n"
   ]
  },
  {
   "cell_type": "markdown",
   "metadata": {},
   "source": [
    "# Popcorn Hack #2\n",
    "\n",
    "As a computer science student, the best license for my repository or site depends on how I want others to use my work.  \n",
    "\n",
    "If I want to allow others to freely use, modify, and share my code while ensuring they give me credit, I’d choose the **MIT License**. It’s simple, permissive, and widely used in open-source projects.  \n",
    "\n",
    "However, if I want to make sure that any changes or additions others make are also shared under the same open-source terms, the **GNU General Public License (GPL)** would be a better choice. This ensures that my work stays open and benefits the community.  \n",
    "\n",
    "For my personal site, if I want to protect my original content (like blogs or designs) while allowing limited reuse, a **Creative Commons (CC) license** might be a good option. It lets me specify how others can share or modify my work.  \n"
   ]
  },
  {
   "cell_type": "markdown",
   "metadata": {},
   "source": [
    "                                                              "
   ]
  }
 ],
 "metadata": {
  "language_info": {
   "name": "python"
  }
 },
 "nbformat": 4,
 "nbformat_minor": 2
}
