{
 "cells": [
  {
   "cell_type": "raw",
   "metadata": {
    "vscode": {
     "languageId": "raw"
    }
   },
   "source": [
    "---\n",
    "layout: post\n",
    "title: Crowdsourcing\n",
    "description:  Reflection\n",
    "type: issues \n",
    "comments: true\n",
    "---"
   ]
  },
  {
   "cell_type": "markdown",
   "metadata": {},
   "source": [
    "## Pocorn Hack #1\n",
    "\n",
    "<img src=\"https://i.imgur.com/cfnIHrU.png\" width=\"400\"/>\n",
    "\n",
    "---"
   ]
  },
  {
   "cell_type": "markdown",
   "metadata": {},
   "source": [
    "## Popcorn Hack #2\n",
    "\n",
    "\n",
    "<img src=\"https://i.imgur.com/ZDL2Pzo.png\" width=\"400\"/>\n",
    "\n",
    "## Purpose  \n",
    "This dataset provides records of reported crimes in Los Angeles, including information such as date, time, location, type of crime, and the status of the case. Law enforcement agencies, policymakers, journalists, and researchers use it to analyze crime trends, improve public safety, and make data-driven decisions.  \n",
    "\n",
    "## Pros  \n",
    "✔ **Transparency** – Helps the public and researchers understand crime trends and hold law enforcement accountable.  \n",
    "✔ **Data-Driven Decision Making** – Can assist city officials in allocating resources to high-crime areas.  \n",
    "✔ **Historical Insights** – With years of data available, researchers can study long-term crime patterns.  \n",
    "\n",
    "## Cons  \n",
    "✖ **Privacy Concerns** – Even though personal details are removed, locations and dates could still be used to identify individuals.  \n",
    "✖ **Data Bias** – Crime reports depend on police activity, which may lead to overrepresentation of certain neighborhoods.  \n",
    "✖ **Incomplete Reporting** – Not all crimes are reported to the police, leading to gaps in the data.  \n",
    "\n",
    "[View the Dataset](https://data.lacity.org/Public-Safety/Crime-Data-from-2020-to-Present/2nrs-mtv8)  \n",
    "\n",
    "---\n"
   ]
  },
  {
   "cell_type": "markdown",
   "metadata": {},
   "source": [
    "## Crowdsourcing Questions  \n",
    "\n",
    "## Question 1  \n",
    "**Explain the concept of crowdsourcing. Provide 2 examples (that have not been mentioned in this lesson) of how it is commonly used in different fields.**  \n",
    "\n",
    "Crowdsourcing is the practice of gathering ideas, services, or content from a large group of people, often via the internet. It leverages collective intelligence to solve problems, generate new content, or improve existing systems.  \n",
    "\n",
    "### Examples:  \n",
    "1. **Medical Research (Foldit)** – A scientific crowdsourcing project where players solve protein-folding puzzles to help researchers understand protein structures for drug discovery.  \n",
    "2. **Disaster Response (Ushahidi)** – A platform that crowdsources crisis information by allowing people to report emergencies or natural disasters, helping first responders act efficiently.  \n",
    "\n",
    "---  \n",
    "\n",
    "## Question 2  \n",
    "**Identify a real-world example of a successful crowdsourcing project. Explain the project, its goals, and the positive outcomes achieved through the collaboration of a large group of people.**  \n",
    "\n",
    "### Example: Wikipedia  \n",
    "**Project:** Wikipedia is an open-source, user-generated encyclopedia where volunteers contribute, edit, and verify information.  \n",
    "**Goals:** To create a free and accessible knowledge database that anyone can contribute to and edit.  \n",
    "**Outcomes:**  \n",
    "- Over 6 million articles in English and many more in different languages.  \n",
    "- A widely used reference tool with constantly updated content.  \n",
    "- Encourages global collaboration and knowledge sharing.  \n",
    "\n",
    "---  \n",
    "\n",
    "## Question 3  \n",
    "**What are some drawbacks of crowdsourcing and why would certain groups denounce crowdsourcing? Provide specific example(s).**  \n",
    "\n",
    "### Drawbacks of Crowdsourcing:  \n",
    "1. **Quality Control Issues** – Since crowdsourcing relies on voluntary contributions, ensuring accuracy and reliability can be difficult.  \n",
    "   - *Example: Fake news or biased edits on Wikipedia.*  \n",
    "2. **Exploitation of Labor** – Some platforms use unpaid or low-paid contributors to perform tasks that would normally require paid professionals.  \n",
    "   - *Example: Amazon Mechanical Turk pays workers small amounts for tasks that may take significant time and effort.*  \n",
    "3. **Privacy and Security Risks** – Crowdsourced data may contain personal information that could be misused.  \n",
    "   - *Example: Crowdsourced crime-reporting apps may expose sensitive information about individuals.*  \n",
    "\n",
    "Certain groups, like labor unions and professional organizations, may oppose crowdsourcing because it can undercut fair wages and professional standards.  \n",
    "\n",
    "---  \n",
    "\n",
    "## Question 4  \n",
    "**Find a public data set that would work with your Pilot City project.**  \n",
    "\n",
    "For my Pilot City project, a useful public dataset would be **social media engagement**.  \n",
    "\n",
    "**Why?**  \n",
    "- Contains information on how people interact with content on platforms like Twitter, Instagram, and Facebook.  \n",
    "- Useful for analyzing trends in public opinion, social movements, and community engagement.  \n",
    "- Can be applied in a Pilot City project to measure digital influence and community feedback on urban initiatives.\n",
    "\n",
    "---  \n",
    "\n"
   ]
  }
 ],
 "metadata": {
  "language_info": {
   "name": "python"
  }
 },
 "nbformat": 4,
 "nbformat_minor": 2
}
