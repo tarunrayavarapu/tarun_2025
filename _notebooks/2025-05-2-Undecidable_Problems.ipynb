{
 "cells": [
  {
   "cell_type": "raw",
   "metadata": {
    "vscode": {
     "languageId": "raw"
    }
   },
   "source": [
    "---\n",
    "layout: post\n",
    "title: Undecidable problems\n",
    "description:  Reflection\n",
    "type: issues \n",
    "comments: true\n",
    "---"
   ]
  },
  {
   "cell_type": "markdown",
   "metadata": {},
   "source": [
    "## Homework Hack "
   ]
  },
  {
   "cell_type": "markdown",
   "metadata": {},
   "source": [
    "Another Undecidable Problem: Post Correspondence Problem (PCP)\n",
    "The Post Correspondence Problem is a classic example of an undecidable problem. It works like this:\n",
    "\n",
    "You have two lists of strings, A and B.\n",
    "\n",
    "- Each position i in both lists corresponds to a pair: A[i] and B[i].\n",
    "\n",
    "- The task is to figure out if there's a sequence of indices (like 1, 3, 2...) such that when you concatenate the strings from list A in that order, it equals the concatenation of the strings from list B in the same order.\n",
    "\n",
    "Why is it undecidable?\n",
    "- There’s no general algorithm that can always tell you for any given set of string pairs whether such a sequence exists. For some cases it can be solved, but for others, it can't — and no program can decide this for all possible inputs."
   ]
  },
  {
   "cell_type": "markdown",
   "metadata": {},
   "source": [
    "##  Nearest Neighbor Algorithm for TSP (Python)"
   ]
  },
  {
   "cell_type": "code",
   "execution_count": 1,
   "metadata": {},
   "outputs": [
    {
     "name": "stdout",
     "output_type": "stream",
     "text": [
      "Tour: [0, 3, 2, 1, 4, 0]\n",
      "Total distance: 44\n"
     ]
    }
   ],
   "source": [
    "def nearest_neighbor_tsp(distances, start=0):\n",
    "    n = len(distances)\n",
    "    unvisited = set(range(n))\n",
    "    unvisited.remove(start)\n",
    "    tour = [start]\n",
    "    current = start\n",
    "    total_distance = 0\n",
    "\n",
    "    while unvisited:\n",
    "        nearest = min(unvisited, key=lambda city: distances[current][city])\n",
    "        total_distance += distances[current][nearest]\n",
    "        current = nearest\n",
    "        tour.append(current)\n",
    "        unvisited.remove(current)\n",
    "\n",
    "    total_distance += distances[current][start]\n",
    "    tour.append(start)\n",
    "\n",
    "    return tour, total_distance\n",
    "\n",
    "# Example distance matrix (5 cities: A, B, C, D, E)\n",
    "distances = [\n",
    "    [0, 12, 19, 8, 15],\n",
    "    [12, 0, 10, 18, 5],\n",
    "    [19, 10, 0, 6, 14],\n",
    "    [8, 18, 6, 0, 9],\n",
    "    [15, 5, 14, 9, 0]\n",
    "]\n",
    "\n",
    "tour, total_distance = nearest_neighbor_tsp(distances, start=0)\n",
    "print(\"Tour:\", tour)\n",
    "print(\"Total distance:\", total_distance)\n"
   ]
  },
  {
   "cell_type": "markdown",
   "metadata": {},
   "source": [
    "## Real-World Example Using Heuristics\n"
   ]
  },
  {
   "cell_type": "markdown",
   "metadata": {},
   "source": [
    "Example:\n",
    "\n",
    "Job Scheduling in Operating Systems\n",
    "\n",
    "Modern operating systems have to schedule thousands of tasks — from apps running in the background to user activities — on limited CPU resources. Finding the optimal way to schedule every single task perfectly is computationally impossible because of the massive number of possibilities and dependencies.\n",
    "\n",
    "Why an Exact Solution Isn’t Practical:\n",
    "Calculating every possible order of jobs and choosing the perfect one would take too long, and by the time it's done, new tasks would already have appeared. Instead, OS schedulers use heuristics like:\n",
    "\n",
    "- Shortest Job First (SJF)\n",
    "\n",
    "- Round Robin\n",
    "\n",
    "- Priority Scheduling\n",
    "\n"
   ]
  }
 ],
 "metadata": {
  "kernelspec": {
   "display_name": "venv",
   "language": "python",
   "name": "python3"
  },
  "language_info": {
   "codemirror_mode": {
    "name": "ipython",
    "version": 3
   },
   "file_extension": ".py",
   "mimetype": "text/x-python",
   "name": "python",
   "nbconvert_exporter": "python",
   "pygments_lexer": "ipython3",
   "version": "3.13.2"
  }
 },
 "nbformat": 4,
 "nbformat_minor": 2
}
