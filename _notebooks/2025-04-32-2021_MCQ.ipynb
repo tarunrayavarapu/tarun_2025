{
 "cells": [
  {
   "cell_type": "raw",
   "metadata": {
    "vscode": {
     "languageId": "raw"
    }
   },
   "source": [
    "---\n",
    "layout: post\n",
    "title: 2021 MCQ Reflection\n",
    "description:  Reflection\n",
    "type: issues \n",
    "comments: true\n",
    "---"
   ]
  },
  {
   "cell_type": "markdown",
   "metadata": {},
   "source": [
    "## Q7\n",
    "\n",
    "<img src=\"https://i.imgur.com/KPazAr8.png\" alt=\"Game Board Image\" width=\"300\">\n",
    "\n",
    "**What I did wrong:**  \n",
    "I miscounted the number of moves the game piece made before it reached the red space. I thought it took three moves when it actually took four.\n",
    "\n",
    "**What to fix:**  \n",
    "I need to carefully follow each color’s movement rule and count each move accurately. This will help me see that it takes four moves to land on the red space.\n",
    "\n",
    "---"
   ]
  },
  {
   "cell_type": "markdown",
   "metadata": {},
   "source": [
    "## Q9\n",
    "\n",
    "<img src=\"https://i.imgur.com/ZAJ9P9y.png\" alt=\"Game Board Image\" width=\"300\">\n",
    "\n",
    "**What I did wrong:**\n",
    "I picked **C**, thinking an analog audio signal is measured as a sequence of operations for sound reproduction, which isn’t how audio data is digitally represented.\n",
    "\n",
    "**What to fix:**\n",
    "I should’ve chosen **B**, because digital audio signals are actually measured at regular intervals and stored as sequences of bits.\n",
    "\n",
    "---\n"
   ]
  },
  {
   "cell_type": "markdown",
   "metadata": {},
   "source": [
    "## Q20\n",
    "\n",
    "<img src=\"https://i.imgur.com/fnM4J5L.png\" alt=\"Game Board Image\" width=\"300\">\n",
    "\n",
    "**What I Did Wrong:**\n",
    "I chose answer **C**, thinking that limiting bandwidth would prevent guest users from having fault-tolerant routing on the Internet.  \n",
    "However, this is incorrect because fault-tolerant routing is a fundamental feature of the Internet that is unaffected by local bandwidth limitations.\n",
    "\n",
    "**What to Fix:**\n",
    "I should have chosen **D**, which correctly explains that limiting bandwidth restricts the amount of data guest users can send and receive per second.  \n",
    "In the future, I need to focus on how bandwidth affects speed and data flow, not the reliability of Internet routing itself.\n",
    "\n",
    "---"
   ]
  },
  {
   "cell_type": "markdown",
   "metadata": {},
   "source": [
    "## Q46\n",
    "\n",
    "<img src=\"https://i.imgur.com/kDwj68Z.png\" alt=\"Game Board Image\" width=\"300\">\n",
    "\n",
    "**What I Did Wrong:**\n",
    "I chose **A** and thought only certain sequences of filtering and sorting would work to identify the restaurant with the greatest average rating.  \n",
    "But that was incorrect, because **any ordering** of the three valid steps—filtering by number of ratings, filtering by payment type, and sorting by rating—will still produce the correct result.\n",
    "\n",
    "**What to Fix:**\n",
    "I should have selected **D**, which includes all three sequences (I, II, and III), because each one correctly filters out ineligible restaurants and sorts the remainder by rating.  \n",
    "Next time, I need to recognize that as long\n",
    "\n",
    "---"
   ]
  },
  {
   "cell_type": "markdown",
   "metadata": {},
   "source": [
    "## Q49\n",
    "\n",
    "<img src=\"https://i.imgur.com/vxcrjG2.png\" alt=\"Game Board Image\" width=\"300\">\n",
    "\n",
    "**What I Did Wrong:**\n",
    "I chose **C**, thinking that while some problems may require large amounts of data storage, **all** problems can be solved algorithmically.  \n",
    "But that's not true—**not every problem** can be solved with an algorithm, regardless of computing power or resources.\n",
    "\n",
    "**What to Fix:**\n",
    "The correct answer is **D**: *There exist some problems that cannot be solved algorithmically using any computer.*  \n",
    "This aligns with the concept of **undecidable problems** in computer science—some problems simply don’t have algorithmic solutions.  \n",
    "Next time, I’ll remember that limits exist in computation and not all problems are computable.\n",
    "\n",
    "---"
   ]
  },
  {
   "cell_type": "markdown",
   "metadata": {},
   "source": [
    "## Q53\n",
    "\n",
    "<img src=\"https://i.imgur.com/CuErfTl.png\" alt=\"Game Board Image\" width=\"300\">\n",
    "\n",
    "**What I did wrong:**  \n",
    "I chose a condition that would only return `true` if every element in the list matched the target.  \n",
    "I misunderstood the logic and compared `count` to `position`, which doesn’t help detect multiple occurrences of the target.\n",
    "\n",
    "**What to fix:**  \n",
    "I need to compare `count` directly to a fixed number like 2 to see if the target appears more than once.  \n",
    "The condition should simply check if the target was found at least twice, not relative to the list length or position.\n",
    "\n",
    "---"
   ]
  },
  {
   "cell_type": "markdown",
   "metadata": {},
   "source": [
    "## Q55\n",
    "\n",
    "<img src=\"https://i.imgur.com/LmHTB9O.png\" alt=\"Game Board Image\" width=\"300\">\n",
    "\n",
    "**What I did wrong:**  \n",
    "I removed the last element from the list before storing it in a temporary variable. Then I tried to access that removed element using its original index, which caused an error.\n",
    "\n",
    "**What to fix:**  \n",
    "I need to store the last element in a temporary variable **before** removing it from the list. That way, I can safely reinsert it at the beginning without referencing an invalid index.\n",
    "\n",
    "---"
   ]
  },
  {
   "cell_type": "markdown",
   "metadata": {},
   "source": [
    "## Q56\n",
    "\n",
    "<img src=\"https://i.imgur.com/PCWXGl4.png\" alt=\"Game Board Image\" width=\"300\">\n",
    "\n",
    "**What I did wrong:**  \n",
    "I chose spreadsheets that only included students who play sports and didn’t account for those who don’t.  \n",
    "Because of this, I couldn’t compare GPA data between students who play sports and those who do not.\n",
    "\n",
    "**What to fix:**  \n",
    "I need to include data from Spreadsheet I since it contains all students and their GPAs.  \n",
    "Combining it with Spreadsheet II allows me to compare students who play sports with those who don’t.\n",
    "\n",
    "---"
   ]
  }
 ],
 "metadata": {
  "language_info": {
   "name": "python"
  }
 },
 "nbformat": 4,
 "nbformat_minor": 2
}
