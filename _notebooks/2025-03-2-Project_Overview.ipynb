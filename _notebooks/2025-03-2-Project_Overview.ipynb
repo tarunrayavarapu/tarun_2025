{
 "cells": [
  {
   "cell_type": "raw",
   "metadata": {
    "vscode": {
     "languageId": "raw"
    }
   },
   "source": [
    "---\n",
    "layout: post\n",
    "title: Project Overview\n",
    "description:  Reflection\n",
    "type: issues \n",
    "comments: true\n",
    "---"
   ]
  },
  {
   "cell_type": "markdown",
   "metadata": {},
   "source": [
    "## Description\n",
    "\n",
    "My feature is Cuisine Chronicles. Cuisine Chronicles is a food review system for the top 5 restauraunts in Paris. There is a brief overview of the food options and menu for each restaurant, and also an average rating. There is a link which leads to the actual review page, where users leave reviews and rate the restauraunt. This makes it easier for people to choose which restauraunt to go to based on the reviews.\n",
    "\n",
    "---"
   ]
  },
  {
   "cell_type": "markdown",
   "metadata": {},
   "source": [
    "### Big Idea 1\n",
    "\n",
    "Big Idea 1 in AP CSP emphasizes the importance of debugging, problem-solving, and developing algorithms to ensure programs function correctly and efficiently"
   ]
  },
  {
   "cell_type": "markdown",
   "metadata": {},
   "source": [
    "- **Backend Debugging**: Testing through postman was a great way for me to make sure my api works, before making any changes to the frontend. It is also a very good way of backend debugging to run into less problems. Here is an example of a post request. \n",
    "\n",
    " <img src=\"https://i.imgur.com/7HCQtcKd.png\" alt=\"Image\" width=\"600\">\n"
   ]
  },
  {
   "cell_type": "markdown",
   "metadata": {},
   "source": [
    "- **Frontend Debugging**: Once I knew my api fully works with the database after testing through postman, I made a frontend and tested through the console if it works. As you can see in the picture, it worked succesfully.\n",
    "\n",
    " <img src=\"https://i.imgur.com/SEECKSM.png\" alt=\"Image\" width=\"600\">\n"
   ]
  },
  {
   "cell_type": "markdown",
   "metadata": {},
   "source": [
    "- **Testing Static Data**: Here I am testing the functionality of my feature using static data in my model file. I am initializing the data, then saving it in the database. Here are the two pieces."
   ]
  },
  {
   "cell_type": "code",
   "execution_count": null,
   "metadata": {},
   "outputs": [],
   "source": [
    "def initFoodReviews12345():\n",
    "    \"\"\"\n",
    "    Initialize the FoodReview12345 table with default data.\n",
    "    \"\"\"\n",
    "    reviews = [\n",
    "        FoodReview12345(user_id=1, food=\"Pizza\", review=\"Delicious and cheesy!\", rating=\"5\"),\n",
    "        FoodReview12345(user_id=2, food=\"Burger\", review=\"Juicy and filling.\", rating=\"4\"),\n",
    "        FoodReview12345(user_id=3, food=\"Sushi\", review=\"Fresh and tasty.\", rating=\"5\"),\n",
    "        FoodReview12345(user_id=4, food=\"Pasta\", review=\"Creamy and delightful.\", rating=\"4.5\"),\n",
    "        FoodReview12345(user_id=5, food=\"Salad\", review=\"Healthy but could use more flavor.\", rating=\"3\")\n",
    "    ]\n",
    "\n",
    "    for review in reviews:\n",
    "        try:\n",
    "            review.create()\n",
    "        except Exception as e:\n",
    "            db.session.rollback()\n",
    "            print(f\"Error adding review for {review.food}: {e}\")\n"
   ]
  },
  {
   "cell_type": "markdown",
   "metadata": {},
   "source": [
    " <img src=\"https://i.imgur.com/RZ3eeMp.png\" alt=\"Image\" width=\"600\">\n",
    "\n",
    " ---\n"
   ]
  },
  {
   "cell_type": "markdown",
   "metadata": {},
   "source": [
    "### Big Idea 2\n",
    "\n",
    "Big Idea 2 in AP CSP is about how data is collected, stored, and used to find useful information. It also covers data security and how data helps in solving problems and making decisions."
   ]
  },
  {
   "cell_type": "markdown",
   "metadata": {},
   "source": [
    "- **SQLite 3**: Database management is through SQLite 3, where any change like post, put, get, or delete, will save in the database and dynamically show up on the frontend. Here is a picture of the database and the different columns.\n",
    "\n",
    " <img src=\"https://i.imgur.com/RZ3eeMp.png\" alt=\"Image\" width=\"600\">\n"
   ]
  },
  {
   "cell_type": "markdown",
   "metadata": {},
   "source": [
    "- **User table**: In my feature, when posting a review, the username of the logged in user will pop up. This is because I joined the user table with the current table and match up the user_id with the id. This user table is changed or updated if a new user signs up, or an existing user logs in. \n",
    "\n",
    " <img src=\"https://i.imgur.com/4DSS5I.png\" alt=\"Image\" width=\"600\">\n"
   ]
  },
  {
   "cell_type": "markdown",
   "metadata": {},
   "source": [
    "- **Data Security**: My update and delete functions enhance data security by requiring a valid ID before modifying or removing a review, ensuring only existing records are affected. They also include error handling to prevent unauthorized changes and provide clear messages if the review is missing, reducing the risk of accidental or malicious actions.\n",
    "\n"
   ]
  },
  {
   "cell_type": "code",
   "execution_count": null,
   "metadata": {},
   "outputs": [],
   "source": [
    "def put(self):\n",
    "            data = request.get_json()\n",
    "\n",
    "            if not data or 'id' not in data:\n",
    "                return {'message': 'ID is required for updating a review'}, 400\n",
    "\n",
    "            review = FoodReview12345.query.get(data['id'])\n",
    "            if not review:\n",
    "                return {'message': 'Review not found'}, 404\n",
    "\n",
    "            try:\n",
    "                review.update(data)\n",
    "                return jsonify(review.read())\n",
    "            except Exception as e:\n",
    "                return {'message': f'Error updating review: {e}'}, 500\n",
    "\n",
    "        def delete(self):\n",
    "            data = request.get_json()\n",
    "\n",
    "            if not data or 'id' not in data:\n",
    "                return {'message': 'ID is required for deleting a review'}, 400\n",
    "\n",
    "            review = FoodReview12345.query.get(data['id'])\n",
    "            if not review:\n",
    "                return {'message': 'Review not found'}, 404\n",
    "\n",
    "            try:\n",
    "                review.delete()\n",
    "                return {'message': 'Review deleted successfully'}, 200\n",
    "            except Exception as e:\n",
    "                return {'message': f'Error deleting review: {e}'}, 500"
   ]
  },
  {
   "cell_type": "markdown",
   "metadata": {},
   "source": [
    "---"
   ]
  },
  {
   "cell_type": "markdown",
   "metadata": {},
   "source": [
    "### Big Idea 4\n",
    "\n",
    "Big Idea 4 in AP CSP focuses on how programs and websites are deployed on the internet, making them accessible to users worldwide. It covers topics like hosting, domain names, network protocols, and security measures to ensure reliable and safe online access."
   ]
  },
  {
   "cell_type": "markdown",
   "metadata": {},
   "source": [
    "- **Nginx Configuration**: I deployed my Flask backend on an AWS EC2 instance, allowing it to be accessed online. Since Flask runs on port 8101, I used Nginx as a reverse proxy to direct web traffic to my app. This setup ensures that incoming requests go through Nginx before reaching my backend. "
   ]
  },
  {
   "cell_type": "code",
   "execution_count": null,
   "metadata": {},
   "outputs": [],
   "source": [
    "server {\n",
    "    server_name intertravel.stu.nighthawkcodingsociety.com;\n",
    "\n",
    "    location / {\n",
    "        proxy_pass http://localhost:8101;\n",
    "        proxy_set_header Host $host;\n",
    "        proxy_set_header X-Real-IP $remote_addr;\n",
    "        proxy_set_header X-Forwarded-For $proxy_add_x_forwarded_for;\n",
    "    }\n",
    "}"
   ]
  },
  {
   "cell_type": "markdown",
   "metadata": {},
   "source": [
    "- **Configuring DNS for Custom Domain**: To make my project accessible via a user-friendly domain, I set up DNS records that link my server’s IP address to intertravel.stu.nighthawkcodingsociety.com. With this, users can access my backend through a proper domain instead of an IP address"
   ]
  },
  {
   "cell_type": "markdown",
   "metadata": {},
   "source": [
    "- **CORS Configuration**: To protect my API, I enforced CORS policies so only my frontend (kiruthic-selvakumar.github.io) can send requests. This prevents unauthorized websites from accessing my backend."
   ]
  },
  {
   "cell_type": "code",
   "execution_count": null,
   "metadata": {},
   "outputs": [],
   "source": [
    "location / {\n",
    "    if ($request_method = OPTIONS) {\n",
    "        add_header \"Access-Control-Allow-Origin\" \"https://kiruthic-selvakumar.github.io\";\n",
    "        add_header \"Access-Control-Allow-Methods\" \"GET, POST, PUT, DELETE, OPTIONS\";\n",
    "        add_header \"Access-Control-Allow-Headers\" \"Authorization, Content-Type\";\n",
    "        return 204;\n",
    "    }\n",
    "}"
   ]
  },
  {
   "cell_type": "markdown",
   "metadata": {},
   "source": [
    "- **Enforcing HTTPS with Certbot**: To encrypt all data transfers, I installed an SSL certificate with Certbot. Now, all connections to my backend are secure, preventing data from being intercepted."
   ]
  },
  {
   "cell_type": "code",
   "execution_count": null,
   "metadata": {},
   "outputs": [],
   "source": [
    "sudo certbot --nginx -d intertravel.stu.nighthawkcodingsociety.com\n"
   ]
  },
  {
   "cell_type": "markdown",
   "metadata": {},
   "source": [
    "- **Error Handling in Flask**: I implemented error handling to give clear feedback when API requests fail. This ensures users know what went wrong if they submit incomplete data."
   ]
  },
  {
   "cell_type": "code",
   "execution_count": null,
   "metadata": {},
   "outputs": [],
   "source": [
    "if not data or 'food' not in data or 'review' not in data or 'rating' not in data:\n",
    "        return {'message': 'Invalid, data required'}, 400\n"
   ]
  },
  {
   "cell_type": "markdown",
   "metadata": {},
   "source": [
    "---"
   ]
  }
 ],
 "metadata": {
  "language_info": {
   "name": "python"
  }
 },
 "nbformat": 4,
 "nbformat_minor": 2
}
