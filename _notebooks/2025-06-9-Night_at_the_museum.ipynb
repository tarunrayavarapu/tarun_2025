{
 "cells": [
  {
   "cell_type": "raw",
   "metadata": {
    "vscode": {
     "languageId": "raw"
    }
   },
   "source": [
    "---\n",
    "layout: post\n",
    "title: Night at the Museum June 4th 2025\n",
    "description: Night at the Museum Reflection\n",
    "type: issues\n",
    "comments: true\n",
    "---"
   ]
  },
  {
   "cell_type": "markdown",
   "metadata": {},
   "source": [
    "\n",
    "## 🎨 Night at the Museum Showcase — June 2025\n",
    "\n",
    "On **June 7th, 2025**, our AP CSP class held its final **Night at the Museum Showcase** for this trimester. This was a chance for everyone to present their projects to teachers, students, and families — showing off what we've built, explaining our ideas, and getting real-time feedback.\n",
    "\n",
    "---\n",
    "\n",
    "## 📊 My Project: **Grade Predictor + AP Exam Predictor**\n",
    "\n",
    "![Grade Predictor](https://i.imgur.com/DHLGTi6.jpeg)\n",
    "\n",
    "For this showcase, I presented our **Grade Predictor and AP Exam Predictor** features, which are part of the **Palomar Health Student Portal** we've been building throughout the trimester.  \n",
    "\n",
    "**Key Features:**\n",
    "- ✅ Predicts final trimester grades based on class participation, work habits, and assessment data.\n",
    "- ✅ Calculates an estimated AP score using a machine learning model trained on previous students' data.\n",
    "- ✅ Integrates with our user API and authentication system.\n",
    "- ✅ Clean, dark-themed frontend with input sliders and prediction results displayed instantly.\n",
    "\n",
    "**Why It Matters:**  \n",
    "Many students stress about their grades and AP performance. Our tool makes it easier to track progress and set goals by giving predictive insights based on your actual work. It was super rewarding to watch people test their own scores during the event!\n",
    "\n",
    "---\n",
    "\n",
    "## 🔫 Nolan & Vincent’s Project: **ShotSpot**\n",
    "\n",
    "![ShotSpot](https://i.imgur.com/NcjAAOG.jpeg)\n",
    "\n",
    "Another standout project was **ShotSpot** by **Nolan and Vincent**. It’s an impressive data-driven basketball shot tracker and analytics tool.\n",
    "\n",
    "**Project Features:**\n",
    "- 📈 Records shot data (makes, misses, shot location)\n",
    "- 🏀 Generates performance stats and heatmaps\n",
    "- 💾 LocalStorage-based shot logs\n",
    "- 🎨 Clean interface with visual court diagrams\n",
    "\n",
    "**GitHub Repo:** [ShotSpot by Tvick22](https://github.com/Tvick22/ShotSpot)\n",
    "\n",
    "**Why It’s Cool:**  \n",
    "It’s a practical tool for hoopers to track their performance over time and make adjustments. Several people at the showcase gave them feedback and ideas for future updates.\n",
    "\n",
    "---\n",
    "\n",
    "## ✨ Final Thoughts\n",
    "\n",
    "This Night at the Museum was a great way to close out AP CSP. It felt amazing seeing our projects live, explaining how everything works, and hearing people's reactions.  \n",
    "\n",
    "I’m proud of how far we’ve come this year — from simple static pages to full-stack apps with databases, APIs, and AI features. Can’t wait to build even more in the future.\n",
    "\n",
    "---\n",
    "\n",
    "🖥️ **View all my projects here:** [Tarun's CSP Blog](https://tarunrayavarapu.github.io/tarun_2025/blogs/)\n"
   ]
  }
 ],
 "metadata": {
  "kernelspec": {
   "display_name": "venv",
   "language": "python",
   "name": "python3"
  },
  "language_info": {
   "codemirror_mode": {
    "name": "ipython",
    "version": 3
   },
   "file_extension": ".py",
   "mimetype": "text/x-python",
   "name": "python",
   "nbconvert_exporter": "python",
   "pygments_lexer": "ipython3",
   "version": "3.13.2"
  }
 },
 "nbformat": 4,
 "nbformat_minor": 2
}
